{
 "cells": [
  {
   "cell_type": "markdown",
   "metadata": {},
   "source": [
    "<div dir=\"rtl\" style=\"text-align: right;\">\n",
    "<h1>تمرین: خواندن مجموعه داده‌های Auto MPG</h1>\n",
    "<p>در این تمرین، مجموعه  <a href=\"http://archive.ics.uci.edu/dataset/9/auto+mpg\">داده‌های Auto MPG</a> \n",
    "\n",
    " را بخوانید. در این مستندات، شما اطلاعات ویژگی‌ها را پیدا خواهید کرد که نام ستون‌ها را لیست می‌کند. فضاهای خالی را با _ در نام‌های ستون‌ها پر کنید.</p>\n",
    "<p>روی پوشه داده‌ها کلیک کنید و سپس فایل \n",
    "auto-mpg.data\n",
    " را دانلود کنید. این تمرین نسبتاً ساده است، شما فقط باید مجموعه داده‌ها را بخوانید و شکل آن را برگردانید.</p>\n",
    "<p>این فایل با فضای خالی جدا شده است، بنابراین شما باید مستندات \n",
    "Pandas\n",
    " را برای پارامتر \n",
    " delim_whitespace\n",
    "  مرور کنید.</p>\n",
    "\n",
    "</div>\n"
   ]
  },
  {
   "cell_type": "code",
   "execution_count": null,
   "metadata": {},
   "outputs": [],
   "source": [
    "import pandas as pd\n",
    "\n",
    "def read_csv():\n",
    "    return (0,0) # شکل shape"
   ]
  }
 ],
 "metadata": {
  "language_info": {
   "name": "python"
  }
 },
 "nbformat": 4,
 "nbformat_minor": 2
}
