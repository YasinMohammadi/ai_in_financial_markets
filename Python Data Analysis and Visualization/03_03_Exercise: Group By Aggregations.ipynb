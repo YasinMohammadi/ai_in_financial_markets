{
 "cells": [
  {
   "cell_type": "markdown",
   "metadata": {},
   "source": [
    "<div dir=\"rtl\" style=\"text-align: right;\">\n",
    "<h1>تمرین: گروه‌بندی</h1>\n",
    "<p>این تمرین توانایی شما را در انجام  گروه‌بندی روی یک دیتافریم پانداس خواهد سنجید. </p>\n",
    "\n",
    "<h2>تجمعات گروه‌بندی</h2>\n",
    "<p>ما از همان تابعی که در تمرین خواندن داده ایجاد کردیم، برای خواندن دیتافریم پانداس استفاده خواهیم کرد.</p>\n",
    "<p>ا تابع  \n",
    "group_aggregation\n",
    " را تکمیل کنید به صورتی که یک دیتافریم یک متغیر گروه و یک متغیر تجمعی را بگیرد. تابع بر اساس متغیر گروه گروه‌بندی خواهد کرد و میانگین متغیر تجمعی را برای هر گروه محاسبه می‌کند. تابع شما دیتافریم گروه‌بندی شده را برمی‌گرداند.</p>\n",
    "\n",
    "</div>\n"
   ]
  },
  {
   "cell_type": "code",
   "execution_count": null,
   "metadata": {},
   "outputs": [],
   "source": [
    "import pandas as pd\n",
    "def read_csv():\n",
    "   \n",
    "    names = [\"mpg\", \"cylinders\", \"displacement\", \"horsepower\", \"weight\", \"acceleration\", \"model_year\", \"origin\", \"car_name\"]\n",
    "    \n",
    "    df = pd.read_csv(\"data/02_12_auto-mpg.data\", header=None, names=names, delim_whitespace=True)\n",
    "    return df\n",
    "\n",
    "df = read_csv() \n",
    "\n",
    "def group_aggregation(df, group_var, agg_var):\n",
    "    return 0 # تابع را تکمیل کنید"
   ]
  }
 ],
 "metadata": {
  "language_info": {
   "name": "python"
  }
 },
 "nbformat": 4,
 "nbformat_minor": 2
}
