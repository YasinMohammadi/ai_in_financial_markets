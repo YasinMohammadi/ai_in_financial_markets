{
 "cells": [
  {
   "cell_type": "markdown",
   "metadata": {},
   "source": [
    "<div dir=\"rtl\" style=\"text-align: right;\">\n",
    "<h1>مصورسازی با نمودارهای میله‌ای</h1>\n",
    "\n",
    "<h2>معرفی </h2>\n",
    "<p>نمودارهای میله‌ای هنگام مقایسه دسته‌بندی‌ها مفید هستند. به عنوان مثال، نمودار میله‌ای زیر مقادیر سود سرمایه را بین جنسیت‌ها مقایسه می‌کند.</p>\n",
    "\n",
    "<p>نمودار میله‌ای به ما امکان می‌دهد به راحتی میانگین طول کاسبرگ برای هر یک از سه گونه گل زنبق در مجموعه داده‌های \n",
    "Iris\n",
    " را ببینیم</p>\n",
    "\n",
    "<p>نمودار میله‌ای ایجاد شده از کد داده شده به صورت بصری میانگین طول کاسبرگ برای هر یک از سه گونه گل زنبق در مجموعه داده‌های Iris را نمایش می‌دهد: Setosa، Versicolour، و Virginica.</p>\n",
    "\n",
    "<p>ابزار</p>\n",
    "\n",
    "<h2>نمودارهای میله‌ای در پایتون</h2>\n",
    "<p>ما می‌توانیم این نمودار میله‌ای را با استفاده از دستور <code>barplot()</code> در Seaborn ایجاد کنیم.</p>\n",
    "\n",
    "\n",
    "\n",
    "\n",
    "<p>اولین آرگومان به دستور، ستونی است که برای گروه‌ها استفاده می‌شود. در نمودار زیر نژاد گل.</p>\n",
    "<p>آرگومان دوم، ستونی است که برای مقایسه استفاده می‌شود. در نمودار پایین طول کاسبرگ.</p>\n",
    "<p>بیایید به یک مثال با داده‌های \n",
    "Iris\n",
    " ما نگاه کنیم:</p>\n",
    "\n",
    "</div>\n"
   ]
  },
  {
   "cell_type": "code",
   "execution_count": 29,
   "metadata": {},
   "outputs": [
    {
     "data": {
      "image/png": "[encoded data removed]",
      "text/plain": [
       "<Figure size 640x480 with 1 Axes>"
      ]
     },
     "metadata": {},
     "output_type": "display_data"
    }
   ],
   "source": [
    "from sklearn.datasets import load_iris\n",
    "import pandas as pd\n",
    "import seaborn as sns\n",
    "import matplotlib.pyplot as plt\n",
    "# استایل کردن نمودار\n",
    "sns.set(style='ticks', palette='Set2')\n",
    "\n",
    "# باگذاری داده\n",
    "data = load_iris()\n",
    "df = pd.DataFrame(data=data.data, columns=data.feature_names)\n",
    "\n",
    "# تبدیل به داده دسته‌بندی\n",
    "df['species'] = pd.Categorical.from_codes(data.target, data.target_names)\n",
    "\n",
    "# ایجاد نمودار میله‌ای\n",
    "sns.barplot(x='species', y='sepal length (cm)', data=df)\n",
    "# حذف برخی خطوط و حاشیه‌ها\n",
    "sns.despine()"
   ]
  },
  {
   "cell_type": "markdown",
   "metadata": {},
   "source": [
    "<div dir=\"rtl\" style=\"text-align: right;\">\n",
    "\n",
    "\n",
    "\n",
    "\n",
    "\n",
    "<p>در کد، ما داده نژاد را به صورت دسته‌بندی در میاوریم تا تصویرسازی راحت‌تری داشته باشیم.</p>\n",
    "\n",
    "<p>اولین آرگومان به دستور <code>barplot()</code> ستون \n",
    "species\n",
    " و آرگومان دوم ستون \n",
    " sepal length\n",
    "  است. بنابراین، نمودار مقدار \n",
    "  sepal length\n",
    "   را بر اساس species نشان می‌دهد.</p>\n",
    "<p>Seaborn\n",
    " همچنین خطوط خطا را (خطوط سیاه) نمایش می‌دهد. خطوط خطا از طریق بوت‌استرپ محاسبه می‌شوند که داده‌های ما را به طور تصادفی با جایگزینی مجدد نمونه‌برداری می‌کند. سپس خطوط خطای ۹۵٪ که درصدهای ۹۵ و ۵ هستند، را رسم می‌کند.</p>\n",
    "<p>شما می‌توانید تمام گزینه‌ها برای این نمودار را <a href=\"https://seaborn.pydata.org/generated/seaborn.barplot.html\">اینجا</a> ببینید.</p>\n",
    "\n",
    "</div>"
   ]
  }
 ],
 "metadata": {
  "kernelspec": {
   "display_name": "venv",
   "language": "python",
   "name": "python3"
  },
  "language_info": {
   "codemirror_mode": {
    "name": "ipython",
    "version": 3
   },
   "file_extension": ".py",
   "mimetype": "text/x-python",
   "name": "python",
   "nbconvert_exporter": "python",
   "pygments_lexer": "ipython3",
   "version": "3.11.8"
  }
 },
 "nbformat": 4,
 "nbformat_minor": 2
}
