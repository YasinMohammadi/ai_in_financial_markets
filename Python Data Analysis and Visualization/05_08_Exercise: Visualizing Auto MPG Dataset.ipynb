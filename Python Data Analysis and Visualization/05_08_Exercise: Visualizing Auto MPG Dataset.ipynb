{
 "cells": [
  {
   "cell_type": "markdown",
   "metadata": {},
   "source": [
    "<div dir=\"rtl\" style=\"text-align: right;\">\n",
    "<h1>تمرین: مصورسازی مجموعه داده‌های Auto MPG</h1>\n",
    "\n",
    "<p>در چالش‌های زیر، ما از همان دیتافریمی که در تمرین خواندن داده‌ها خوانده شده است، استفاده خواهیم کرد.</p>\n",
    "\n",
    "<h2>نمودار پراکندگی</h2>\n",
    "<p>یک تابع اضافی به نام <code>scatter_plot</code> ایجاد کنید که یک دیتافریم <code>df</code> را بگیرد و رابطه بین دو ویژگی زیر را نمایش دهد:</p>\n",
    "<ul>\n",
    "<li>جابجایی روی محور x</li>\n",
    "<li>شتاب روی محور y</li>\n",
    "</ul>\n",
    "\n",
    "\n",
    "</div>\n"
   ]
  },
  {
   "cell_type": "code",
   "execution_count": null,
   "metadata": {},
   "outputs": [],
   "source": [
    "import pandas as pd\n",
    "import seaborn as sns\n",
    "\n",
    "def read_csv():\n",
    "    # تعیین نام ستون‌ها\n",
    "    names = [\"mpg\", \"cylinders\", \"displacement\", \"horsepower\", \"weight\", \"acceleration\", \"model_year\", \"origin\", \"car_name\"]\n",
    "    # خواندن فایل \n",
    "    df = pd.read_csv(\"statics/data/02_12_auto-mpg.data\", header=None, names=names, delim_whitespace=True)\n",
    "    return df\n",
    "\n",
    "# ساخت نمودار پراکندگی\n",
    "def scatter_plot(df):\n",
    "    return\n",
    "\n",
    "# فراخوانی تابع نمودار پراکندگی\n",
    "scatter_plot(read_csv())"
   ]
  },
  {
   "cell_type": "markdown",
   "metadata": {},
   "source": [
    "<div dir=\"rtl\" style=\"text-align: right;\">\n",
    "\n",
    "\n",
    "\n",
    "\n",
    "<h2>نمودار میله‌ای</h2>\n",
    "<p>یک تابع اضافی به نام <code>bar_plot</code> ایجاد کنید که یک دیتافریم <code>df</code> را بگیرد و سیلندرهای تمام خودروها از سال مدل ۱۹۷۵ و شرکت فورد را مقایسه کند.</p>\n",
    "<p>برای بررسی اینکه آیا یک خودرو متعلق به شرکت فورد است، می‌توانید از خط زیر استفاده کنید:</p>\n",
    "<p><code>df.car_name.str.contains('ford')</code></p>\n",
    "<p>برای بررسی اینکه آیا خودرو متعلق به سال مدل ۱۹۷۵ است، می‌توانید از خط زیر استفاده کنید:</p>\n",
    "<p><code>df[\"model_year\"].isin([75])</code></p>\n",
    "\n",
    "\n",
    "\n",
    "\n",
    "\n",
    "\n",
    "\n",
    "\n",
    "</div>"
   ]
  },
  {
   "cell_type": "code",
   "execution_count": null,
   "metadata": {},
   "outputs": [],
   "source": [
    "import pandas as pd\n",
    "import seaborn as sns\n",
    "\n",
    "def read_csv():\n",
    "    # تعیین نام ستون‌ها\n",
    "    names = [\"mpg\", \"cylinders\", \"displacement\", \"horsepower\", \"weight\", \"acceleration\", \"model_year\", \"origin\", \"car_name\"]\n",
    "    # خواندن فایل \n",
    "    df = pd.read_csv(\"statics/data/02_12_auto-mpg.data\", header=None, names=names, delim_whitespace=True)\n",
    "    return df\n",
    "\n",
    "# ساخت نمودار میله‌ای\n",
    "def bar_plot(df):\n",
    "    return\n",
    "\n",
    "# فراخوانی تابع\n",
    "bar_plot(read_csv())"
   ]
  },
  {
   "cell_type": "markdown",
   "metadata": {},
   "source": [
    "<div dir=\"rtl\" style=\"text-align: right;\">\n",
    "\n",
    "\n",
    "\n",
    "<h2>نمودار خطی</h2>\n",
    "<p>یک تابع اضافی به نام <code>line_plot</code> ایجاد کنید که یک دیتافریم <code>df</code> را بگیرد و سپس تغییرات وزن در طول سال‌ها برای خودروهای شرکت فورد را نمایش دهد.</p>\n",
    "\n",
    "\n",
    "</div>"
   ]
  },
  {
   "cell_type": "code",
   "execution_count": null,
   "metadata": {},
   "outputs": [],
   "source": [
    "import pandas as pd\n",
    "import seaborn as sns\n",
    "\n",
    "def read_csv():\n",
    "    # تعیین نام ستون‌ها\n",
    "    names = [\"mpg\", \"cylinders\", \"displacement\", \"horsepower\", \"weight\", \"acceleration\", \"model_year\", \"origin\", \"car_name\"]\n",
    "    # خواندن فایل \n",
    "    df = pd.read_csv(\"statics/data/02_12_auto-mpg.data\", header=None, names=names, delim_whitespace=True)\n",
    "    return df\n",
    "\n",
    "# ساخت نمودار خطی\n",
    "def bar_plot(df):\n",
    "    return\n",
    "\n",
    "# فراخوانی تابع\n",
    "bar_plot(read_csv())"
   ]
  }
 ],
 "metadata": {
  "language_info": {
   "name": "python"
  }
 },
 "nbformat": 4,
 "nbformat_minor": 2
}
