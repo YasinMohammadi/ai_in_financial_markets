{
 "cells": [
  {
   "cell_type": "markdown",
   "metadata": {},
   "source": [
    "<div dir=\"rtl\" style=\"text-align: right;\">\n",
    "<h1>ناهنجاری‌ها</h1>\n",
    "\n",
    "<h2>ناهنجاری چیست؟</h2>\n",
    "<p>یکی دیگر از زمینه‌های پاک‌سازیداده می‌تواند کار با ناهنجاری‌ها باشد. ابتدا، چگونه یک ناهنجاری را تعریف می‌کنید؟ این می‌تواند به دانش زمینه‌ای و اطلاعات دیگر نیاز داشته باشد، اما یک راه ساده برای شروع، نگاه کردن به نمودارهای جعبه‌ای است:</p>\n",
    "<p>نمودار جعبه‌ای ساعت‌های کار در هفته</p>\n",
    "\n",
    "</div>"
   ]
  },
  {
   "cell_type": "code",
   "execution_count": 10,
   "metadata": {},
   "outputs": [
    {
     "data": {
      "image/png": "[encoded data removed]",
      "text/plain": [
       "<Figure size 640x480 with 1 Axes>"
      ]
     },
     "metadata": {},
     "output_type": "display_data"
    }
   ],
   "source": [
    "import pandas as pd\n",
    "\n",
    "# \n",
    "names = ['age', 'workclass', 'fnlwgt', 'education', 'educationnum', 'maritalstatus', 'occupation', 'relationship', 'race',\n",
    "        'sex', 'capitalgain', 'capitalloss', 'hoursperweek', 'nativecountry', 'label']\n",
    "train_df = pd.read_csv(\"statics/data/02_08_01_adult.data\", header=None, names=names)\n",
    "\n",
    "# نمودار جعبه‌ای ساعات کار در هفته\n",
    "bbox = train_df['hoursperweek'].plot(kind=\"box\")\n"
   ]
  },
  {
   "cell_type": "markdown",
   "metadata": {},
   "source": [
    "<div dir=\"rtl\" style=\"text-align: right;\">\n",
    "\n",
    "\n",
    "\n",
    "<h2>شناسایی ناهنجاری</h2>\n",
    "<p>در اینجا، هر چیزی خارج از ویسکرز\n",
    "(whiskers)\n",
    " می‌تواند به عنوان یک ناهنجاری در نظر گرفته شود. به عنوان یک مرور، ویسکرز خطوطی هستند که از جعبه بیرون زده و ۱.۵ برابر محدوده چارک اول و سوم هستند به عبارتی فاصله بین درصدهای ۲۵ و ر۷۵ داده است.</p>\n",
    " <p>اینجا نمونه کدی برای شناسایی ناهنجاری‌ها آورده شده است.</p>\n",
    "\n",
    "\n",
    "</div>"
   ]
  },
  {
   "cell_type": "code",
   "execution_count": 9,
   "metadata": {},
   "outputs": [
    {
     "data": {
      "text/html": [
       "<div>\n",
       "<style scoped>\n",
       "    .dataframe tbody tr th:only-of-type {\n",
       "        vertical-align: middle;\n",
       "    }\n",
       "\n",
       "    .dataframe tbody tr th {\n",
       "        vertical-align: top;\n",
       "    }\n",
       "\n",
       "    .dataframe thead th {\n",
       "        text-align: right;\n",
       "    }\n",
       "</style>\n",
       "<table border=\"1\" class=\"dataframe\">\n",
       "  <thead>\n",
       "    <tr style=\"text-align: right;\">\n",
       "      <th></th>\n",
       "      <th>age</th>\n",
       "      <th>fnlwgt</th>\n",
       "      <th>educationnum</th>\n",
       "      <th>capitalgain</th>\n",
       "      <th>capitalloss</th>\n",
       "      <th>hoursperweek</th>\n",
       "    </tr>\n",
       "  </thead>\n",
       "  <tbody>\n",
       "    <tr>\n",
       "      <th>0.25</th>\n",
       "      <td>28.0</td>\n",
       "      <td>117827.0</td>\n",
       "      <td>9.0</td>\n",
       "      <td>0.0</td>\n",
       "      <td>0.0</td>\n",
       "      <td>40.0</td>\n",
       "    </tr>\n",
       "    <tr>\n",
       "      <th>0.75</th>\n",
       "      <td>48.0</td>\n",
       "      <td>237051.0</td>\n",
       "      <td>12.0</td>\n",
       "      <td>0.0</td>\n",
       "      <td>0.0</td>\n",
       "      <td>45.0</td>\n",
       "    </tr>\n",
       "    <tr>\n",
       "      <th>iqr</th>\n",
       "      <td>20.0</td>\n",
       "      <td>119224.0</td>\n",
       "      <td>3.0</td>\n",
       "      <td>0.0</td>\n",
       "      <td>0.0</td>\n",
       "      <td>5.0</td>\n",
       "    </tr>\n",
       "    <tr>\n",
       "      <th>whisker_length</th>\n",
       "      <td>30.0</td>\n",
       "      <td>178836.0</td>\n",
       "      <td>4.5</td>\n",
       "      <td>0.0</td>\n",
       "      <td>0.0</td>\n",
       "      <td>7.5</td>\n",
       "    </tr>\n",
       "    <tr>\n",
       "      <th>max_whisker</th>\n",
       "      <td>78.0</td>\n",
       "      <td>415887.0</td>\n",
       "      <td>16.5</td>\n",
       "      <td>0.0</td>\n",
       "      <td>0.0</td>\n",
       "      <td>52.5</td>\n",
       "    </tr>\n",
       "    <tr>\n",
       "      <th>min_whisker</th>\n",
       "      <td>-2.0</td>\n",
       "      <td>-61009.0</td>\n",
       "      <td>4.5</td>\n",
       "      <td>0.0</td>\n",
       "      <td>0.0</td>\n",
       "      <td>32.5</td>\n",
       "    </tr>\n",
       "  </tbody>\n",
       "</table>\n",
       "</div>"
      ],
      "text/plain": [
       "                 age    fnlwgt  educationnum  capitalgain  capitalloss  \\\n",
       "0.25            28.0  117827.0           9.0          0.0          0.0   \n",
       "0.75            48.0  237051.0          12.0          0.0          0.0   \n",
       "iqr             20.0  119224.0           3.0          0.0          0.0   \n",
       "whisker_length  30.0  178836.0           4.5          0.0          0.0   \n",
       "max_whisker     78.0  415887.0          16.5          0.0          0.0   \n",
       "min_whisker     -2.0  -61009.0           4.5          0.0          0.0   \n",
       "\n",
       "                hoursperweek  \n",
       "0.25                    40.0  \n",
       "0.75                    45.0  \n",
       "iqr                      5.0  \n",
       "whisker_length           7.5  \n",
       "max_whisker             52.5  \n",
       "min_whisker             32.5  "
      ]
     },
     "execution_count": 9,
     "metadata": {},
     "output_type": "execute_result"
    }
   ],
   "source": [
    "q_df = train_df.quantile([.25, .75], numeric_only=True)\n",
    "q_df.loc['iqr'] = q_df.loc[0.75] - q_df.loc[0.25] # دامنه میان چارکی\n",
    "q_df.loc['whisker_length'] = 1.5 * q_df.loc['iqr']\n",
    "q_df.loc['max_whisker'] = q_df.loc['whisker_length'] + q_df.loc[0.75]\n",
    "q_df.loc['min_whisker'] = q_df.loc[0.25] - q_df.loc['whisker_length']\n",
    "q_df"
   ]
  },
  {
   "cell_type": "markdown",
   "metadata": {},
   "source": [
    "<div dir=\"rtl\" style=\"text-align: right;\">\n",
    "\n",
    "<h2>حذف ناهنجاری</h2>\n",
    "<p>پس از اینکه برخی ناهنجاری‌ها را پیدا کرده‌ایم، باید چه کاری انجام دهیم؟</p>\n",
    "\n",
    "<p>مانند داده‌های گمشده، باید از خود بپرسید، چرا این ناهنجاری‌ها وجود دارند؟ اگر آن‌ها واقعاً بخشی از داده‌های شما هستند، احتمالاً می‌خواهید آن‌ها را نگه دارید. با حذف آن‌ها، داده‌های شما از حقیقت دور می‌شوند. اگر آن‌ها اشتباه هستند، به عنوان مثال، برای سن‌های بیش از ۵۰۰، می‌توانید تقریبا مطمئن باشید که داده‌های درستی نیستند و این ردیف‌ها را حذف کنید اگر داده‌های کافی دارید یا شاید یک مقدار بهتر وارد کنید. یا حتی بهتر، سعی کنید کشف کنید که چگونه این مقادیر بد به وجود آمده‌اند و آن‌ها را اصلاح کنید. ممکن است \n",
    "pipeline\n",
    " داده‌های شما مشکل داشته باشد، اما داده‌های خام هنوز خوب هستند.</p>\n",
    "<p>در نهایت، همیشه خوب است که فرایند تولید داده را در نظر بگیرید. آیا داده‌های شما از یک نمونه می‌آیند؟ اگر بله، شاید نماینده خوبی نباشد، بنابراین چیزهایی که به نظر ناهنجاری‌ها در نمونه شما می‌آیند، در واقع در جمعیت نیستند.</p>\n",
    "<p>عوامل زیادی برای در نظر گرفتن وجود دارد و این‌ها فقط برخی از آن‌ها هستند. نکته اصلی این است که از ناهنجاری‌های خود آگاه باشید، نادیده گرفتن یا حذف آن‌ها بدون فکر معمولاً بهترین ایده نیست.</p>\n",
    "</div>"
   ]
  }
 ],
 "metadata": {
  "kernelspec": {
   "display_name": "venv",
   "language": "python",
   "name": "python3"
  },
  "language_info": {
   "codemirror_mode": {
    "name": "ipython",
    "version": 3
   },
   "file_extension": ".py",
   "mimetype": "text/x-python",
   "name": "python",
   "nbconvert_exporter": "python",
   "pygments_lexer": "ipython3",
   "version": "3.11.8"
  }
 },
 "nbformat": 4,
 "nbformat_minor": 2
}
