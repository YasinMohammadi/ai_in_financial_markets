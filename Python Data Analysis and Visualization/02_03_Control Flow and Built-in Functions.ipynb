{
 "cells": [
  {
   "cell_type": "markdown",
   "metadata": {},
   "source": [
    "<div dir=\"rtl\" style=\"text-align: right;\">\n",
    "<h1>ساختارهای کنترلی در پایتون</h1>\n",
    "<h2>ساختار if-else</h2>\n",
    "<p>دستورات \n",
    "if-then\n",
    "  جزء اصلی هر زبان برنامه‌نویسی هستند. به این معنی که اگر شرایط خاصی برآورده شود، سپس اتفاقی می‌افتد. در پایتون، \n",
    " elif\n",
    "  به معنای \n",
    "  else if\n",
    "   است، یعنی اگر شرایط قبلی برآورده نشده بود، شرط جدیدی را بررسی کنید. \n",
    "else\n",
    " شرطی جامع برای هر چیزی است که باقی‌مانده است. پایتون از سینتکس زیر پیروی می‌کند:</p>\n",
    "</div>\n",
    "\n",
    "\n",
    "\n"
   ]
  },
  {
   "cell_type": "markdown",
   "metadata": {
    "vscode": {
     "languageId": "html"
    }
   },
   "source": [
    "<code>if شرط:\n",
    "  اتفاق\n",
    "elif شرط:\n",
    "  اتفاق\n",
    "else:\n",
    "  اتفاق</code>"
   ]
  },
  {
   "cell_type": "markdown",
   "metadata": {},
   "source": [
    "<div dir=\"rtl\" style=\"text-align: right;\">\n",
    "برای مثال می‌توانید کد زیر را مشاهده کنید:\n",
    "</div>"
   ]
  },
  {
   "cell_type": "code",
   "execution_count": 11,
   "metadata": {},
   "outputs": [
    {
     "name": "stdout",
     "output_type": "stream",
     "text": [
      "Older than 40\n",
      "None\n"
     ]
    }
   ],
   "source": [
    "def age_check(age): # تابعی برای چک کردن سن\n",
    "\n",
    "    if age > 40:  # اگر بیش از چهل سال داشت بیش‌از چهل را چاپ می‌کند\n",
    "        print(\"Older than 40\")\n",
    "    elif age > 30 and age <= 40: # اگر بین سی تا چهل سال بود بین سی تا چهل را چاپ می‌کند\n",
    "        print(\"Between 30 and 40\")\n",
    "    else:  # اگر هیچ کدام از شرط‌های بالا برقرار نبود غیره را چاپ می‌کند.\n",
    "        print(\"Other\")\n",
    "\n",
    "print(age_check(41))"
   ]
  },
  {
   "cell_type": "markdown",
   "metadata": {},
   "source": [
    "<div dir=\"rtl\" style=\"text-align: right;\">\n",
    "<h2>ساختار for</h2>\n",
    "<p>حلقه‌ها به شما اجازه می‌دهند بر روی یک ماهیت تکرارپذیر عمل تکرار را انجام دهید. احتمالا این تعریف چندان واضح نباشد، پس بیایید به مورد استفاده رایج‌تر، لیست‌ها، نگاه کنیم. یک حلقه به شما امکان می‌دهد بر روی یک لیست یا سایر انواع داده‌ها که اجازه تکرار را می‌دهند، تکرار کنید.</p>\n",
    "<p>شما می‌توانید ماهیت تکرارپذیز خود را در دستور \n",
    "enumerate()\n",
    " قرار دهید تا یک شمارنده به حلقه خود اضافه کنید. این کار زمانی مفید است که بخواهید بر روی لیستی از مقادیر عمل تکرار را انجام دهید در حالی که همچنان به ایندکس آن دسترسی داشته باشید.</p>\n",
    "</div>\n",
    "\n"
   ]
  },
  {
   "cell_type": "code",
   "execution_count": 12,
   "metadata": {},
   "outputs": [
    {
     "name": "stdout",
     "output_type": "stream",
     "text": [
      "Index: 0\n",
      "Value: Jafar\n",
      "Index: 1\n",
      "Value: Yain\n",
      "Index: 2\n",
      "Value: Saina\n"
     ]
    }
   ],
   "source": [
    "names = ['Jafar', 'Yain', 'Saina']   # لیست اسامی\n",
    "\n",
    "for i, name in enumerate(names):     # حلقه تکرار روی اسامی\n",
    "    print(\"Index: {0}\".format(i))    # چاپ کردن ایندکس\n",
    "    print(\"Value: {0}\".format(name)) # چاپ کردن مقدار ایندکس"
   ]
  },
  {
   "cell_type": "markdown",
   "metadata": {},
   "source": [
    "<div dir=\"rtl\" style=\"text-align: right;\">\n",
    "\n",
    "<p>در مبحث لیست‌ها و حلقه‌ها، یک راه آسان برای ترکیب این‌دو در پایتون وجود دارد که از آن با عنوان\n",
    "list comprehensions\n",
    "یاد می‌شود.\n",
    " به طور اساسی، \n",
    " list comprehensions\n",
    "  به شما اجازه می‌دهد بر اساس یک لیست موجود به طور مختصر یک لیست جدید ایجاد کنید.</p>\n",
    "<p>در اینجا راهی برای ایجاد یک لیست از اعداد بزرگتر از ۵ (تا ۱۴) با استفاده از \n",
    "list comprehensions\n",
    " شده است.</p>\n",
    "\n",
    "</div>"
   ]
  },
  {
   "cell_type": "code",
   "execution_count": 13,
   "metadata": {},
   "outputs": [
    {
     "name": "stdout",
     "output_type": "stream",
     "text": [
      "[6, 7, 8, 9, 10, 11, 12, 13, 14]\n"
     ]
    }
   ],
   "source": [
    "numbers_gt_5 = [x for x in range(1,15) if x > 5]  # حلقه تمامی اعداد را تکرار می‌کند اما تنها آنهایی را که از شرط بیشتر هستند در لیست می‌نشاند\n",
    "print(numbers_gt_5)"
   ]
  },
  {
   "cell_type": "markdown",
   "metadata": {},
   "source": [
    "<div dir=\"rtl\" style=\"text-align: right;\">\n",
    "<h1>توابع داخلی در پایتون</h1>\n",
    "<h2>تابع sort</h2>\n",
    "<p> زمانی که در مورد لیست‌ها صحبت می‌کنیم یکی از شایع‌ترین کارها مرتب‌سازی است و خوشبختانه در پایتون این عمل بسیار ساده است:</p>\n",
    "\n"
   ]
  },
  {
   "cell_type": "code",
   "execution_count": 14,
   "metadata": {},
   "outputs": [
    {
     "name": "stdout",
     "output_type": "stream",
     "text": [
      "[-5, 1, 2, 10, 22]\n"
     ]
    }
   ],
   "source": [
    "my_list = [2, 10, 1, -5, 22]\n",
    "my_list.sort()  # مرتب‌سازی لیست\n",
    "\n",
    "print(my_list)"
   ]
  },
  {
   "cell_type": "markdown",
   "metadata": {},
   "source": [
    "<div dir=\"rtl\" style=\"text-align: right;\">\n",
    "\n",
    "<p>اگر دقت کنید متوجه خواهید شد که تابع بالا لیست رااز کوچکترین به بزرگترین مرتب می‌کند. اگر می‌خواهید قابلیت بیشتری به مرتب‌سازی خود اضافه کنید، پیشنهاد می‌کنم از تابع \n",
    "sorted()\n",
    " استفاده کنید.</p>\n",
    "<p>این به شما امکان می‌دهد با پارامتر \n",
    "reverse\n",
    "، ترتیب را معکوس کنید، و از یک پارامتر کلیدی برای مشخص کردن اساس مرتب‌سازی خود استفاده کنید. به عنوان مثال، به جای یک مرتب‌سازی عادی، ما می‌توانیم با مقادیر مطلق(اندازه همیشه مثبت) به صورت معکوس مرتب‌سازی کنیم:</p>\n",
    "\n",
    "</div>"
   ]
  },
  {
   "cell_type": "code",
   "execution_count": 15,
   "metadata": {},
   "outputs": [
    {
     "name": "stdout",
     "output_type": "stream",
     "text": [
      "[22, 10, -5, 2, 1]\n"
     ]
    }
   ],
   "source": [
    "my_list = [2, 10, 1, -5, 22]\n",
    "\n",
    "# مرتب‌سازی بر اساس اندازه و به صورت معکوس\n",
    "my_list_sorted_abs = sorted(my_list, key=abs, reverse=True)\n",
    "\n",
    "print(my_list_sorted_abs)"
   ]
  },
  {
   "cell_type": "markdown",
   "metadata": {},
   "source": [
    "<div dir=\"rtl\" style=\"text-align: right;\">\n",
    "<h2>تابع zip</h2>\n",
    "<p>می‌خواهم شما را با تابع \n",
    "zip\n",
    "آشنا کنم.\n",
    " این تابع کمی پیچیده‌تر اما بسیار مفید است.  در اینجا دو مورد استفاده رایج استفاده از این تابع را شرح خواهم داد:</p>\n",
    "<ul>\n",
    "<li>ترکیب دو لیست به یک تاپل</li>\n",
    "<li>شکستن یک تاپل </li>\n",
    "</ul>\n",
    "<p>ترکیب دو لیست به یک تاپل</p>\n",
    "<p>تابع\n",
    "zip\n",
    "  یک تولیدکننده\n",
    "  (generator)\n",
    "   برمی‌گرداند، بنابراین ما اگر بخواهیم آن را چاپ کنیم باید آن را در \n",
    " list()\n",
    "  بپیچیم. توجه داشته باشید که به علت تکرارپذیزی تولیدکننده‌ها اگر بخواهیم آن‌ها را در حلقه استفاده کنیم لازم نیست آن‌ها را تبدیل به لیست کنیم:</p>\n",
    "\n",
    "</div>"
   ]
  },
  {
   "cell_type": "code",
   "execution_count": 16,
   "metadata": {},
   "outputs": [
    {
     "name": "stdout",
     "output_type": "stream",
     "text": [
      "[(1, 'x'), (2, 'y'), (3, 'z')]\n"
     ]
    }
   ],
   "source": [
    "list_1 = [1, 2, 3]  # لیست اول\n",
    "list_2 = ['x', 'y', 'z']  # لیست دوم\n",
    "\n",
    "print(list(zip(list_1, list_2)))  # ادغام و چاپ لیست‌ها"
   ]
  },
  {
   "cell_type": "markdown",
   "metadata": {},
   "source": [
    "<div dir=\"rtl\" style=\"text-align: right;\">\n",
    "\n",
    "<p>شکستن یک لیست تاپل </p>\n",
    "<p>این تابع می‌تواند یک تاپل را به دو تاپل بشکند، برعکس مورد استفاده بالا.</p>\n",
    "\n",
    "</div>"
   ]
  },
  {
   "cell_type": "code",
   "execution_count": 17,
   "metadata": {},
   "outputs": [
    {
     "name": "stdout",
     "output_type": "stream",
     "text": [
      "('x', 'y', 'z')\n",
      "(1, 2, 3)\n"
     ]
    }
   ],
   "source": [
    "pairs = [('x', 1), ('y', 2), ('z', 3)]  # یک لیست از تاپل‌ها\n",
    "letters, numbers = zip(*pairs)  # شکستن به دو تاپل‌ها\n",
    "\n",
    "print(letters)  # چاپ مقدار تاپل‌ها اول\n",
    "print(numbers)  # چاپ مقدار تاپل‌ها دوم"
   ]
  }
 ],
 "metadata": {
  "kernelspec": {
   "display_name": "venv",
   "language": "python",
   "name": "python3"
  },
  "language_info": {
   "codemirror_mode": {
    "name": "ipython",
    "version": 3
   },
   "file_extension": ".py",
   "mimetype": "text/x-python",
   "name": "python",
   "nbconvert_exporter": "python",
   "pygments_lexer": "ipython3",
   "version": "3.11.8"
  }
 },
 "nbformat": 4,
 "nbformat_minor": 2
}
