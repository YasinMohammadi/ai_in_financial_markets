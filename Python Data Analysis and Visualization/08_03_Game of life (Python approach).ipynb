{
 "cells": [
  {
   "cell_type": "markdown",
   "metadata": {},
   "source": [
    "<div dir=\"rtl\" style=\"text-align: right;\">\n",
    "<h2>مثال کدنویسی: بازی زندگی (رویکرد پایتون)</h2>\n",
    "<p>این درس مطالعه موردی بازی زندگی را بحث می‌کند و راه حل آن را با استفاده از پیاده‌سازی پایتون توضیح می‌دهد.</p>\n",
    "\n",
    "<h3>توضیح مسئله</h3>\n",
    "<p>بازی زندگی یک اتوماتون سلولی است که توسط ریاضیدان بریتانیایی جان هورتون کانوی در سال ۱۹۷۰ اختراع شد. این بهترین نمونه شناخته شده از یک اتوماتون سلولی است. \"بازی\" در واقع یک بازی صفر بازیکن است، به این معنا که تکامل آن توسط حالت اولیه‌اش تعیین می‌شود، بدون نیاز به ورودی از بازیکنان انسانی. ارتباط با بازی زندگی از طریق ایجاد یک پیکربندی اولیه و مشاهده چگونگی تکامل آن برقرار می‌شود.</p>\n",
    "\n",
    "<p>جهان بازی زندگی یک شبکه دو بعدی بینهایت از خانه‌های مربعی است که هر کدام در یکی از دو حالت ممکن، زنده یا مرده، قرار دارند. هر سلول با هشت همسایه خود تعامل دارد که سلول‌هایی هستند که مستقیماً به صورت افقی، عمودی یا مورب مجاور هستند.</p>\n",
    "\n",
    "<h3>قوانین</h3>\n",
    "<ul>\n",
    "<li>هر سلول زنده با کمتر از دو همسایه زنده می‌میرد، گویی که تحت جمعیت کم قرار گرفته است.</li>\n",
    "<li>هر سلول زنده با بیش از سه همسایه زنده می‌میرد، گویی که به دلیل ازدحام جمعیتی است.</li>\n",
    "<li>هر سلول زنده با دو یا سه همسایه زنده، بدون تغییر به نسل بعدی زنده می‌ماند.</li>\n",
    "<li>هر سلول مرده با دقیقاً سه همسایه زنده به یک سلول زنده تبدیل می‌شود.</li>\n",
    "</ul>\n",
    "\n",
    "<p>الگوی اولیه 'بذر' سیستم را تشکیل می‌دهد. نسل اول با اعمال همزمان قوانین فوق به هر سلول در بذر ایجاد می‌شود - تولد و مرگ به طور همزمان رخ می‌دهد، و لحظه گسسته‌ای که این اتفاق می‌افتد گاهی اوقات به عنوان تیک نامیده می‌شود. (به عبارت دیگر، هر نسل تابع خالصی از نسل قبلی است.) قوانین به طور مکرر برای ایجاد نسل‌های بعدی اعمال می‌شوند.</p>\n",
    "\n",
    "<p> <a href=\"https://en.wikipedia.org/wiki/Conway%27s_Game_of_Life\">ویکی‌پدیا</a> در مورد بازی زندگی</p>\n",
    "\n",
    "<h3>پیاده‌سازی پایتون</h3>\n",
    "<p>در پایتون  می‌توانیم بازی زندگی را با استفاده از لیستی از لیست‌ها که تخته‌ای را نشان می‌دهد که سلول‌ها قرار است در آن تکامل یابند، کدگذاری کنیم. چنین تخته‌ای با مرزی از 0 مجهز شده است که باعث می‌شود چیزها کمی سریع‌تر شوند زیرا از داشتن نمونه‌های خاص برای مرزها هنگام شمارش تعداد همسایه‌ها جلوگیری می‌کند. ما می‌توانستیم از رابط آرایه پایتون که کارآمدتر است استفاده کنیم اما استفاده از شیء لیست آشنا راحت‌تر است.</p>\n",
    "</div>\n"
   ]
  },
  {
   "cell_type": "code",
   "execution_count": 1,
   "metadata": {},
   "outputs": [],
   "source": [
    "# تولید یک شبکه دوبعدی Z\n",
    "# هر مقدار شاخص نشان‌دهنده یکی از دو حالت ممکن است\n",
    "# 1 به معنای فعال، 0 به معنای مرده\n",
    "Z = [[0,0,0,0,0,0],\n",
    "    [0,0,0,1,0,0],\n",
    "    [0,1,0,1,0,0],\n",
    "    [0,0,1,1,0,0],\n",
    "    [0,0,0,0,0,0],\n",
    "    [0,0,0,0,0,0]]"
   ]
  },
  {
   "cell_type": "markdown",
   "metadata": {},
   "source": [
    "<div dir=\"rtl\" style=\"text-align: right;\">\n",
    "<p>با در نظر گرفتن مرز، شمارش همسایه‌ها ساده است:</p>\n",
    "\n",
    "\n",
    "\n",
    "</div>\n"
   ]
  },
  {
   "cell_type": "code",
   "execution_count": null,
   "metadata": {},
   "outputs": [],
   "source": [
    "def compute_neighbours(Z):  # محاسبه همسایگان Z برای هر سلول\n",
    "  shape = len(Z), len(Z[0])\n",
    "  N  = [[0,]*(shape[0]) for i in range(shape[1])]\n",
    "  for x in range(1,shape[0]-1):\n",
    "    for y in range(1,shape[1]-1):\n",
    "      # تمام سناریوهای ممکن از همسایگان\n",
    "      N[x][y] = Z[x-1][y-1]+Z[x][y-1]+Z[x+1][y-1] \\\n",
    "              + Z[x-1][y]+Z[x+1][y] \\\n",
    "              + Z[x-1][y+1]+Z[x][y+1]+Z[x+1][y+1]\n",
    "      return N"
   ]
  },
  {
   "cell_type": "markdown",
   "metadata": {},
   "source": [
    "<div dir=\"rtl\" style=\"text-align: right;\">\n",
    "\n",
    "<p>برای انجام یک گام در زمان، سپس به سادگی تعداد همسایه‌ها برای هر سلول داخلی را می‌شماریم و کل تخته را بر اساس چهار قانون فوق بروزرسانی می‌کنیم:</p>\n",
    "\n",
    "\n",
    "\n",
    "\n",
    "</div>"
   ]
  },
  {
   "cell_type": "code",
   "execution_count": null,
   "metadata": {},
   "outputs": [],
   "source": [
    "def iterate(Z): \n",
    "  N = compute_neighbours(Z) # تابع compute_neighbors(Z) را فراخوانی کنید\n",
    "  for x in range(1,shape[0]-1): # ابعاد آرایه Z را محاسبه کنید\n",
    "    for y in range(1,shape[1]-1): # شبکه را با توجه به قوانین فوق تکرار و به‌روزرسانی کنید\n",
    "      if Z[x][y] == 1 and (N[x][y] < 2 or N[x][y] > 3):\n",
    "        Z[x][y] = 0 # اگر سلول فعال است و کمتر از ۲ یا بیشتر از ۳ همسایه دارد، آن را غیرفعال کنید\n",
    "      elif Z[x][y] == 0 and N[x][y] == 3:\n",
    "        Z[x][y] = 1 # اگر سلول غیرفعال است و دقیقاً ۳ همسایه دارد، آن را فعال کنید\n",
    "  return Z"
   ]
  },
  {
   "cell_type": "markdown",
   "metadata": {},
   "source": [
    "<div dir=\"rtl\" style=\"text-align: right;\">\n",
    "\n",
    "\n",
    "\n",
    "\n",
    "<p>شکل زیر چهار تکرار در یک منطقه 4x4 را نشان می‌دهد که حالت اولیه آن یک گلایدر است، ساختاری که توسط ریچارد کی. گای در سال ۱۹۷۰ کشف شد.</p>\n",
    "\n",
    "<p>الگوی گلایدر به خاطر تکثیر خود یک گام به صورت مورب در چهار تکرار شناخته شده است.</p>\n",
    "\n",
    "<img src=\"statics/img/08_03_Game of Life.png\" alt=\"Game of Life\" />\n",
    "</div>"
   ]
  },
  {
   "cell_type": "markdown",
   "metadata": {},
   "source": [
    "<div dir=\"rtl\" style=\"text-align: right;\">\n",
    "\n",
    "\n",
    "<h3>پیاده‌سازی کامل</h3>\n",
    "در زیر کد کامل پیاده‌سازی مسئله بالا توسط پایتون آمده است.\n",
    "\n",
    "</div>"
   ]
  },
  {
   "cell_type": "code",
   "execution_count": 3,
   "metadata": {},
   "outputs": [
    {
     "data": {
      "image/png": "[encoded data removed]",
      "text/plain": [
       "<Figure size 1200x300 with 5 Axes>"
      ]
     },
     "metadata": {},
     "output_type": "display_data"
    }
   ],
   "source": [
    "# -----------------------------------------------------------------------------\n",
    "# From Numpy to Python\n",
    "# Copyright (2017) Nicolas P. Rougier - BSD license\n",
    "# More information at https://github.com/rougier/numpy-book\n",
    "# -----------------------------------------------------------------------------\n",
    "\n",
    "# محاسبه همسایه‌های Z برای هر سلول داخلی\n",
    "def compute_neighbours(Z): \n",
    "    shape = len(Z), len(Z[0])\n",
    "    N = [[0, ]*(shape[0]) for i in range(shape[1])]\n",
    "    for x in range(1, shape[0]-1):\n",
    "        for y in range(1, shape[1]-1):\n",
    "            N[x][y] = Z[x-1][y-1]+Z[x][y-1]+Z[x+1][y-1] \\\n",
    "                    + Z[x-1][y]            +Z[x+1][y]   \\\n",
    "                    + Z[x-1][y+1]+Z[x][y+1]+Z[x+1][y+1]\n",
    "    return N\n",
    "\n",
    "# گردش در شبکه و به‌روزرسانی شبکه بر اساس قوانین فوق\n",
    "def iterate(Z): \n",
    "    shape = len(Z), len(Z[0])\n",
    "\n",
    "    N = compute_neighbours(Z) # تابع compute_neighbor(Z) را فراخوانی کنید\n",
    "    for x in range(1, shape[0]-1):\n",
    "        for y in range(1, shape[1]-1):\n",
    "            if Z[x][y] == 1 and (N[x][y] < 2 or N[x][y] > 3):\n",
    "                Z[x][y] = 0\n",
    "            elif Z[x][y] == 0 and N[x][y] == 3:\n",
    "                Z[x][y] = 1\n",
    "    return Z\n",
    "\n",
    "if __name__ == '__main__':\n",
    "    import matplotlib.pyplot as plt\n",
    "    from matplotlib.patches import Rectangle\n",
    "\n",
    "    # ایجاد یک شبکه دو بعدی دارای حالت‌های فعال و غیرفعال\n",
    "    Z = [[0, 0, 0, 0, 0, 0],\n",
    "         [0, 0, 0, 1, 0, 0],\n",
    "         [0, 1, 0, 1, 0, 0],\n",
    "         [0, 0, 1, 1, 0, 0],\n",
    "         [0, 0, 0, 0, 0, 0],\n",
    "         [0, 0, 0, 0, 0, 0]]\n",
    "    \n",
    "     # مشخص کردن اندازه تصویر\n",
    "    figure = plt.figure(figsize=(12, 3))\n",
    "     \n",
    "    # مشخص کردن نام برچسب‌های تصاویر رسم شده\n",
    "    labels = (\"Initial state\",\n",
    "              \"iteration 1\", \"iteration 2\",\n",
    "              \"iteration 3\", \"iteration 4\")\n",
    "    # 4 تکرار\n",
    "    for i in range(5):\n",
    "        ax = plt.subplot(1, 5, i+1, aspect=1, frameon=False)\n",
    "\n",
    "        for x in range(1, 5):  # ساخت یک شبکه با اندازه 4*4 \n",
    "            for y in range(1, 5):\n",
    "                if Z[x][y] == 1:\n",
    "                    facecolor = 'black'\n",
    "                else:\n",
    "                    facecolor = 'white'\n",
    "                rect = Rectangle((x, 5-y), width=0.9, height=0.9,\n",
    "                                 linewidth=1.0, edgecolor='black',\n",
    "                                 facecolor=facecolor)\n",
    "                ax.add_patch(rect)\n",
    "        ax.set_xlim(.9, 5.1)\n",
    "        ax.set_ylim(.9, 5.1)\n",
    "        ax.set_xticks([])\n",
    "        ax.set_yticks([])\n",
    "        ax.set_xlabel(labels[i])\n",
    "\n",
    "        for tick in ax.xaxis.get_major_ticks():\n",
    "            tick.tick1On = tick.tick2On = False\n",
    "        for tick in ax.yaxis.get_major_ticks():\n",
    "            tick.tick1On = tick.tick2On = False\n",
    "\n",
    "        iterate(Z)  # تابع iterate را فراخوانی کنید\n",
    "\n",
    "    plt.tight_layout() # به صورت خودکار پارامترهای زیرمجموعه را تنظیم می‌کند تا در محدوده تصویر جا شود\n",
    "    plt.savefig('statics/img/08_03_Game of Life.png') # تصویر را ذخیره کنید\n",
    "    plt.show()  # تصویر را نمایش دهید"
   ]
  }
 ],
 "metadata": {
  "kernelspec": {
   "display_name": "venv",
   "language": "python",
   "name": "python3"
  },
  "language_info": {
   "codemirror_mode": {
    "name": "ipython",
    "version": 3
   },
   "file_extension": ".py",
   "mimetype": "text/x-python",
   "name": "python",
   "nbconvert_exporter": "python",
   "pygments_lexer": "ipython3",
   "version": "3.12.3"
  }
 },
 "nbformat": 4,
 "nbformat_minor": 2
}
