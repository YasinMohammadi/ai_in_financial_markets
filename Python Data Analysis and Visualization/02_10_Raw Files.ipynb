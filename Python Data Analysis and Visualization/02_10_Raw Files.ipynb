{
 "cells": [
  {
   "cell_type": "markdown",
   "metadata": {},
   "source": [
    "<div dir=\"rtl\" style=\"text-align: right;\">\n",
    "<h1>معرفی فایل‌های خام</h1>\n",
    "<p>گاهی اوقات داده‌ها را در قالب‌های عجیب دریافت می‌کنید و باید کد پایتون خود را برای پردازش داده‌ها بنویسید. خوشبختانه، انجام این کار ساده است.</p>\n",
    "<p>برای این منظور، ما فرض می‌کنیم که داده‌های شما در نوعی فایل متنی وجود دارند. هر ردیف داده متناظر با یک ردیف در فایل متنی شما است.</p>\n",
    "<p>برای مثال، ممکن است یک فایل داشته باشید که توسط علامت پایپ (|) جدا شده است. ممکن است به این شکل به نظر برسد:</p>\n",
    "<pre>\n",
    "James|22|M\n",
    "Sarah|31|F\n",
    "Mindy|25|F\n",
    "</pre>\n",
    "<p>در بالا ما ۳ ردیف داده داریم که هر کدام شامل ۳ مقدار هستند که توسط پایپ (|) جدا شده‌اند - نام، سن، و جنسیت.</p>\n",
    "<p>ما می‌توانیم همین فایل را در پایتون برای پردازش با استفاده از \n",
    "tempfile\n",
    " ایجاد کنیم.</p>\n",
    "\n",
    "</div>"
   ]
  },
  {
   "cell_type": "code",
   "execution_count": 1,
   "metadata": {},
   "outputs": [
    {
     "name": "stdout",
     "output_type": "stream",
     "text": [
      "James|22|M\n",
      "\n",
      "Sarah|31|F\n",
      "\n",
      "Mindy|25|F\n"
     ]
    }
   ],
   "source": [
    "import tempfile\n",
    "\n",
    "tmp = tempfile.NamedTemporaryFile()\n",
    "\n",
    "# فایل را برای نوشتن مقادیر اولیه باز می‌کنیم\n",
    "with open(tmp.name, 'w') as f:\n",
    "    f.write(\"James|22|M\\n\")\n",
    "    f.write(\"Sarah|31|F\\n\")\n",
    "    f.write(\"Mindy|25|F\")\n",
    "\n",
    "# فایل را می‌خوانیم و هر خط از آن را چاپ  می‌کنیم\n",
    "with open(tmp.name, \"r\") as f:\n",
    "    for line in f:\n",
    "      print(line)"
   ]
  },
  {
   "cell_type": "markdown",
   "metadata": {},
   "source": [
    "<div dir=\"rtl\" style=\"text-align: right;\">\n",
    "\n",
    "<p>در بالا، ما از \n",
    "tempfile\n",
    " (خط ۶) برای ایجاد یک فایل که شامل سه ردیف داده است استفاده کردیم. \n",
    " \\n\n",
    "  در انتهای دو ردیف اول داده‌ها (خط ۷-۸) به برنامه می‌گوید که خطوط جدیدی ایجاد کند.</p>\n",
    "<h1>خواندن فایل‌های خام با پایتون</h1>\n",
    "<p>اکنون به بررسی چگونگی ایجاد فایل نمی‌پردازیم و بیشتر بر روی باز کردن و استفاده از آن تمرکز می‌کنیم. به کد زیر توجه کنید:</p>\n",
    "\n",
    "</div>\n"
   ]
  },
  {
   "cell_type": "code",
   "execution_count": 2,
   "metadata": {},
   "outputs": [
    {
     "name": "stdout",
     "output_type": "stream",
     "text": [
      "James|22|M\n",
      "\n",
      "Sarah|31|F\n",
      "\n",
      "Mindy|25|F\n"
     ]
    }
   ],
   "source": [
    "with open(tmp.name, \"r\") as f:\n",
    "    for line in f:\n",
    "      print(line)"
   ]
  },
  {
   "cell_type": "markdown",
   "metadata": {},
   "source": [
    "<div dir=\"rtl\" style=\"text-align: right;\">\n",
    "\n",
    "<p>ما از دستور \n",
    "open()\n",
    " برای خواندن فایل استفاده می‌کنیم. ابتدا نام فایلی که می‌خواهیم پردازش کنیم و سپس یک \n",
    " r\n",
    "  که به معنای خواندن\n",
    "  (read)\n",
    "   است را می‌گذرانیم.</p>\n",
    "<p>از آنجا که ما از عملکرد \n",
    "with as\n",
    " در پایتون استفاده کردیم، آدرس اشاره‌گر به فایل ما اکنون به عنوان متغیر \n",
    " f\n",
    "  نمایش داده شده و تنها در این دامنه مرتبط است. این یک روش خوب برای خواندن فایل‌ها است زیرا شما نگران بستن دستگیره فایل نیستید. پس از داشتن یک آدرس اشاره‌گر به فایل، پایتون دسترسی به خطوط را بسیار آسان می‌کند. متغیر \n",
    "  f\n",
    "   \n",
    "   اکنون یک ماهیت تکرارپذیر است که هر تکرار آن یک خط از فایل است. بنابراین، وقتی ما عمل زیر را انجام می‌دهیم روی خطوط فایل مان حلقه می‌زنیم. کد زیر تنها این خطوط را چاپ می‌کند، اما از آنجا که ما دسترسی مستقیم به خطوط فایل خود داریم، می‌توانیم هر کاری که می‌خواهیم در پردازش خود انجام دهیم.</p>\n",
    "\n",
    "\n",
    "\n",
    "</div>"
   ]
  },
  {
   "cell_type": "code",
   "execution_count": null,
   "metadata": {},
   "outputs": [],
   "source": [
    "\n",
    "for line in f\n"
   ]
  },
  {
   "cell_type": "markdown",
   "metadata": {},
   "source": [
    "<div dir=\"rtl\" style=\"text-align: right;\">\n",
    "\n",
    "<p> به عنوان مثال، در اینجا کدی است که فقط مقدار اول هر ردیف را می‌گیرد و آنها را به یک لیست اضافه می‌کند.</p>\n",
    "\n",
    "</div>"
   ]
  },
  {
   "cell_type": "code",
   "execution_count": 3,
   "metadata": {},
   "outputs": [
    {
     "name": "stdout",
     "output_type": "stream",
     "text": [
      "['James', 'Sarah', 'Mindy']\n"
     ]
    }
   ],
   "source": [
    "import tempfile\n",
    "\n",
    "tmp = tempfile.NamedTemporaryFile()\n",
    "\n",
    "# فایل را برای نوشتن مقادیر اولیه باز می‌کنیم\n",
    "with open(tmp.name, 'w') as f:\n",
    "    f.write(\"James|22|M\\n\")\n",
    "    f.write(\"Sarah|31|F\\n\")\n",
    "    f.write(\"Mindy|25|F\")\n",
    "\n",
    "first_values = []  # لیستی برای ذخیره مقدار اولیه خطوط ایجاد می‌کنیم\n",
    "with open(tmp.name, \"r\") as f:  # فایل را برای خواندن باز می‌کنیم\n",
    "    for line in f:  # روی هر خط از فایل حلقه می‌زنیم\n",
    "      row_values = line.split(\"|\")  # کاراکترهای هر خط را بوسیله | جدا می‌کنیم و در لیست فرار می‌دهیم\n",
    "      first_values.append(row_values[0])  # مقدار اولیه را به لیست‌مان اضافه می‌کنیم\n",
    "      \n",
    "print(first_values) # در نهایت لیست را چاپ می‌کنیم"
   ]
  }
 ],
 "metadata": {
  "kernelspec": {
   "display_name": "venv",
   "language": "python",
   "name": "python3"
  },
  "language_info": {
   "codemirror_mode": {
    "name": "ipython",
    "version": 3
   },
   "file_extension": ".py",
   "mimetype": "text/x-python",
   "name": "python",
   "nbconvert_exporter": "python",
   "pygments_lexer": "ipython3",
   "version": "3.11.8"
  }
 },
 "nbformat": 4,
 "nbformat_minor": 2
}
