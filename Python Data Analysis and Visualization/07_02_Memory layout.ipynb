{
 "cells": [
  {
   "cell_type": "markdown",
   "metadata": {},
   "source": [
    "<div dir=\"rtl\" style=\"text-align: right;\">\n",
    "<h1>چیدمان حافظه</h1>\n",
    "\n",
    "\n",
    "\n",
    "\n",
    "<p><a href=\"https://docs.scipy.org/doc/numpy/reference/arrays.ndarray.html\">مستندات NumPy</a> کلاس <code>ndarray</code> را بسیار روشن تعریف می‌کند:</p>\n",
    "<blockquote>\n",
    "<p>یک نمونه از کلاس <code>ndarray</code> شامل یک بخش یک‌بعدی پیوسته از حافظه کامپیوتری (متعلق به آرایه، یا توسط شیء دیگری) است، همراه با یک طرح فهرست‌بندی که N عدد صحیح را به مکان یک مورد در بلوک ارجاع می‌دهد.</p>\n",
    "</blockquote>\n",
    "\n",
    "<p>به عبارت دیگر، یک آرایه عمدتاً یک بلوک پیوسته حافظه است که می‌توان به قسمت‌های آن با استفاده از یک طرح فهرست‌بندی دسترسی پیدا کرد. چنین طرح فهرست‌بندی به نوبه خود توسط یک شکل\n",
    "shape\n",
    " و نوع داده\n",
    " data type\n",
    "  تعریف می‌شود و این دقیقاً همان چیزی است که زمانی که شما یک آرایه جدید تعریف می‌کنید، نیاز دارید.</p>\n",
    "</div>\n"
   ]
  },
  {
   "cell_type": "code",
   "execution_count": 2,
   "metadata": {},
   "outputs": [
    {
     "name": "stdout",
     "output_type": "stream",
     "text": [
      "[[0 1 2]\n",
      " [3 4 5]\n",
      " [6 7 8]]\n",
      "2\n",
      "(3, 3)\n",
      "2\n"
     ]
    }
   ],
   "source": [
    "import numpy as np\n",
    "Z = np.arange(9).reshape(3,3).astype(np.int16)\n",
    "print(Z)\n",
    "print(Z.itemsize)# اندازه Z را به بایت برمی‌گرداند\n",
    "print(Z.shape)# ابعاد x و y آرایه Z را برمی‌گرداند\n",
    "print(Z.ndim)# بعد در Z، یعنی ۲ در این مورد چون آرایه دوبعدی است"
   ]
  },
  {
   "cell_type": "markdown",
   "metadata": {},
   "source": [
    "<div dir=\"rtl\" style=\"text-align: right;\">\n",
    "<p>در اینجا، ما می‌دانیم که اندازه هر آیتم ۲ بایت است (int16)، شکل آن (3,3) و تعداد بعدها ۲ است.</p>\n",
    "<blockquote>\n",
    "برای محاسبه بُعد می‌توانیم از <code>len(Z.shape)</code> نیز استفاده کنیم.\n",
    "</blockquote>\n",
    "<p>علاوه بر این، ما می‌توانیم <a href=\"https://docs.scipy.org/doc/numpy/reference/generated/numpy.ndarray.strides.html#numpy.ndarray.strides\">قدم‌های</a> آرایه را که تعداد بایت‌هایی را تعریف می‌کنند که باید در هر بُعد هنگام عبور از آرایه گام برداشت، نتیجه‌گیری کنیم.</p>\n",
    "\n",
    "\n",
    "\n",
    "</div>\n"
   ]
  },
  {
   "cell_type": "code",
   "execution_count": 3,
   "metadata": {},
   "outputs": [
    {
     "name": "stdout",
     "output_type": "stream",
     "text": [
      "Stride(as np.int16): (6, 2)\n",
      "Z.stride(np.16): (6, 2)\n",
      "Stride(as np.int32): (12, 4)\n",
      "Z.stride(np.32): (12, 4)\n"
     ]
    }
   ],
   "source": [
    "import numpy as np\n",
    "Z = np.arange(9).reshape(3,3).astype(np.int16)\n",
    "stride = Z.shape[1]*Z.itemsize, Z.itemsize # ذخیره قدم‌های Z\n",
    "print(\"Stride(as np.int16):\",stride)\n",
    "print(\"Z.stride(np.16):\",Z.strides)\n",
    "Z = np.arange(9).reshape(3,3).astype(np.int32)\n",
    "stride= Z.shape[1]*Z.itemsize, Z.itemsize  # ذخیره قدم‌های Z\n",
    "print(\"Stride(as np.int32):\",stride)\n",
    "print(\"Z.stride(np.32):\",Z.strides)"
   ]
  },
  {
   "cell_type": "markdown",
   "metadata": {},
   "source": [
    "<div dir=\"rtl\" style=\"text-align: right;\">\n",
    "\n",
    "\n",
    "در این مثال، ما باید ۲ بایت (۱ مقدار) را برای حرکت به ستون بعدی پرش کنیم، اما ۶ بایت (۳ مقدار) را برای رسیدن به همان موقعیت در ردیف بعدی. بنابراین، قدم‌ها برای آرایه Z (6, 2) خواهد بود.\n",
    "</p>\n",
    "<p>با تمام این اطلاعات، ما می‌دانیم چگونه به یک مورد خاص دسترسی پیدا کنیم و به طور دقیق‌تر، چگونه افست‌های شروع و پایان را محاسبه کنیم:</p>\n",
    "</div>"
   ]
  },
  {
   "cell_type": "code",
   "execution_count": 4,
   "metadata": {},
   "outputs": [
    {
     "name": "stdout",
     "output_type": "stream",
     "text": [
      "Starting offset: 2\n",
      "Ending offset: 4\n"
     ]
    }
   ],
   "source": [
    "import numpy as np\n",
    "Z = np.arange(9).reshape(3,3).astype(np.int16)\n",
    "offset_start = 0\n",
    "for i in range(Z.ndim):\n",
    "  offset_start += Z.strides[i] * i \n",
    "  offset_end = offset_start + Z.itemsize \n",
    "\n",
    "print(\"Starting offset:\", offset_start)\n",
    "print(\"Ending offset:\", offset_end)\n"
   ]
  },
  {
   "cell_type": "markdown",
   "metadata": {},
   "source": [
    "<div dir=\"rtl\" style=\"text-align: right;\">\n",
    "<p>بیایید صحت کارمان را با استفاده از روش تبدیل <a href=\"https://numpy.org/doc/stable/reference/generated/numpy.ndarray.tobytes.html\">tobyte</a> بسنجیم. </p>\n",
    "</div>\n"
   ]
  },
  {
   "cell_type": "code",
   "execution_count": 5,
   "metadata": {},
   "outputs": [
    {
     "name": "stdout",
     "output_type": "stream",
     "text": [
      "b'\\x04\\x00'\n",
      "b'\\x04\\x00'\n"
     ]
    }
   ],
   "source": [
    "import numpy as np\n",
    "Z = np.arange(9).reshape(3, 3).astype(np.int16)\n",
    "index = 1, 1\n",
    "print(Z[index].tobytes())\n",
    "   #b'\\x04\\x00'\n",
    "offset_start = 0\n",
    "for i in range(Z.ndim):\n",
    "  offset_start += Z.strides[i] * index[i]\n",
    "  offset_end = offset_start + Z.itemsize\n",
    "  \n",
    "print(Z.tobytes()[offset_start:offset_end])#b'\\x04\\x00'"
   ]
  },
  {
   "cell_type": "markdown",
   "metadata": {},
   "source": [
    "<div dir=\"rtl\" style=\"text-align: right;\">\n",
    "<h2>چیدمان‌ها layouuts</h2>\n",
    "<p>این آرایه را می‌توان از دیدگاه‌های مختلفی در نظر گرفت (چیدمان‌ها):</p>\n",
    "<h3>چیدمان تکه‌ای</h3>\n",
    "<p>چیدمان تکه‌ای را به عنوان یک ماتریس دو بعدی با x ردیف و y ستون در نظر بگیرید.</p>\n",
    "<h4>مثال 1</h4>\n",
    "<p>مثال زیر را در نظر بگیرید:</p>\n",
    "<pre>\n",
    "Z = np.arange(9).reshape(3, 3)\n",
    "</pre>\n",
    "<p>اینجا ۹ مقدار از ۰ تا ۸ گرفته شده و در قالب یک ماتریس دو بعدی با ابعاد (۳ * ۳) بازآرایی شده است.</p>\n",
    "<p>Z چیدمان تکه‌ای زیر را دارد:</p>\n",
    "\n",
    "</div>\n",
    "\n",
    "<pre dir=\"ltr\">\n",
    "                  shape[1]\n",
    "                    (=2)\n",
    "               ┌───────────┐   \n",
    "\n",
    "            ┌  ┌───┬╌╌╌┬───┐  ┐           \n",
    "            │  │ 0 │   │ 2 │  │            ┌───┬───┐\n",
    "            │  ├───┼╌╌╌┼───┤  │            │ 0 │ 2 │\n",
    "   shape[0] │  ╎   ╎   ╎   ╎  │ len(V)  →  ├───┼───┤\n",
    "    (=2)    │  ├───┼╌╌╌┼───┤  │  (=2)      │ 6 │ 8 │\n",
    "            │  │ 6 │   │ 8 │  │            └───┴───┘\n",
    "            └  └───┴╌╌╌┴───┘  ┘           \n",
    "</pre>\n",
    "<div dir=\"rtl\" style=\"text-align: right;\">\n",
    "<p>در اینجا Z از ۹ مقدار از ۰ تا ۸ استفاده می‌کند و آنها را در یک ماتریس ۳ * ۳ مرتب می‌کند. V مقادیر را از گوشه‌های شبکه می‌گیرد، یعنی V دارای ۴ مقدار است.</p>\n",
    "<p>V چیدمان تکه‌ای زیر را دارد:</p>\n",
    "</div>\n",
    "\n",
    "\n",
    "<pre dir=\"ltr\">\n",
    "\n",
    "                  shape[1]\n",
    "                    (=2)\n",
    "               ┌───────────┐   \n",
    "\n",
    "            ┌  ┌───┬╌╌╌┬───┐  ┐           \n",
    "            │  │ 0 │   │ 2 │  │            ┌───┬───┐\n",
    "            │  ├───┼╌╌╌┼───┤  │            │ 0 │ 2 │\n",
    "   shape[0] │  ╎   ╎   ╎   ╎  │ len(V)  →  ├───┼───┤\n",
    "    (=2)    │  ├───┼╌╌╌┼───┤  │  (=2)      │ 6 │ 8 │\n",
    "            │  │ 6 │   │ 8 │  │            └───┴───┘\n",
    "            └  └───┴╌╌╌┴───┘  ┘           \n",
    "</pre>"
   ]
  },
  {
   "cell_type": "markdown",
   "metadata": {},
   "source": [
    "<div dir=\"rtl\" style=\"text-align: right;\">\n",
    "\n",
    "<h3>چیدمان تکه‌ای صاف</h3>\n",
    "<p>چیدمان تکه‌ای صاف را به عنوان یک ماتریس یک‌بعدی با یک ردیف و n ستون در نظر بگیرید.</p>\n",
    "<h4>مثال 1</h4>\n",
    "<p>مثال زیر را در نظر بگیرید:</p>\n",
    "<pre>\n",
    "Z = np.arange(9)\n",
    "</pre>\n",
    "<p>این ۹ شاخص را در حافظه کامپیوتر ایجاد می‌کند و مقادیر از ۰ تا ۸ را قرار می‌دهد.</p>\n",
    "<p>Z چیدمان تکه‌ای صاف زیر را دارد:</p>\n",
    "\n",
    "</div>\n",
    "\n",
    "<pre>\n",
    "   ┌───┬───┬───┬───┬───┬───┬───┬───┬───┐\n",
    "   │ 0 │ 1 │ 2 │ 3 │ 4 │ 5 │ 6 │ 7 │ 8 │\n",
    "   └───┴───┴───┴───┴───┴───┴───┴───┴───┘\n",
    "\n",
    "   └───────────────────────────────────┘\n",
    "                  Z.size\n",
    "                   (=9)\n",
    "</pre>\n"
   ]
  },
  {
   "cell_type": "markdown",
   "metadata": {},
   "source": [
    "<div dir=\"rtl\" style=\"text-align: right;\">\n",
    "\n",
    "<h4>مثال 2</h4>\n",
    "<p>مثال زیر را در نظر بگیرید:</p>\n",
    "\n",
    "</div>\n",
    "\n",
    "\n",
    "<pre>\n",
    "Z = np.arange(9).reshape(3,3).astype(np.int16)\n",
    "V = Z[::2,::2]\n",
    "V = V.reshape(1,4)\n",
    "</pre>\n",
    "\n",
    "<div dir=\"rtl\" style=\"text-align: right;\">\n",
    "<p>در اینجا Z  ۹ مقدار از ۰ تا ۸ دارد و آنها را در یک ماتریس ۳ * ۳ مرتب می‌کند. V مقادیر را از گوشه‌های شبکه می‌گیرد، یعنی V دارای ۴ مقدار است.</p>\n",
    "<p>V چیدمان تکه‌ای صاف زیر را دارد:</p>\n",
    "\n",
    "</div>\n",
    "<pre>\n",
    "   ┌───┬╌╌╌┬───┬╌╌╌┬╌╌╌┬╌╌╌┬───┬╌╌╌┬───┐       ┌───┬───┬───┬───┐\n",
    "   │ 0 │   │ 2 │   ╎   ╎   │ 6 │   │ 8 │   →   │ 0 │ 2 │ 6 │ 8 │\n",
    "   └───┴╌╌╌┴───┴╌╌╌┴╌╌╌┴╌╌╌┴───┴╌╌╌┴───┘       └───┴───┴───┴───┘\n",
    "   └─┬─┘   └─┬─┘           └─┬─┘   └─┬─┘\n",
    "     └───┬───┘               └───┬───┘  \n",
    "         └───────────┬───────────┘\n",
    "                  V.size\n",
    "                   (=4)\n",
    "</pre>"
   ]
  },
  {
   "cell_type": "markdown",
   "metadata": {},
   "source": [
    "<div dir=\"rtl\" style=\"text-align: right;\">\n",
    "<h2>چیدمان‌های حافظه</h2>\n",
    "<h3>چیدمان حافظه </h3>\n",
    "<p>چیدمان حافظه را با ردیف‌هایی برابر با تعداد بایت‌ها و ستون‌هایی برابر با تعداد بایت‌ها تقسیم بر ۸ (یعنی <code>Z.itemsize</code>) در نظر بگیرید.</p>\n",
    "<h4>مثال 1</h4>\n",
    "<p>مثال زیر را در نظر بگیرید:</p>\n",
    "</div>\n",
    "\n",
    "<pre>\n",
    "Z = np.arange(9).reshape(3, 3).astype(np.int16)\n",
    "</pre>\n",
    "\n",
    "<div dir=\"rtl\" style=\"text-align: right;\">\n",
    "<p>در اینجا، تعداد ردیف‌ها ۱۶ و تعداد ستون‌ها ۲ است. تعداد کل بایت‌ها ۳ * ۳ * ۲ است که ۳ * ۳ اندازه شبکه است و هر سلول ۲ بایت می‌گیرد، پس مجموعاً ۱۸ بایت است. Z چیدمان حافظه زیر را دارد:</p>\n",
    "</div>\n",
    "\n",
    "\n",
    "<pre>\n",
    "\n",
    "                            strides[1]\n",
    "                              (=2)\n",
    "                     ┌─────────────────────┐\n",
    "\n",
    "             ┌       ┌──────────┬──────────┐ ┐\n",
    "             │ p+00: │ 00000000 │ 00000000 │ │\n",
    "             │       ├──────────┼──────────┤ │\n",
    "             │ p+02: │ 00000000 │ 00000001 │ │ strides[0]\n",
    "             │       ├──────────┼──────────┤ │   (=2x3)\n",
    "             │ p+04  │ 00000000 │ 00000010 │ │\n",
    "             │       ├──────────┼──────────┤ ┘\n",
    "             │ p+06  │ 00000000 │ 00000011 │ \n",
    "             │       ├──────────┼──────────┤\n",
    "   Z.nbytes  │ p+08: │ 00000000 │ 00000100 │\n",
    "   (=3x3x2)  │       ├──────────┼──────────┤\n",
    "             │ p+10: │ 00000000 │ 00000101 │\n",
    "             │       ├──────────┼──────────┤\n",
    "             │ p+12: │ 00000000 │ 00000110 │\n",
    "             │       ├──────────┼──────────┤\n",
    "             │ p+14: │ 00000000 │ 00000111 │\n",
    "             │       ├──────────┼──────────┤\n",
    "             │ p+16: │ 00000000 │ 00001000 │\n",
    "             └       └──────────┴──────────┘\n",
    "\n",
    "                     └─────────────────────┘   \n",
    "                           Z.itemsize\n",
    "                        Z.dtype.itemsize\n",
    "                              (=2) \n",
    "\n",
    "</pre>\n",
    "\n",
    "\n"
   ]
  },
  {
   "cell_type": "markdown",
   "metadata": {},
   "source": [
    "<div dir=\"rtl\" style=\"text-align: right;\">\n",
    "<h4>مثال 2</h4>\n",
    "<p>مثال زیر را در نظر بگیرید:</p>\n",
    "<pre>\n",
    "Z = np.arange(9).reshape(3,3).astype(np.int16)\n",
    "V = Z[::2,::2]\n",
    "</pre>\n",
    "<p>در اینجا ما یک برش از Z را می‌گیریم، نتیجه نمایی از آرایه پایه Z است. در چیدمان حافظه زیر، از آنجا که آرایه فقط 4 مقدار دارد و هر مقدار 2 بایت است، بنابراین مجموع بایت‌ها 2 * 4 = 8 بایت است. V چیدمان حافظه زیر را دارد:</p>\n",
    "\n",
    "</div>\n",
    "\n",
    "<pre>\n",
    "\n",
    "                 ┌        ┌──────────┬──────────┐ ┐             ┐\n",
    "               ┌─┤  p+00: │ 00000000 │ 00000000 │ │             │\n",
    "               │ └        ├──────────┼──────────┤ │ strides[1]  │\n",
    "             ┌─┤    p+02: │          │          │ │   (=4)      │ \n",
    "             │ │ ┌        ├──────────┼──────────┤ ┘             │ \n",
    "             │ └─┤  p+04  │ 00000000 │ 00000010 │               │\n",
    "             │   └        ├──────────┼──────────┤               │ strides[0] \n",
    "             │      p+06: │          │          │               │   (=12)\n",
    "             │            ├──────────┼──────────┤               │\n",
    "   V.nbytes ─┤      p+08: │          │          │               │\n",
    "     (=8)    │            ├──────────┼──────────┤               │\n",
    "             │      p+10: │          │          │               │\n",
    "             │   ┌        ├──────────┼──────────┤               ┘              \n",
    "             │ ┌─┤  p+12: │ 00000000 │ 00000110 │\n",
    "             │ │ └        ├──────────┼──────────┤\n",
    "             └─┤    p+14: │          │          │\n",
    "               │ ┌        ├──────────┼──────────┤\n",
    "               └─┤  p+16: │ 00000000 │ 00001000 │\n",
    "                 └        └──────────┴──────────┘\n",
    "                               \n",
    "                          └─────────────────────┘\n",
    "                                Z.itemsize\n",
    "                             Z.dtype.itemsize\n",
    "                                   (=2)\n",
    "\n",
    "</pre>\n"
   ]
  }
 ],
 "metadata": {
  "kernelspec": {
   "display_name": "venv",
   "language": "python",
   "name": "python3"
  },
  "language_info": {
   "codemirror_mode": {
    "name": "ipython",
    "version": 3
   },
   "file_extension": ".py",
   "mimetype": "text/x-python",
   "name": "python",
   "nbconvert_exporter": "python",
   "pygments_lexer": "ipython3",
   "version": "3.11.8"
  }
 },
 "nbformat": 4,
 "nbformat_minor": 2
}
