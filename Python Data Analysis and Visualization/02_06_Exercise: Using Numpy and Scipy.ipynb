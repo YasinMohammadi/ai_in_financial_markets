{
 "cells": [
  {
   "cell_type": "markdown",
   "metadata": {},
   "source": [
    "<div dir=\"rtl\" style=\"text-align: right;\">\n",
    "<h1>تمرین: استفاده از \n",
    "Numpy و Scipy</h1>\n",
    "\n",
    "\n",
    "<h2>Numpy</h2>\n",
    "<p>یک تابع ایجاد کنید که یک آرایه ۱-بعدی \n",
    "Numpy\n",
    " را به عنوان ورودی بگیرد و موارد زیر را برگرداند (به همان ترتیب که لیست شده‌اند):</p>\n",
    "<ul>\n",
    "<li>Max - بیشترین مقدار در آرایه</li>\n",
    "<li>Std - انحراف معیار بین عناصر یک آرایه</li>\n",
    "<li>Sum - مجموع تمام عناصر</li>\n",
    "<li>Dot product - ضرب داخلی بردار با خودش</li>\n",
    "</ul>\n",
    "<p>سعی کنید تابع زیر را کامل کنید. <p>\n",
    "\n",
    "</div>"
   ]
  },
  {
   "cell_type": "code",
   "execution_count": 3,
   "metadata": {},
   "outputs": [],
   "source": [
    "import numpy as np\n",
    "\n",
    "def perform_calculations(array):\n",
    "  return 0, 0, 0, 0 #  max, std, sum, and dot product"
   ]
  },
  {
   "cell_type": "markdown",
   "metadata": {},
   "source": [
    "\n",
    "<div dir=\"rtl\" style=\"text-align: right;\">\n",
    "<h2>Scipy</h2>\n",
    "<p>یک تابع ایجاد کنید که دو آرایه ۱-بعدی نامپای را بگیرد و همبستگی و مقدار \n",
    "p-value\n",
    " را به صورت یک تاپل برگرداند.</p>\n",
    "<p>سعی کنید تابع زیر را کامل کنید!</p>\n",
    "</div>"
   ]
  },
  {
   "cell_type": "code",
   "execution_count": 4,
   "metadata": {},
   "outputs": [],
   "source": [
    "from scipy import stats\n",
    "import numpy as np\n",
    "\n",
    "def correlation(array1, array2):\n",
    "  return (0,0) #   (correlation, p-value)"
   ]
  }
 ],
 "metadata": {
  "kernelspec": {
   "display_name": "venv",
   "language": "python",
   "name": "python3"
  },
  "language_info": {
   "codemirror_mode": {
    "name": "ipython",
    "version": 3
   },
   "file_extension": ".py",
   "mimetype": "text/x-python",
   "name": "python",
   "nbconvert_exporter": "python",
   "pygments_lexer": "ipython3",
   "version": "3.11.8"
  }
 },
 "nbformat": 4,
 "nbformat_minor": 2
}
