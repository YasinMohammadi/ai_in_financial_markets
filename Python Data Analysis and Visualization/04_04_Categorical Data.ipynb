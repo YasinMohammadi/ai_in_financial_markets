{
 "cells": [
  {
   "cell_type": "markdown",
   "metadata": {},
   "source": [
    "<div dir=\"rtl\" style=\"text-align: right;\">\n",
    "<h1>داده‌های دسته‌بندی شده</h1>\n",
    "\n",
    "<h2>معرفی </h2>\n",
    "<p>گاهی اوقات شما با داده‌های دسته‌بندی شده مواجه می‌شوید که متغیرهایی با تعداد محدود و معمولاً ثابت از مقادیر هستند. به عنوان مثال، مرد و زن. الگوریتم‌های یادگیری ماشین به اعداد نیاز دارند تا کار کنند، پس چگونه با این موضوع برخورد می‌کنید؟ ما دو روش را بحث خواهیم کرد:</p>\n",
    "<ul>\n",
    "<li>رمزگذاری برچسب</li>\n",
    "<li>رمزگذاری یک به یک موسوم به متغیرهای موقتی.</li>\n",
    "</ul>\n",
    "\n",
    "<h2>کار با داده‌های دسته‌بندی شده</h2>\n",
    "<h3>رمزگذاری برچسب</h3>\n",
    "<p>رمزگذاری برچسب با تبدیل مقادیر منحصر به فرد به یک نمایش عددی کار می‌کند. به عنوان مثال، اگر دو دسته مرد و زن داشته باشیم، می‌توانیم آنها را به عنوان اعداد دسته‌بندی کنیم:</p>\n",
    "<ul>\n",
    "<li>مرد به عنوان ۰</li>\n",
    "<li>زن به عنوان ۱</li>\n",
    "</ul>\n",
    "<p>پانداس یک راه آسان برای انجام این کار با استفاده از نوع دسته‌بندی ارائه می‌دهد.</p>\n",
    "\n",
    "\n",
    "\n",
    "</div>\n"
   ]
  },
  {
   "cell_type": "code",
   "execution_count": 1,
   "metadata": {},
   "outputs": [
    {
     "name": "stdout",
     "output_type": "stream",
     "text": [
      "0    1\n",
      "1    0\n",
      "2    1\n",
      "3    0\n",
      "dtype: int8\n",
      "Index(['female', 'male'], dtype='object')\n"
     ]
    }
   ],
   "source": [
    "import pandas as pd\n",
    "\n",
    "# ساخت سری\n",
    "non_categorical_series = pd.Series(['male', 'female', 'male', 'female'])\n",
    "# تبدیل داده متنی به داده دسته‌بندی\n",
    "categorical_series = non_categorical_series.astype('category')\n",
    "# چاپ مقادیر عددی متناظر\n",
    "print(categorical_series.cat.codes)\n",
    "# چاپ نام دسته‌بندی\n",
    "print(categorical_series.cat.categories)"
   ]
  },
  {
   "cell_type": "markdown",
   "metadata": {},
   "source": [
    "<div dir=\"rtl\" style=\"text-align: right;\">\n",
    "\n",
    "\n",
    "<p>\n",
    "در کد بالا، ما یک سری پانداس با مقادیر متنی مرد یا زن ایجاد می‌کنیم.\n",
    "\n",
    "سپس ستون را با استفاده از تابع \n",
    "astype()\n",
    " نوع داده را تغییر داده و آن را تبدیل به دسته‌بندی می‌کنیم. این کار تمام مقادیر منحصر به فرد در ستون ما را پیدا می‌کند و به هر یک یک مقدار عددی منحصر به فرد اختصاص می‌دهد ضمن اینکه مقادیر رشته‌ای را حفظ می‌کند.\n",
    "\n",
    "می‌توانید مقادیر عددی را با افزودن \n",
    ".cat.codes\n",
    " به انتهای سری دسته‌بندی خود بگیرید.\n",
    "\n",
    "مقادیر رشته‌ای را می‌توان با افزودن\n",
    " .cat.categories\n",
    "  به انتهای سری دسته‌بندی خود دریافت کرد.\n",
    "</p>\n",
    "<h3>رمزگذاری یک به یک</h3>\n",
    "<p>رمزگذاری یک به یک مشابه شیوه قبل است اما برای هر دسته یک ستون جدید ایجاد می‌کند و آن را با \n",
    "True\n",
    " برای هر ردیف با آن مقدار و در غیر این صورت \n",
    " False\n",
    "  پر می‌کند.</p>\n",
    "<pre>\n",
    "ما می‌بینیم که فقط کافی است از فراخوانی \n",
    "get_dummies()\n",
    " بر روی سری ما استفاده کنیم و به طور خودکار ستون‌های جدیدی برای هر مقدار منحصر به فرد در سری ما ایجاد می‌کند و آنها را با ۱ یا ۰ پر می‌کند.\n",
    "</pre>\n",
    "\n",
    "</div>"
   ]
  },
  {
   "cell_type": "code",
   "execution_count": 2,
   "metadata": {},
   "outputs": [
    {
     "name": "stdout",
     "output_type": "stream",
     "text": [
      "   female   male\n",
      "0   False   True\n",
      "1    True  False\n",
      "2   False   True\n",
      "3    True  False\n"
     ]
    }
   ],
   "source": [
    "import pandas as pd\n",
    "\n",
    "# ساخت یک سری \n",
    "non_categorical_series = pd.Series(['male', 'female', 'male', 'female'])\n",
    "# رمزگذاری/نگاشت یک به یک داده‌ها\n",
    "print(pd.get_dummies(non_categorical_series))"
   ]
  }
 ],
 "metadata": {
  "kernelspec": {
   "display_name": "venv",
   "language": "python",
   "name": "python3"
  },
  "language_info": {
   "codemirror_mode": {
    "name": "ipython",
    "version": 3
   },
   "file_extension": ".py",
   "mimetype": "text/x-python",
   "name": "python",
   "nbconvert_exporter": "python",
   "pygments_lexer": "ipython3",
   "version": "3.11.8"
  }
 },
 "nbformat": 4,
 "nbformat_minor": 2
}
