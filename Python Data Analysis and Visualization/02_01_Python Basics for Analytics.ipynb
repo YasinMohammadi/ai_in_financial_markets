{
 "cells": [
  {
   "cell_type": "markdown",
   "metadata": {},
   "source": [
    "<div dir=\"rtl\" style=\"text-align: right;\">\n",
    "\n",
    "<h1>مروری بر پایتون</h1>\n",
    "<p>بیایید مروری بر پایتون داشته باشیم! امیدوارم که اصول ابتدایی پایتون را بدانید، اما این درس  یک یادآوری خوب و سریع است. ا در اینجا یک مثال بسیار ساده آورده شده است:</p>\n",
    "\n",
    "</div>\n"
   ]
  },
  {
   "cell_type": "code",
   "execution_count": 3,
   "metadata": {},
   "outputs": [
    {
     "name": "stdout",
     "output_type": "stream",
     "text": [
      "696\n"
     ]
    }
   ],
   "source": [
    "x = 12\n",
    "y = 58\n",
    "print(x*y)"
   ]
  },
  {
   "cell_type": "markdown",
   "metadata": {},
   "source": [
    "<div dir=\"rtl\" style=\"text-align: right;\">\n",
    "\n",
    "<h2>وارد کردن قابلیت‌ها</h2>\n",
    "<p>ما از بسیاری کتابخانه‌ استفاده خواهیم کرد، برخی که با پایتون پیش نصب شده‌اند و برخی را باید خودمان نصب کنیم. برای استفاده از یک کتابخانه از دستور import استفاده کنید:</p>\n",
    "\n",
    "</div>\n",
    "\n"
   ]
  },
  {
   "cell_type": "code",
   "execution_count": 4,
   "metadata": {},
   "outputs": [],
   "source": [
    "from collections import Counter"
   ]
  },
  {
   "cell_type": "markdown",
   "metadata": {},
   "source": [
    "<div dir=\"rtl\" style=\"text-align: right;\">\n",
    "\n",
    "<p>این دستور کلاس Counter را از کتابخانه collections وارد می‌کند. Counter ابزاری بسیار مفید برای دانشمندان داده است؛ این می‌تواند تعداد دفعاتی که آیتم‌ها در مجموعه‌هایی مانند لیست‌ها ظاهر می‌شوند را بشمارد. به عنوان مثال، در کد زیر ما یک لیست از سن‌های ازدواج ایجاد می‌کنیم. با استفاده از Counter ما می‌توانیم به راحتی تعداد دفعاتی که هر سن منحصر به فرد در لیست ظاهر می‌شود را بشماریم.</p>\n",
    "</div>\n",
    "\n"
   ]
  },
  {
   "cell_type": "markdown",
   "metadata": {},
   "source": [
    "<div dir=\"rtl\" style=\"text-align: right;\">\n",
    "<h2>لیست‌ها در پایتون</h2>\n",
    "<p>لیست‌ها ساختار داده مفیدی برای ذخیره‌سازی داده‌ها هستند. آنها در درس بعدی به طور مفصل‌تر مورد مطالعه قرار خواهند گرفت. به عنوان مثال:</p>\n",
    "\n",
    "</div>\n"
   ]
  },
  {
   "cell_type": "code",
   "execution_count": 5,
   "metadata": {},
   "outputs": [
    {
     "name": "stdout",
     "output_type": "stream",
     "text": [
      "[(22, 2), (25, 2), (24, 2), (30, 1), (26, 1), (35, 1)]\n"
     ]
    }
   ],
   "source": [
    "from collections import Counter\n",
    "marriage_ages = [22, 22, 25, 25, 30, 24, 26, 24, 35]  # ایجاد لیست ازدواچ\n",
    "value_counts = Counter(marriage_ages)  # استفاده از شمارنده\n",
    "print(value_counts.most_common())"
   ]
  },
  {
   "cell_type": "markdown",
   "metadata": {},
   "source": [
    "<div dir=\"rtl\" style=\"text-align: right;\">\n",
    "<p>می‌توانید ببینید که ما با استفاده از [] در خط ۲، یک لیست شامل سن‌های ازدواج ایجاد کرده‌ایم. سپس آن لیست را در خط ۴ به تابع Counter دادیم تا مقادیر رایج‌ترین را به صورت لیستی از جفت‌ها در خروجی چاپ کنیم.</p>\n",
    "<p>یک جفت یک مجموعه در داخل () است. این جفت‌ها دو عنصر دارند: مقدار و سپس تعداد دفعاتی که آن مقدار در لیست شما ظاهر شده است. فرکانس لیست جفت‌ها را مرتب می‌کند. مقداری که بیشترین تکرار را دارد اول ظاهر می‌شود.</p>\n",
    "</div>\n",
    "\n"
   ]
  },
  {
   "cell_type": "markdown",
   "metadata": {},
   "source": [
    "<div dir=\"rtl\" style=\"text-align: right;\">\n",
    "<h2>توابع در پایتون</h2>\n",
    "<p>توابع نیز مفید هستند. توابع در پایتون با کلیدواژه def و نام تابع دنبال شده از ورودی‌هایی که تابع انتظار دارد درون پرانتز شروع می‌شوند. در اینجا تابعی وجود دارد که ۲ ورودی، x و y را می‌گیرد و جمع آنها را برمی‌گرداند:</p>\n",
    "\n",
    "</div>\n",
    "\n"
   ]
  },
  {
   "cell_type": "code",
   "execution_count": 6,
   "metadata": {},
   "outputs": [
    {
     "name": "stdout",
     "output_type": "stream",
     "text": [
      "105\n"
     ]
    }
   ],
   "source": [
    "def add_two_numbers(x, y):  # تابع\n",
    "    \"\"\"\n",
    "    Takes in two numbers and returns the sum\n",
    "    parameters\n",
    "        x : str\n",
    "            first number\n",
    "        y : str\n",
    "            second number\n",
    "    returns\n",
    "        x+y\n",
    "    \"\"\"\n",
    "    z = x + y\n",
    "    return z  # خروجی تابع\n",
    "print(add_two_numbers(100,5))  # فراخوانی تابع"
   ]
  },
  {
   "cell_type": "markdown",
   "metadata": {},
   "source": [
    "<div dir=\"rtl\" style=\"text-align: right;\">\n",
    "\n",
    "<p>توابع همچنین می‌توانند ناشناس باشند، به این معنا که شما مجبور نیستید آنها را با ساختار بالا اعلام کنید. در عوض، می‌توانید از کلیدواژه lambda استفاده کنید. در اینجا همان تابع بالا است، اما به عنوان یک تابع ناشناس:</p>\n",
    "\n",
    "</div>"
   ]
  },
  {
   "cell_type": "code",
   "execution_count": 7,
   "metadata": {},
   "outputs": [
    {
     "name": "stdout",
     "output_type": "stream",
     "text": [
      "105\n"
     ]
    }
   ],
   "source": [
    "y = lambda x, y: x + y  # تابع ناشناس\n",
    "print(y(100,5))  # فراخوانی تابع"
   ]
  },
  {
   "cell_type": "markdown",
   "metadata": {},
   "source": [
    "<div dir=\"rtl\" style=\"text-align: right;\">\n",
    "\n",
    "<p>حال که اصول ابتدایی پایتون را دیده‌اید، در بخش بعدی ما ساختارهای داده رایج‌تری را که برای پردازش داده نیاز دارید معرفی خواهیم کرد.</p>\n",
    "\n",
    "\n",
    "</div>"
   ]
  }
 ],
 "metadata": {
  "kernelspec": {
   "display_name": "Python 3 (ipykernel)",
   "language": "python",
   "name": "python3"
  },
  "language_info": {
   "codemirror_mode": {
    "name": "ipython",
    "version": 3
   },
   "file_extension": ".py",
   "mimetype": "text/x-python",
   "name": "python",
   "nbconvert_exporter": "python",
   "pygments_lexer": "ipython3",
   "version": "3.11.8"
  }
 },
 "nbformat": 4,
 "nbformat_minor": 4
}
