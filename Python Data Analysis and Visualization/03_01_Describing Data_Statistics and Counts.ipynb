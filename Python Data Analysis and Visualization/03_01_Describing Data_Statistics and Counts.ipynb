{
 "cells": [
  {
   "cell_type": "markdown",
   "metadata": {},
   "source": [
    "<div dir=\"rtl\" style=\"text-align: right;\">\n",
    "<h1>آمار و شمارش</h1>\n",
    "<p>در فصل گذشته، در حالی که چگونگی خواندن داده‌ها از فایل‌های \n",
    "CSV\n",
    " را مطالعه می‌کردیم، از \n",
    " Pandas\n",
    "  استفاده کردیم. اکنون، ما به طور عمیق‌تری به \n",
    "  Pandas\n",
    "   نگاه خواهیم کرد تا داده‌ها را پردازش کنیم.</p>\n",
    "<p>برای انجام این کار، ما از همان مجموعه داده‌ای که زمان یادگیری نحوه خواندن داده‌های \n",
    "CSV\n",
    " استفاده کردیم، استفاده خواهیم کرد. در اینجا ۵ ردیف اول برای تازه کردن حافظه شما آورده شده است.</p>\n",
    "\n",
    "\n",
    "</div>\n"
   ]
  },
  {
   "cell_type": "code",
   "execution_count": 7,
   "metadata": {},
   "outputs": [
    {
     "name": "stdout",
     "output_type": "stream",
     "text": [
      "   age          workclass  fnlwgt   education  educationnum  \\\n",
      "0   39          State-gov   77516   Bachelors            13   \n",
      "1   50   Self-emp-not-inc   83311   Bachelors            13   \n",
      "2   38            Private  215646     HS-grad             9   \n",
      "3   53            Private  234721        11th             7   \n",
      "4   28            Private  338409   Bachelors            13   \n",
      "\n",
      "         maritalstatus          occupation    relationship    race      sex  \\\n",
      "0        Never-married        Adm-clerical   Not-in-family   White     Male   \n",
      "1   Married-civ-spouse     Exec-managerial         Husband   White     Male   \n",
      "2             Divorced   Handlers-cleaners   Not-in-family   White     Male   \n",
      "3   Married-civ-spouse   Handlers-cleaners         Husband   Black     Male   \n",
      "4   Married-civ-spouse      Prof-specialty            Wife   Black   Female   \n",
      "\n",
      "   capitalgain  capitalloss  hoursperweek   nativecountry   label  \n",
      "0         2174            0            40   United-States   <=50K  \n",
      "1            0            0            13   United-States   <=50K  \n",
      "2            0            0            40   United-States   <=50K  \n",
      "3            0            0            40   United-States   <=50K  \n",
      "4            0            0            40            Cuba   <=50K  \n"
     ]
    }
   ],
   "source": [
    "import pandas as pd\n",
    "names = ['age', 'workclass', 'fnlwgt', 'education', 'educationnum', 'maritalstatus', 'occupation', 'relationship', 'race',\n",
    "        'sex', 'capitalgain', 'capitalloss', 'hoursperweek', 'nativecountry', 'label']\n",
    "train_df = pd.read_csv(\"statics/data/02_08_01_adult.data\", header=None, names=names)\n",
    "print(train_df.head())"
   ]
  },
  {
   "cell_type": "markdown",
   "metadata": {},
   "source": [
    "<div dir=\"rtl\" style=\"text-align: right;\">\n",
    "\n",
    " \n",
    "<h2>جمع‌آوری آمار داده‌ها</h2>\n",
    "<p>یک نقطه خوب برای شروع فقط نگاه کردن به داده‌های شما با استفاده از برخی توابع \n",
    "pandas\n",
    " برای درک بهتر مسائل احتمالی است. تابع \n",
    " Describe\n",
    "  به شما تعداد و برخی آمارها برای متغیرهای پیوسته را خواهد داد.</p>\n",
    "\n",
    "\n",
    "<p>برای تمام مقادیر عددی ما، اکنون میانگین، انحراف استاندارد، کمترین، بیشترین و چندین درصد مختلف داریم.</p>\n",
    "<p>توجه: خوب است به خاطر داشته باشید که مقدار میانگین بیشتر تحت تأثیر ناهنجاری‌ها قرار می‌گیرد تا میانه. همچنین، شما همیشه می‌توانید انحراف معیار را مربع کنید تا واریانس را به دست آورید.</p>\n",
    "<p>ممکن است متوجه شده باشید که برخی ستون‌ها گم شده‌اند. تنها ستون‌هایی که تابع \n",
    "describe()\n",
    " برای ما فراهم کرده است، ستون‌هایی هستند که داده‌های عددی دارند.</p>\n",
    "\n",
    "\n",
    "\n",
    "</div>\n"
   ]
  },
  {
   "cell_type": "code",
   "execution_count": 8,
   "metadata": {},
   "outputs": [
    {
     "name": "stdout",
     "output_type": "stream",
     "text": [
      "                age        fnlwgt  educationnum   capitalgain   capitalloss  \\\n",
      "count  32561.000000  3.256100e+04  32561.000000  32561.000000  32561.000000   \n",
      "mean      38.581647  1.897784e+05     10.080679   1077.648844     87.303830   \n",
      "std       13.640433  1.055500e+05      2.572720   7385.292085    402.960219   \n",
      "min       17.000000  1.228500e+04      1.000000      0.000000      0.000000   \n",
      "25%       28.000000  1.178270e+05      9.000000      0.000000      0.000000   \n",
      "50%       37.000000  1.783560e+05     10.000000      0.000000      0.000000   \n",
      "75%       48.000000  2.370510e+05     12.000000      0.000000      0.000000   \n",
      "max       90.000000  1.484705e+06     16.000000  99999.000000   4356.000000   \n",
      "\n",
      "       hoursperweek  \n",
      "count  32561.000000  \n",
      "mean      40.437456  \n",
      "std       12.347429  \n",
      "min        1.000000  \n",
      "25%       40.000000  \n",
      "50%       40.000000  \n",
      "75%       45.000000  \n",
      "max       99.000000  \n"
     ]
    }
   ],
   "source": [
    "import pandas as pd\n",
    "names = ['age', 'workclass', 'fnlwgt', 'education', 'educationnum', 'maritalstatus', 'occupation', 'relationship', 'race',\n",
    "        'sex', 'capitalgain', 'capitalloss', 'hoursperweek', 'nativecountry', 'label']\n",
    "train_df = pd.read_csv(\"statics/data/02_08_01_adult.data\", header=None, names=names)\n",
    "print(train_df.describe()) # چاپ توصیف داده"
   ]
  },
  {
   "cell_type": "markdown",
   "metadata": {},
   "source": [
    "<div dir=\"rtl\" style=\"text-align: right;\">\n",
    "\n",
    "\n",
    "<h2>یافتن انواع داده‌ها</h2>\n",
    "<p>برای دیدن انواع داده‌هایی که داریم، می‌توانیم از تابع info() استفاده کنیم:</p>\n",
    "</div>\n"
   ]
  },
  {
   "cell_type": "code",
   "execution_count": 9,
   "metadata": {},
   "outputs": [
    {
     "name": "stdout",
     "output_type": "stream",
     "text": [
      "<class 'pandas.core.frame.DataFrame'>\n",
      "RangeIndex: 32561 entries, 0 to 32560\n",
      "Data columns (total 15 columns):\n",
      " #   Column         Non-Null Count  Dtype \n",
      "---  ------         --------------  ----- \n",
      " 0   age            32561 non-null  int64 \n",
      " 1   workclass      32561 non-null  object\n",
      " 2   fnlwgt         32561 non-null  int64 \n",
      " 3   education      32561 non-null  object\n",
      " 4   educationnum   32561 non-null  int64 \n",
      " 5   maritalstatus  32561 non-null  object\n",
      " 6   occupation     32561 non-null  object\n",
      " 7   relationship   32561 non-null  object\n",
      " 8   race           32561 non-null  object\n",
      " 9   sex            32561 non-null  object\n",
      " 10  capitalgain    32561 non-null  int64 \n",
      " 11  capitalloss    32561 non-null  int64 \n",
      " 12  hoursperweek   32561 non-null  int64 \n",
      " 13  nativecountry  32561 non-null  object\n",
      " 14  label          32561 non-null  object\n",
      "dtypes: int64(6), object(9)\n",
      "memory usage: 3.7+ MB\n",
      "None\n"
     ]
    }
   ],
   "source": [
    "import pandas as pd\n",
    "\n",
    "# \n",
    "names = ['age', 'workclass', 'fnlwgt', 'education', 'educationnum', 'maritalstatus', 'occupation', 'relationship', 'race',\n",
    "        'sex', 'capitalgain', 'capitalloss', 'hoursperweek', 'nativecountry', 'label']\n",
    "train_df = pd.read_csv(\"statics/data/02_08_01_adult.data\", header=None, names=names)\n",
    "                      \n",
    "print(train_df.info())  # چاپ اطلاعات داده"
   ]
  },
  {
   "cell_type": "markdown",
   "metadata": {},
   "source": [
    "\n",
    "<div dir=\"rtl\" style=\"text-align: right;\">\n",
    "\n",
    "<p>در دیتافریم ما، دو نوع داده وجود دارد، \n",
    "object\n",
    " و \n",
    " int64\n",
    " . می‌توانید به \n",
    " object\n",
    "  به عنوان مقدار رشته‌ای و به \n",
    "  int64\n",
    "   به عنوان عدد صحیح فکر کنید.</p>\n",
    "<h3>تبدیل نوع داده‌ها</h3>\n",
    "<p>اگر ستونی به نظر نمی‌رسد که نوع داده درستی داشته باشد، تبدیل آن به انواع دیگر با استفاده از توابع \n",
    ".to_()\n",
    " آسان است:</p>\n",
    " <ul>\n",
    "<li>to_numeric()</li>\n",
    "<li>to_datetime()</li>\n",
    "<li>to_string()</li>\n",
    "</ul>\n",
    "<p>برای مثال:</p>\n",
    "\n",
    "\n",
    "</div>\n"
   ]
  },
  {
   "cell_type": "code",
   "execution_count": null,
   "metadata": {},
   "outputs": [],
   "source": [
    "# این دستور را اجرا نکنید. تنها برای نمایش چگونگی کار است\n",
    "\n",
    "df['numeric_column'] = pd.to_numeric(df['string_column'])"
   ]
  },
  {
   "cell_type": "markdown",
   "metadata": {},
   "source": [
    "\n",
    "<div dir=\"rtl\" style=\"text-align: right;\">\n",
    "\n",
    "\n",
    "\n",
    "<p>همچنین شما تعداد مقادیر غیرnull در هر ستون و میزان استفاده از حافظه دیتافریم خود را از دستور info که در بالا استفاده شد، دریافت می‌کنید.</p>\n",
    "<h2>یافتن مقادیر منحصر به فرد</h2>\n",
    "<p>یک گام مفید دیگر، نگاه کردن به مقادیر منحصر به فرد برای ستون‌ها است. در اینجا یک مثال برای ستون رابطه آورده شده است:</p>\n",
    "</div>"
   ]
  },
  {
   "cell_type": "code",
   "execution_count": null,
   "metadata": {},
   "outputs": [
    {
     "name": "stdout",
     "output_type": "stream",
     "text": [
      "[' Not-in-family' ' Husband' ' Wife' ' Own-child' ' Unmarried'\n",
      " ' Other-relative']\n"
     ]
    }
   ],
   "source": [
    "import pandas as pd\n",
    "names = ['age', 'workclass', 'fnlwgt', 'education', 'educationnum', 'maritalstatus', 'occupation', 'relationship', 'race',\n",
    "        'sex', 'capitalgain', 'capitalloss', 'hoursperweek', 'nativecountry', 'label']\n",
    "train_df = pd.read_csv(\"statics/data/02_08_01_adult.data\", header=None, names=names)\n",
    "print(train_df['relationship'].unique())"
   ]
  },
  {
   "cell_type": "markdown",
   "metadata": {},
   "source": [
    "\n",
    "<div dir=\"rtl\" style=\"text-align: right;\">\n",
    "\n",
    "\n",
    "<p>همچنین شما تعداد مقادیر غیر\n",
    "null\n",
    " در هر ستون و میزان استفاده از حافظه دیتافریم خود را از دستور \n",
    " info\n",
    "  که در بالا استفاده شد، دریافت می‌کنید.</p>\n",
    "<h2>یافتن مقادیر منحصر به فرد</h2>\n",
    "<p>یک گام مفید دیگر، نگاه کردن به مقادیر منحصر به فرد برای ستون‌ها است. در اینجا یک مثال برای ستون رابطه آورده شده است:</p>\n",
    "</div>"
   ]
  },
  {
   "cell_type": "code",
   "execution_count": null,
   "metadata": {},
   "outputs": [
    {
     "name": "stdout",
     "output_type": "stream",
     "text": [
      "[' Not-in-family' ' Husband' ' Wife' ' Own-child' ' Unmarried'\n",
      " ' Other-relative']\n"
     ]
    }
   ],
   "source": [
    "import pandas as pd\n",
    "names = ['age', 'workclass', 'fnlwgt', 'education', 'educationnum', 'maritalstatus', 'occupation', 'relationship', 'race',\n",
    "        'sex', 'capitalgain', 'capitalloss', 'hoursperweek', 'nativecountry', 'label']\n",
    "train_df = pd.read_csv(\"statics/data/02_08_01_adult.data\", header=None, names=names)\n",
    "print(train_df['relationship'].unique())"
   ]
  },
  {
   "cell_type": "markdown",
   "metadata": {},
   "source": [
    "<div dir=\"rtl\" style=\"text-align: right;\">\n",
    "\n",
    "<p>اکنون می‌توانیم تمام مقادیر منحصر به فرد بالا را ببینیم و شمارش‌های مقادیر منحصر به فرد برای روابط را بررسی کنیم:</p>\n",
    "\n",
    "</div>"
   ]
  },
  {
   "cell_type": "code",
   "execution_count": null,
   "metadata": {},
   "outputs": [
    {
     "name": "stdout",
     "output_type": "stream",
     "text": [
      "relationship\n",
      "Husband           13193\n",
      "Not-in-family      8305\n",
      "Own-child          5068\n",
      "Unmarried          3446\n",
      "Wife               1568\n",
      "Other-relative      981\n",
      "Name: count, dtype: int64\n"
     ]
    }
   ],
   "source": [
    "import pandas as pd\n",
    "names = ['age', 'workclass', 'fnlwgt', 'education', 'educationnum', 'maritalstatus', 'occupation', 'relationship', 'race',\n",
    "        'sex', 'capitalgain', 'capitalloss', 'hoursperweek', 'nativecountry', 'label']\n",
    "train_df = pd.read_csv(\"statics/data/02_08_01_adult.data\", header=None, names=names)\n",
    "print(train_df['relationship'].value_counts())"
   ]
  },
  {
   "cell_type": "markdown",
   "metadata": {},
   "source": [
    "<div dir=\"rtl\" style=\"text-align: right;\">\n",
    "\n",
    "\n",
    "<p>این به ما تمام مقادیر منحصر به فرد برای روابط و همچنین تعداد آنها را نشان می‌دهد. پس، ما تعداد زیادی همسر به عنوان همسر در ستون رابطه داریم، اما کمتر از سایر بستگان.</p>\n",
    "\n",
    "<h2>گروه‌بندی داده‌ها</h2>\n",
    "<p>ما همچنین می‌توانیم این نوع شمارش‌ها را با گروه‌های خاص با استفاده از تابع \n",
    "groupby()\n",
    " انجام دهیم. این تابع لیستی از ستون‌ها را که می‌خواهید داده‌هایتان را بر اساس آنها گروه‌بندی کنید می‌گیرد. سپس محاسبات درخواستی را بر روی هر گروه به طور جداگانه انجام می‌دهد و نتایج را بر اساس گروه برمی‌گرداند. در اینجا یک مثال آورده شده است:</p>\n",
    "\n",
    "\n",
    "</div>\n"
   ]
  },
  {
   "cell_type": "code",
   "execution_count": null,
   "metadata": {},
   "outputs": [
    {
     "name": "stdout",
     "output_type": "stream",
     "text": [
      "relationship    label\n",
      "Husband         <=50K    0.551429\n",
      "                >50K     0.448571\n",
      "Not-in-family   <=50K    0.896930\n",
      "                >50K     0.103070\n",
      "Other-relative  <=50K    0.962283\n",
      "                >50K     0.037717\n",
      "Own-child       <=50K    0.986780\n",
      "                >50K     0.013220\n",
      "Unmarried       <=50K    0.936738\n",
      "                >50K     0.063262\n",
      "Wife            <=50K    0.524872\n",
      "                >50K     0.475128\n",
      "Name: proportion, dtype: float64\n"
     ]
    }
   ],
   "source": [
    "import pandas as pd\n",
    "names = ['age', 'workclass', 'fnlwgt', 'education', 'educationnum', 'maritalstatus', 'occupation', 'relationship', 'race',\n",
    "        'sex', 'capitalgain', 'capitalloss', 'hoursperweek', 'nativecountry', 'label']\n",
    "train_df = pd.read_csv(\"statics/data/02_08_01_adult.data\", header=None, names=names)\n",
    "\n",
    "# گروه‌بندی داده‌ها و شمارش تعداد آنها به صورت نرمال‌شده                  \n",
    "print(train_df.groupby('relationship')['label'].value_counts(normalize=True))"
   ]
  },
  {
   "cell_type": "markdown",
   "metadata": {},
   "source": [
    "<div dir=\"rtl\" style=\"text-align: right;\">\n",
    "\n",
    "\n",
    "\n",
    "<p>آنچه در بالا انجام دادیم، گروه‌بندی بر اساس متغیر، رابطه\n",
    "(relationship)\n",
    " بود و سپس شمارش مقادیر را بر روی متغیر \n",
    " label\n",
    "  انجام دادیم. برای این داده‌ها،   \n",
    "  label\n",
    "      این است که آیا شما بیش از 50 هزار دلار درآمد دارید. ما می‌توانیم ببینیم که 55٪ از همسران بیش از 50 هزار دلار درآمد دارند. ما درصدها را دریافت کردیم زیرا از پارامتر \n",
    "      normalize=True\n",
    "   استفاده کردیم.</p>\n",
    "\n",
    "<p>شما می‌توانید انواع محاسبات را بر روی گروه‌ها با استفاده از \n",
    "Pandas\n",
    " انجام دهید. به عنوان مثال، در اینجا ما می‌توانیم میانگین ساعات کاری در هفته را بر اساس کلاس کاری ببینیم.</p>\n",
    "\n",
    "\n",
    "</div>\n"
   ]
  },
  {
   "cell_type": "code",
   "execution_count": null,
   "metadata": {},
   "outputs": [
    {
     "name": "stdout",
     "output_type": "stream",
     "text": [
      "workclass\n",
      "?                   31.919390\n",
      "Federal-gov         41.379167\n",
      "Local-gov           40.982800\n",
      "Never-worked        28.428571\n",
      "Private             40.267096\n",
      "Self-emp-inc        48.818100\n",
      "Self-emp-not-inc    44.421881\n",
      "State-gov           39.031587\n",
      "Without-pay         32.714286\n",
      "Name: hoursperweek, dtype: float64\n"
     ]
    }
   ],
   "source": [
    "import pandas as pd\n",
    "names = ['age', 'workclass', 'fnlwgt', 'education', 'educationnum', 'maritalstatus', 'occupation', 'relationship', 'race',\n",
    "        'sex', 'capitalgain', 'capitalloss', 'hoursperweek', 'nativecountry', 'label']\n",
    "train_df = pd.read_csv(\"statics/data/02_08_01_adult.data\", header=None, names=names)\n",
    "print(train_df.groupby(['workclass'])['hoursperweek'].mean())"
   ]
  },
  {
   "cell_type": "markdown",
   "metadata": {},
   "source": [
    "<div dir=\"rtl\" style=\"text-align: right;\">\n",
    "\n",
    "\n",
    "\n",
    " \n",
    "<p>از آمار بالا، به نظر می‌رسد که کارمندان دولت فدرال به طور متوسط بیشتر از کارگران محلی کار می‌کنند. میانگین کسانی که هرگز کار نکرده‌اند حدود 28 ساعت است.</p>\n",
    "<h2>یافتن همبستگی</h2>\n",
    "<p>یک آمار مفید دیگر، همبستگی است. اگر به یک مرور در مورد همبستگی نیاز دارید، لطفا صفحه ویکی‌پدیا را بررسی کنید. شما می‌توانید تمام همبستگی‌های جفتی در داده‌هایتان را با استفاده از تابع corr محاسبه کنید.</p>\n",
    "\n",
    "\n",
    "</div>"
   ]
  },
  {
   "cell_type": "code",
   "execution_count": null,
   "metadata": {},
   "outputs": [
    {
     "name": "stdout",
     "output_type": "stream",
     "text": [
      "                   age    fnlwgt  educationnum  capitalgain  capitalloss  \\\n",
      "age           1.000000 -0.076646      0.036527     0.077674     0.057775   \n",
      "fnlwgt       -0.076646  1.000000     -0.043195     0.000432    -0.010252   \n",
      "educationnum  0.036527 -0.043195      1.000000     0.122630     0.079923   \n",
      "capitalgain   0.077674  0.000432      0.122630     1.000000    -0.031615   \n",
      "capitalloss   0.057775 -0.010252      0.079923    -0.031615     1.000000   \n",
      "hoursperweek  0.068756 -0.018768      0.148123     0.078409     0.054256   \n",
      "\n",
      "              hoursperweek  \n",
      "age               0.068756  \n",
      "fnlwgt           -0.018768  \n",
      "educationnum      0.148123  \n",
      "capitalgain       0.078409  \n",
      "capitalloss       0.054256  \n",
      "hoursperweek      1.000000  \n"
     ]
    }
   ],
   "source": [
    "import pandas as pd\n",
    "names = ['age', 'workclass', 'fnlwgt', 'education', 'educationnum', 'maritalstatus', 'occupation', 'relationship', 'race',\n",
    "        'sex', 'capitalgain', 'capitalloss', 'hoursperweek', 'nativecountry', 'label']\n",
    "train_df = pd.read_csv(\"statics/data/02_08_01_adult.data\", header=None, names=names)\n",
    "\n",
    "# محاسبه همبستگی                 \n",
    "print(train_df.corr(numeric_only=True))"
   ]
  },
  {
   "cell_type": "markdown",
   "metadata": {},
   "source": [
    "<div dir=\"rtl\" style=\"text-align: right;\">\n",
    "\n",
    "\n",
    "\n",
    "<p>ما به سرعت می‌توانیم ببینیم که در مقایسه با تمام همبستگی‌ها، همبستگی بالاتری بین \"ساعات در هفته\" و \"شماره تحصیلات\" وجود دارد، اما خیلی زیاد نیست. شما متوجه خواهید شد، از آنجا که نوع داده   \n",
    "label\n",
    "    ما یک \n",
    "    object \n",
    "     است، در اینجا گنجانده نشده است. دانستن اینکه چگونه متغیرها با   \n",
    "    label\n",
    "        ما همبستگی دارند مفید خواهد بود، پس بیایید ببیینیم چگونه آن‌را بدست بیاوریم:</p>\n",
    "\n",
    "\n",
    "\n",
    "</div>"
   ]
  },
  {
   "cell_type": "code",
   "execution_count": null,
   "metadata": {},
   "outputs": [
    {
     "name": "stdout",
     "output_type": "stream",
     "text": [
      "                   age    fnlwgt  educationnum  capitalgain  capitalloss  \\\n",
      "age           1.000000 -0.076646      0.036527     0.077674     0.057775   \n",
      "fnlwgt       -0.076646  1.000000     -0.043195     0.000432    -0.010252   \n",
      "educationnum  0.036527 -0.043195      1.000000     0.122630     0.079923   \n",
      "capitalgain   0.077674  0.000432      0.122630     1.000000    -0.031615   \n",
      "capitalloss   0.057775 -0.010252      0.079923    -0.031615     1.000000   \n",
      "hoursperweek  0.068756 -0.018768      0.148123     0.078409     0.054256   \n",
      "label_int     0.234037 -0.009463      0.335154     0.223329     0.150526   \n",
      "\n",
      "              hoursperweek  label_int  \n",
      "age               0.068756   0.234037  \n",
      "fnlwgt           -0.018768  -0.009463  \n",
      "educationnum      0.148123   0.335154  \n",
      "capitalgain       0.078409   0.223329  \n",
      "capitalloss       0.054256   0.150526  \n",
      "hoursperweek      1.000000   0.229689  \n",
      "label_int         0.229689   1.000000  \n"
     ]
    }
   ],
   "source": [
    "import pandas as pd\n",
    "names = ['age', 'workclass', 'fnlwgt', 'education', 'educationnum', 'maritalstatus', 'occupation', 'relationship', 'race',\n",
    "        'sex', 'capitalgain', 'capitalloss', 'hoursperweek', 'nativecountry', 'label']\n",
    "train_df = pd.read_csv(\"statics/data/02_08_01_adult.data\", header=None, names=names)\n",
    "\n",
    "# تبدیل داده lable \n",
    "# اگر بیش‌از پنجاه‌هزار باشد به یک و در غیر این صورت به صفر تبدیل می‌شود\n",
    "train_df['label_int'] = train_df.label.apply(lambda x: \">\" in x)\n",
    "print(train_df.corr(numeric_only=True))"
   ]
  },
  {
   "cell_type": "markdown",
   "metadata": {},
   "source": [
    "<div dir=\"rtl\" style=\"text-align: right;\">\n",
    "\n",
    "\n",
    "\n",
    "\n",
    "<p>به نظر می‌رسد همبستگی مناسبی بین   \n",
    "label\n",
    "    و شماره تحصیلات وجود دارد. یک چیزی که باید توجه داشت این است که   \n",
    "    label\n",
    "        ما دسته‌بندی است، بنابراین همبستگی واقعا کاربردی ندارد، شاید فرکانس‌های گروه‌بندی ما روش بهتری باشند.</p>\n",
    "<p>توجه: متغیرهای دسته‌بندی متغیرهایی با دسته‌هایی هستند که ترتیب ذاتی ندارند. به عنوان مثال، جنسیت.</p>\n",
    "\n",
    "<p>همچنین، به خاطر داشته باشید، این‌ها فقط همبستگی‌های یک متغیری هستند (بین یک متغیر) و اثرات چند متغیره (بین چندین متغیر) را در نظر نمی‌گیرند. شما همچنین می‌توانید همبستگی را با استفاده از  \n",
    "scipy\n",
    " محاسبه کنید که مزیت افزودن مقادیر \n",
    " p-value\n",
    "  را دارد که قبلا به چگونگی آن پرداختیم.</p>\n",
    "<h2>تولید درصدها</h2>\n",
    "<p>در نهایت، تابع \n",
    "describe\n",
    " از \n",
    " Pandas\n",
    "  برخی درصدها را می‌دهد، اما افزودن بیشتر آن‌ها آسان است:</p>\n",
    "\n",
    "\n",
    "<p>یک درصد، مقداری است که زیر آن درصد مشخصی از داده‌ها قرار دارد.</p>\n",
    "<p>ما مقادیر درصدی که می‌خواهیم را با استفاده از پارامتر percentiles که در بالا نشان داده شده است، ارائه می‌دهیم.</p>\n",
    "<p>در درس بعدی، ما به بررسی روش‌های مختلف برای تغییر شکل داده‌فریم خود خواهیم پرداخت.</p>\n",
    "\n",
    "</div>"
   ]
  },
  {
   "cell_type": "code",
   "execution_count": 11,
   "metadata": {},
   "outputs": [
    {
     "name": "stdout",
     "output_type": "stream",
     "text": [
      "                age        fnlwgt  educationnum   capitalgain   capitalloss  \\\n",
      "count  32561.000000  3.256100e+04  32561.000000  32561.000000  32561.000000   \n",
      "mean      38.581647  1.897784e+05     10.080679   1077.648844     87.303830   \n",
      "std       13.640433  1.055500e+05      2.572720   7385.292085    402.960219   \n",
      "min       17.000000  1.228500e+04      1.000000      0.000000      0.000000   \n",
      "1%        17.000000  2.718580e+04      3.000000      0.000000      0.000000   \n",
      "5%        19.000000  3.946000e+04      5.000000      0.000000      0.000000   \n",
      "50%       37.000000  1.783560e+05     10.000000      0.000000      0.000000   \n",
      "95%       63.000000  3.796820e+05     14.000000   5013.000000      0.000000   \n",
      "99%       74.000000  5.100720e+05     16.000000  15024.000000   1980.000000   \n",
      "max       90.000000  1.484705e+06     16.000000  99999.000000   4356.000000   \n",
      "\n",
      "       hoursperweek  \n",
      "count  32561.000000  \n",
      "mean      40.437456  \n",
      "std       12.347429  \n",
      "min        1.000000  \n",
      "1%         8.000000  \n",
      "5%        18.000000  \n",
      "50%       40.000000  \n",
      "95%       60.000000  \n",
      "99%       80.000000  \n",
      "max       99.000000  \n"
     ]
    }
   ],
   "source": [
    "import pandas as pd\n",
    "names = ['age', 'workclass', 'fnlwgt', 'education', 'educationnum', 'maritalstatus', 'occupation', 'relationship', 'race',\n",
    "        'sex', 'capitalgain', 'capitalloss', 'hoursperweek', 'nativecountry', 'label']\n",
    "train_df = pd.read_csv(\"statics/data/02_08_01_adult.data\", header=None, names=names)\n",
    "\n",
    "#  توصیف داده به همراه به‌دست‌آوردن عددی در هر ستون که درصد مشخصی از داده زیر آن قرار داردند                     \n",
    "print(train_df.describe(percentiles=[.01,.05,.95,.99]))"
   ]
  },
  {
   "cell_type": "markdown",
   "metadata": {},
   "source": [
    "<div dir=\"rtl\" style=\"text-align: right;\">\n",
    "\n",
    "\n",
    "\n",
    "<p>یک درصد، مقداری است که زیر آن درصد مشخصی از داده‌ها قرار دارد.</p>\n",
    "<p>ما مقادیر درصدی که می‌خواهیم را با استفاده از پارامتر percentiles که در بالا نشان داده شده است، ارائه می‌دهیم.</p>\n",
    "<p>در درس بعدی، ما به بررسی روش‌های مختلف برای تغییر شکل داده‌فریم خود خواهیم پرداخت.</p>\n",
    "\n",
    "</div>"
   ]
  }
 ],
 "metadata": {
  "kernelspec": {
   "display_name": "venv",
   "language": "python",
   "name": "python3"
  },
  "language_info": {
   "codemirror_mode": {
    "name": "ipython",
    "version": 3
   },
   "file_extension": ".py",
   "mimetype": "text/x-python",
   "name": "python",
   "nbconvert_exporter": "python",
   "pygments_lexer": "ipython3",
   "version": "3.11.8"
  }
 },
 "nbformat": 4,
 "nbformat_minor": 2
}
