{
 "cells": [
  {
   "cell_type": "markdown",
   "metadata": {},
   "source": [
    "<div dir=\"rtl\" style=\"text-align: right;\">\n",
    "<h1>مقیاس‌بندی</h1>\n",
    "\n",
    "<h2>معرفی</h2>\n",
    "\n",
    "<p>مقیاس ویژگی‌های شما برای بسیاری از الگوریتم‌های یادگیری ماشین مهم است. داشتن مقادیر درآمد که از ۱۰۰ تا ۱۰۰,۰۰۰ متغیر است و سن‌هایی که از ۰ تا ۱۰۰ متغیر است، می‌تواند به دلیل تفاوت زیاد در مقیاس این دو ستون داده مشکل‌ساز باشد. برای مقابله با این مسئله، معمول است که داده‌ها را مجدداً مقیاس‌بندی کنیم. روش‌های زیادی برای انجام این کار وجود دارد، اما دو مورد رایج عبارتند از:</p>\n",
    "<ul>\n",
    "<li>مقیاس‌بندی استاندارد</li>\n",
    "<li>مقیاس‌بندی حداقل/حداکثر</li>\n",
    "</ul>\n",
    "\n",
    "<h3>انواع مقیاس‌بندی</h3>\n",
    "<h4>مقیاس‌بندی استاندارد</h4>\n",
    "<p>مقیاس‌بندی استاندارد میانگین را کم می‌کند و بر انحراف معیار تقسیم می‌کند. این کار داده‌را در صفر با واریانس واحد قرار می‌دهد.</p>\n",
    "\n",
    "</div>\n",
    "\n"
   ]
  },
  {
   "cell_type": "code",
   "execution_count": 1,
   "metadata": {},
   "outputs": [
    {
     "name": "stdout",
     "output_type": "stream",
     "text": [
      "Before Standard scaling\n",
      "[-0.125  9.   ]\n",
      "[0.73950997 5.91607978]\n",
      "After Standard scaling\n",
      "[0. 0.]\n",
      "[1. 1.]\n"
     ]
    }
   ],
   "source": [
    "from sklearn.preprocessing import MinMaxScaler, StandardScaler\n",
    "import numpy as np\n",
    "\n",
    "# ساخت ماتریس داده\n",
    "data = [[-1, 2], \n",
    "        [-0.5, 6], \n",
    "        [0, 10], \n",
    "        [1, 18]]\n",
    "\n",
    "print(\"Before Standard scaling\")\n",
    "print(np.mean(data, 0))\n",
    "print(np.std(data, 0))\n",
    "\n",
    "# مقداردهی بوسیله  StandardScaler\n",
    "standard = StandardScaler()\n",
    "# مقیاس کردن داده\n",
    "standard_data = standard.fit_transform(data)\n",
    "\n",
    "print(\"After Standard scaling\")\n",
    "print(np.mean(standard_data, 0))\n",
    "print(np.std(standard_data, 0))"
   ]
  },
  {
   "cell_type": "markdown",
   "metadata": {},
   "source": [
    "<div dir=\"rtl\" style=\"text-align: right;\">\n",
    "\n",
    "<p>در مثال بالا، ما یک آرایه \n",
    "NumPy\n",
    " به شکل (۴,۲) ایجاد کردیم. سپس  \n",
    " StandardScaler()\n",
    "  را از \n",
    "  sklearn\n",
    "   استفاده کردیم که به طور خودکار میانگین را کم می‌کند و بر انحراف معیار هر یک از ستون‌های ما تقسیم می‌کند. این کار با فراخوانی \n",
    "   fit_transform()\n",
    "    انجام می‌شود.</p>\n",
    "<p>ما با چاپ میانگین و انحراف معیار بررسی کردیم که آیا کد ما آنگونه که می‌خواستیم کار کرده است. می‌توانیم ببینیم که هر دو ستون اکنون میانگین ۰ و انحراف معیار ۱ دارند.</p>\n",
    "<h4>مقیاس‌بندی حداقل/حداکثر</h4>\n",
    "<p>بیایید به همان مثال نگاه کنیم اما این بار از \n",
    "MinMaxScaler()\n",
    " از \n",
    " sklearn\n",
    "  استفاده کنیم.</p>\n",
    "\n",
    "\n",
    "\n",
    "\n",
    "</div>\n"
   ]
  },
  {
   "cell_type": "code",
   "execution_count": 2,
   "metadata": {},
   "outputs": [
    {
     "name": "stdout",
     "output_type": "stream",
     "text": [
      "[0. 0.]\n",
      "[1. 1.]\n",
      "[0.4375 0.4375]\n",
      "[0.36975499 0.36975499]\n"
     ]
    }
   ],
   "source": [
    "from sklearn.preprocessing import MinMaxScaler\n",
    "import numpy as np\n",
    "\n",
    "# ساخت ماتریس داده\n",
    "data = [[-1, 2], \n",
    "        [-0.5, 6], \n",
    "        [0, 10], \n",
    "        [1, 18]]\n",
    "\n",
    "# مقداردهی بوسیله MinMaxScaler\n",
    "min_max = MinMaxScaler()\n",
    "# مقیاس کردن داده\n",
    "min_max_data = min_max.fit_transform(data)\n",
    "\n",
    "print(np.min(min_max_data, 0))\n",
    "print(np.max(min_max_data, 0))\n",
    "print(np.mean(min_max_data, 0))\n",
    "print(np.std(min_max_data, 0))"
   ]
  },
  {
   "cell_type": "markdown",
   "metadata": {},
   "source": [
    "<div dir=\"rtl\" style=\"text-align: right;\">\n",
    "\n",
    "\n",
    "<p>به طور پیش‌فرض، \n",
    "MinMaxScaler()\n",
    " هر ستون را به گونه‌ای مقیاس‌بندی می‌کند که مقدار حداقل ۰ و حداکثر ۱ داشته باشد.</p>\n",
    "<p>ما با چاپ کردن مقادیر حداقل و حداکثر تأیید می‌کنیم که کد ما این کار را انجام داده است. ما همچنین میانگین و انحراف معیار ستون‌ها را چاپ کردیم تا ببینیم که دیگر ۰ و ۱ نیستند. شما می‌توانید محدوده حداقل و حداکثر را با پاس دادن پارامترهای زیر تغییر دهید:</p>\n",
    "\n",
    "</div>"
   ]
  },
  {
   "cell_type": "code",
   "execution_count": null,
   "metadata": {},
   "outputs": [],
   "source": [
    "feature_range=(min, max)"
   ]
  }
 ],
 "metadata": {
  "kernelspec": {
   "display_name": "venv",
   "language": "python",
   "name": "python3"
  },
  "language_info": {
   "codemirror_mode": {
    "name": "ipython",
    "version": 3
   },
   "file_extension": ".py",
   "mimetype": "text/x-python",
   "name": "python",
   "nbconvert_exporter": "python",
   "pygments_lexer": "ipython3",
   "version": "3.11.8"
  }
 },
 "nbformat": 4,
 "nbformat_minor": 2
}
