{
 "cells": [
  {
   "cell_type": "markdown",
   "metadata": {},
   "source": [
    "<div dir=\"rtl\" style=\"text-align: right;\">\n",
    "<h1>نماها \n",
    "views\n",
    " و کپی‌ها\n",
    " copies</h1>\n",
    "\n",
    "\n",
    "<p>نماها و کپی‌ها مفاهیم مهمی برای بهینه‌سازی محاسبات عددی شما هستند. حتی اگر ما قبلاً آن‌ها را در بخش قبلی دستکاری کرده‌ایم، داستان کامل کمی پیچیده‌تر است.</p>\n",
    "\n",
    "<h2>دسترسی مستقیم و غیرمستقیم</h2>\n",
    "\n",
    "<p>هنگام اجرای یک دستور numpy، یا یک کپی از آرایه ورودی ایجاد می‌شود یا یک نما ارائه می‌دهد. وقتی محتویات فیزیکی در مکان دیگری ذخیره شده‌اند، آن را کپی می‌نامیم. اگر از سوی دیگر، نمای متفاوتی از همان محتوای حافظه ارائه شود، آن را نما می‌نامیم.</p>\n",
    "\n",
    "<h3>فهرست‌بندی و فهرست‌بندی پیچیده</h3>\n",
    "\n",
    "<p>ابتدا باید بین فهرست‌بندی و فهرست‌بندی پیچیده تمایز قائل شویم. اولی همیشه یک نما برمی‌گرداند در حالی که دومی یک کپی برمی‌گرداند. این تفاوت مهم است زیرا در مورد اول، تغییر نما باعث تغییر آرایه پایه می‌شود در حالی که این در مورد دوم صدق نمی‌کند:</p>\n",
    "</div>\n"
   ]
  },
  {
   "cell_type": "code",
   "execution_count": 4,
   "metadata": {},
   "outputs": [
    {
     "name": "stdout",
     "output_type": "stream",
     "text": [
      "[1. 1. 1. 0. 0. 0. 0. 0. 0.]\n",
      "[0. 0. 0. 0. 0. 0. 0. 0. 0.]\n"
     ]
    }
   ],
   "source": [
    "import numpy as np\n",
    "\n",
    "Z = np.zeros(9)\n",
    "Z_view = Z[:3] \n",
    "Z_view[...] = 1 # Z_view آرایه پایه 'Z' را تغییر می‌دهد\n",
    "print(Z)\n",
    "Z = np.zeros(9)\n",
    "Z_copy = Z[[0,1,2]]\n",
    "Z_copy[...] = 1 # Z_copy آرایه پایه 'Z' را تغییر نمی‌دهد\n",
    "print(Z)"
   ]
  },
  {
   "cell_type": "markdown",
   "metadata": {},
   "source": [
    "<div dir=\"rtl\" style=\"text-align: right;\">\n",
    "<p>بنابراین، اگر به فهرست‌بندی پیچیده نیاز دارید، بهتر است کپی از آرایه خود نگه دارید.</p>\n",
    "\n",
    "\n",
    "</div>\n"
   ]
  },
  {
   "cell_type": "code",
   "execution_count": 5,
   "metadata": {},
   "outputs": [
    {
     "name": "stdout",
     "output_type": "stream",
     "text": [
      "[1. 1. 1. 0. 0. 0. 0. 0. 0.]\n"
     ]
    }
   ],
   "source": [
    "import numpy as np\n",
    "Z = np.zeros(9) \n",
    "index = [0,1,2]\n",
    "Z[index] = 1 # در اندیس‌های 0, 1, و 2 عدد 1 را ذخیره کن\n",
    "print(Z)"
   ]
  },
  {
   "cell_type": "markdown",
   "metadata": {},
   "source": [
    "<div dir=\"rtl\" style=\"text-align: right;\">\n",
    "\n",
    "\n",
    "<p>اگر مطمئن نیستید که نتیجه فهرست‌بندی شما نما است یا کپی، می‌توانید پایه نتیجه خود را بررسی کنید. اگر پایه آن None باشد، پس نتیجه شما یک کپی است:</p>\n",
    "\n",
    "\n",
    "\n",
    "</div>"
   ]
  },
  {
   "cell_type": "code",
   "execution_count": 6,
   "metadata": {},
   "outputs": [
    {
     "name": "stdout",
     "output_type": "stream",
     "text": [
      "True\n",
      "True\n",
      "False\n",
      "True\n"
     ]
    }
   ],
   "source": [
    "import numpy as np\n",
    "Z = np.random.uniform(0,1,(5,5)) # نمونه‌ای از توزیع یکنواخت\n",
    "Z1 = Z[:3,:]\n",
    "#print(\"Z1\",Z1)\n",
    "Z2 = Z[[0,1,2], :]\n",
    "#print(\"Z2\",Z2)\n",
    "print(np.allclose(Z1,Z2)) # در صورتی که دو آرایه با محدوده‌ای به صورت المانی به هم نزدیک باشند True را برمی‌گرداند\n",
    "print(Z1.base is Z)# اگر حافظه z1 با z اشتراک داشته باشد true بر می‌گرداند\n",
    "print(Z2.base is Z)\n",
    "print(Z2.base is None) # اگر z2 حافظه اشتراکی نداشته باشد true  را برمی‌گرداند"
   ]
  },
  {
   "cell_type": "markdown",
   "metadata": {},
   "source": [
    "<div dir=\"rtl\" style=\"text-align: right;\">\n",
    "\n",
    "\n",
    "\n",
    "\n",
    "<p>در کد بالا می‌توانیم ببینیم که Z1.base is Z مقدار \n",
    "True \n",
    "را برمی‌گرداند. زیرا \n",
    "Z1\n",
    " حافظه \n",
    " Z\n",
    "  را به اشتراک می‌گذارد و \n",
    "  Z1\n",
    "   یک کپی از \n",
    "   Z ایجاد می‌کند. \n",
    "   Z2.base is Z\n",
    "    مقدار False  را برمی‌گرداند زیرا Z2 یک نما از Z را فراهم می‌کند، بنابراین حافظه Z را به اشتراک نمی‌گذارد.</p>\n",
    "</div>"
   ]
  },
  {
   "cell_type": "markdown",
   "metadata": {},
   "source": [
    "<div dir=\"rtl\" style=\"text-align: right;\">\n",
    "<h2>Ravel و Flatten</h2>\n",
    "<p>برخی از توابع \n",
    "NumPy\n",
    " هنگامی که ممکن است یک نما برمی‌گردانند، مانند <code>ravel</code>، در حالی که برخی دیگر همیشه یک کپی برمی‌گردانند، مانند <code>flatten</code>. مثال زیر مفهوم <code>ravel</code> و <code>flatten</code> را از طریق کد توضیح می‌دهد:</p>\n",
    "\n",
    "\n",
    "\n",
    "\n",
    "</div>\n"
   ]
  },
  {
   "cell_type": "code",
   "execution_count": 7,
   "metadata": {},
   "outputs": [
    {
     "name": "stdout",
     "output_type": "stream",
     "text": [
      "Z:\n",
      " [[0. 0. 0. 0. 0.]\n",
      " [0. 0. 0. 0. 0.]\n",
      " [0. 0. 0. 0. 0.]\n",
      " [0. 0. 0. 0. 0.]\n",
      " [0. 0. 0. 0. 0.]]\n",
      "Z.ravel().base:\n",
      " [[0. 0. 0. 0. 0.]\n",
      " [0. 0. 0. 0. 0.]\n",
      " [0. 0. 0. 0. 0.]\n",
      " [0. 0. 0. 0. 0.]\n",
      " [0. 0. 0. 0. 0.]]\n",
      "Z.ravel().base is Z: True\n",
      "\n",
      "Z[::2,::2].ravel():\n",
      " [0. 0. 0. 0. 0. 0. 0. 0. 0.]\n",
      "\n",
      "Z[::2,::2].ravel().base is Z: False\n",
      "\n",
      "Z.flatten()\n",
      ": [0. 0. 0. 0. 0. 0. 0. 0. 0. 0. 0. 0. 0. 0. 0. 0. 0. 0. 0. 0. 0. 0. 0. 0.\n",
      " 0.]\n",
      "Z.flatten.base is Z: False\n"
     ]
    }
   ],
   "source": [
    "import numpy as np\n",
    "\n",
    "Z = np.zeros((5,5))\n",
    "print(\"Z:\\n\",Z)\n",
    "print(\"Z.ravel().base:\\n\",Z.ravel().base)\n",
    "print(\"Z.ravel().base is Z:\",Z.ravel().base is Z) # اگر حافظه‌ی Z.ravel() با Z مشترک باشد، True برمی‌گرداند\n",
    "\n",
    "print(\"\\nZ[::2,::2].ravel():\\n\",Z[::2,::2].ravel())\n",
    "print(\"\\nZ[::2,::2].ravel().base is Z:\",Z[::2,::2].ravel().base is Z)# اگر حافظه‌ی Z[::2,::2].ravel() با Z مشترک باشد، True برمی‌گرداند\n",
    "\n",
    "print(\"\\nZ.flatten()\\n:\",Z.flatten())\n",
    "print(\"Z.flatten.base is Z:\",Z.flatten().base is Z)# اگر حافظه‌ی Z.flatten() با Z مشترک باشد، True برمی‌گرداند\n",
    "\n",
    "\n"
   ]
  },
  {
   "cell_type": "markdown",
   "metadata": {},
   "source": [
    "<div dir=\"rtl\" style=\"text-align: right;\">\n",
    "<h2>کپی موقت</h2>\n",
    "<p>کپی‌ها می‌توانند به صورت صریح مانند بخش قبلی ایجاد شوند، اما معمول‌ترین حالت، ایجاد نسخه‌های میانی به صورت ضمنی است. این زمانی اتفاق می‌افتد که شما محاسباتی را با آرایه‌ها انجام می‌دهید:</p>\n",
    "\n",
    "</div>\n"
   ]
  },
  {
   "cell_type": "code",
   "execution_count": 8,
   "metadata": {},
   "outputs": [
    {
     "name": "stdout",
     "output_type": "stream",
     "text": [
      "X: [1 1 1 1 1 1 1 1 1 1]\n",
      "Y: [1 1 1 1 1 1 1 1 1 1]\n",
      "A=2*X + 2*Y :\n",
      "A: [4 4 4 4 4 4 4 4 4 4]\n"
     ]
    }
   ],
   "source": [
    "import numpy as np\n",
    "\n",
    "X = np.ones(10, dtype=int)  # ایجاد یک آرایه X از اندازه ۱۰ حاوی یک‌ها\n",
    "Y = np.ones(10, dtype=int)  # ایجاد یک آرایه Y از اندازه ۱۰ حاوی یک‌ها\n",
    "A = 2*X + 2*Y  # ذخیره ۲*X + ۲*Y در A\n",
    "print(\"X:\", X)\n",
    "print(\"Y:\", Y)\n",
    "print(\"A=2*X + 2*Y :\\nA:\", A)"
   ]
  },
  {
   "cell_type": "markdown",
   "metadata": {},
   "source": [
    "<div dir=\"rtl\" style=\"text-align: right;\">\n",
    "\n",
    "\n",
    "\n",
    "<p>در مثال بالا، سه آرایه میانی ایجاد شده‌اند. یکی برای نگه داشتن نتیجه ۲*X، یکی برای نگه داشتن نتیجه ۲*Y و آخری برای نگه داشتن نتیجه ۲*X+۲*Y. در این مورد خاص، آرایه‌ها به اندازه کافی کوچک هستند و این واقعا تفاوتی ایجاد نمی‌کند. با این حال، اگر آرایه‌های شما بزرگ هستند، باید در مورد چنین عباراتی دقت کنید و بیندیشید که آیا می‌توانید آن را به شکل دیگری انجام دهید. به عنوان مثال، اگر فقط نتیجه نهایی مهم است و شما بعدا به X یا Y نیاز ندارید، راه‌حل جایگزین می‌تواند به صورت زیر باشد:</p>\n",
    "</div>\n"
   ]
  },
  {
   "cell_type": "code",
   "execution_count": 9,
   "metadata": {},
   "outputs": [
    {
     "name": "stdout",
     "output_type": "stream",
     "text": [
      "X: [1 1 1 1 1 1 1 1 1 1] Y: [1 1 1 1 1 1 1 1 1 1] \n",
      " np.multiply(X, 2, out=X)\n",
      "X: [2 2 2 2 2 2 2 2 2 2] Y: [1 1 1 1 1 1 1 1 1 1] \n",
      " np.multiply(Y, 2, out=Y)\n",
      "X: [2 2 2 2 2 2 2 2 2 2] Y: [2 2 2 2 2 2 2 2 2 2] \n",
      " np.add(X, Y, out=X)\n",
      "X: [4 4 4 4 4 4 4 4 4 4] Y: [2 2 2 2 2 2 2 2 2 2]\n"
     ]
    }
   ],
   "source": [
    "import numpy as np\n",
    "X = np.ones(10, dtype=int) # ایجاد یک آرایه X با اندازه 10 که شامل یک‌ها است\n",
    "Y = np.ones(10, dtype=int) # ایجاد یک آرایه Y با اندازه 10 که شامل یک‌ها است\n",
    "print(\"X:\",X,\"Y:\",Y,\"\\n np.multiply(X, 2, out=X)\")\n",
    "np.multiply(X, 2, out=X) # X را در 2 ضرب کن و نتیجه را در X ذخیره کن\n",
    "print(\"X:\",X,\"Y:\",Y,\"\\n np.multiply(Y, 2, out=Y)\")\n",
    "np.multiply(Y, 2, out=Y)# Y را در 2 ضرب کن و نتیجه را در Y ذخیره کن\n",
    "print(\"X:\",X,\"Y:\",Y,\"\\n np.add(X, Y, out=X)\")\n",
    "np.add(X, Y, out=X)# X و Y را با هم جمع کن و نتیجه را در X ذخیره کن\n",
    "print(\"X:\",X,\"Y:\",Y)"
   ]
  },
  {
   "cell_type": "markdown",
   "metadata": {},
   "source": [
    "<div dir=\"rtl\" style=\"text-align: right;\">\n",
    "<p>با استفاده از این راه‌حل جایگزین، هیچ آرایه موقتی ایجاد نشده است. مشکل این است که موارد زیاد دیگری وجود دارد که در آن‌ها نیاز به ایجاد چنین کپی‌هایی است و این بر عملکرد تأثیر می‌گذارد، همانطور که در مثال زیر نشان داده شده است:</p>\n",
    "\n",
    "</div>\n"
   ]
  },
  {
   "cell_type": "code",
   "execution_count": 10,
   "metadata": {},
   "outputs": [
    {
     "name": "stdout",
     "output_type": "stream",
     "text": [
      "1 loops, best of 3: 546 msec per loop\n",
      "1 loops, best of 3: 405 msec per loop\n",
      "1 loops, best of 3: 296 msec per loop\n"
     ]
    }
   ],
   "source": [
    "import numpy as np\n",
    "from utils.tools import timeit\n",
    "\n",
    "def test(X,Y):\n",
    "  timeit(\"Z=X + 2.0*Y\", globals()) # \tزمان گرفته شده برای Z=X + 2.0*Y\n",
    "  timeit(\"Z = X + 2*Y\", globals()) # زمان گرفته شده برای Z=X + 2*Y\n",
    "  timeit(\"np.add(X, Y, out=X); np.add(X, Y, out=X)\", globals())\n",
    "  # زمان گرفته شده برای np.add(X, Y, out=X); np.add(X, Y, out=X)\n",
    "   \n",
    "X = np.ones(100000000, dtype=int) \n",
    "Y = np.ones(100000000, dtype=int)\n",
    "test(X,Y)"
   ]
  },
  {
   "cell_type": "markdown",
   "metadata": {},
   "source": [
    "<div dir=\"rtl\" style=\"text-align: right;\">\n",
    "\n",
    "\n",
    "<p>در این مثال، به دلیل حجم بالای داده‌ها و پیچیدگی عملیات، ایجاد نسخه‌های موقت اجتناب‌ناپذیر است و ممکن است بر عملکرد سیستم تأثیر بگذارد. راه‌حل‌های بهینه‌سازی ممکن است شامل بازنویسی عملیات به شکلی باشد که کمترین کپی ممکن را ایجاد کند.</p>\n",
    "</div>"
   ]
  }
 ],
 "metadata": {
  "kernelspec": {
   "display_name": "venv",
   "language": "python",
   "name": "python3"
  },
  "language_info": {
   "codemirror_mode": {
    "name": "ipython",
    "version": 3
   },
   "file_extension": ".py",
   "mimetype": "text/x-python",
   "name": "python",
   "nbconvert_exporter": "python",
   "pygments_lexer": "ipython3",
   "version": "3.11.8"
  }
 },
 "nbformat": 4,
 "nbformat_minor": 2
}
