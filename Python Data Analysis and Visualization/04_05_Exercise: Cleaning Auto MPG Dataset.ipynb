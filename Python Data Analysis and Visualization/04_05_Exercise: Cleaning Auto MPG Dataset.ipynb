{
 "cells": [
  {
   "cell_type": "markdown",
   "metadata": {},
   "source": [
    "<div dir=\"rtl\" style=\"text-align: right;\">\n",
    "<h1>تمرین: پاک‌سازی مجموعه داده‌های مصرف سوخت خودرو</h1>\n",
    "<p>این تمرین یک راه ساده برای شروع بررسی ناهنجاری‌های بالقوه را آزمایش می‌کند. موارد زیر را پوشش خواهیم داد:</p>\n",
    "\n",
    "<h2>تشخیص ناهنجاری‌ها</h2>\n",
    "<p>در این تمرین، ما از همان دیتافریمی استفاده خواهیم کرد که در تمرین خواندن داده‌ها خوانده شده است.</p>\n",
    "<p>سپس ما یک تابع اضافی به نام \n",
    "<code>outlier_detection</code>\n",
    " ایجاد می‌کنیم که یک دیتافریم \n",
    " <code>df</code>\n",
    "  را می‌گیرد و داده‌ها با ناهنجاری درصدهای\n",
    "  (percentile)\n",
    "   زیر را در یک لیست برمی‌گرداند:</p>\n",
    "<ul>\n",
    "<li>درصدی ۹۰ام برای هر ستون</li>\n",
    "<li>درصدی ۱۰ام برای هر ستون</li>\n",
    "</ul>\n",
    "<p>سعی کنید تابع زیر را پیاده‌سازی کنید. موفق باشید!</p>\n",
    "</div>\n"
   ]
  },
  {
   "cell_type": "code",
   "execution_count": null,
   "metadata": {},
   "outputs": [],
   "source": [
    "import pandas as pd\n",
    "def read_csv():\n",
    "    # تعیین نام ستون‌ها\n",
    "    names = [\"mpg\", \"cylinders\", \"displacement\", \"horsepower\", \"weight\", \"acceleration\", \"model_year\", \"origin\", \"car_name\"]\n",
    "    # خواندن فایل \n",
    "    df = pd.read_csv(\"statics/data/02_12_auto-mpg.data\", header=None, names=names, delim_whitespace=True)\n",
    "    return df\n",
    "\n",
    "df = read_csv() \n",
    "\n",
    "def outlier_detection(df):\n",
    "    return [0,0] # بازگرداندن ۹۰ و ۱۰ درصدی داده\n"
   ]
  }
 ],
 "metadata": {
  "language_info": {
   "name": "python"
  }
 },
 "nbformat": 4,
 "nbformat_minor": 2
}
