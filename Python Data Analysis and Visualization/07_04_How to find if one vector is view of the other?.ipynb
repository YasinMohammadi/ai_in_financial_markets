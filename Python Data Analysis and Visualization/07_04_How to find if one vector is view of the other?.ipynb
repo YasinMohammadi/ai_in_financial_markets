{
 "cells": [
  {
   "cell_type": "markdown",
   "metadata": {},
   "source": [
    "<div dir=\"rtl\" style=\"text-align: right;\">\n",
    "<h2> چگونگی تعیین اینکه آیا یک بردار نمای دیگری است؟</h2>\n",
    "\n",
    "<h3>بیان مسئله</h3>\n",
    "<p>دو بردار Z1 و Z2 داده شده است. می‌خواهیم بدانیم آیا Z2 نمایی از Z1 است و اگر بله، این نما چگونه است؟</p>\n",
    "\n",
    "<h3>مثال</h3>\n",
    "<p>مثال زیر برای درک بهتر شما ارائه شده است:</p>\n",
    "\n",
    "\n",
    "\n",
    "\n",
    "\n",
    "\n",
    "\n",
    "\n",
    "</div>\n"
   ]
  },
  {
   "cell_type": "code",
   "execution_count": 1,
   "metadata": {},
   "outputs": [
    {
     "name": "stdout",
     "output_type": "stream",
     "text": [
      "[0 1 2 3 4 5 6 7 8 9]\n",
      "[1 3 5 7]\n"
     ]
    }
   ],
   "source": [
    "import numpy as np\n",
    "Z1 = np.arange(10) # در Z1 یک آرایه نامپای با اندازه 10 ذخیره کنید که شامل مقادیر از 0 تا 9 است\n",
    "Z2 = Z1[1:-1:2] # مقادیر شاخص‌های متناوب از Z1 را در Z2 ذخیره کنید\n",
    "print(Z1)\n",
    "print(Z2)"
   ]
  },
  {
   "cell_type": "markdown",
   "metadata": {},
   "source": [
    "<div dir=\"rtl\" style=\"text-align: right;\">\n",
    "\n",
    "\n",
    "<h3>تصویرسازی</h3>\n",
    "<p>تصویر زیر نشان می‌دهد که دو بردار Z1 و Z2 چگونه به نظر می‌رسند:</p>\n",
    "</div>\n",
    "\n",
    "<pre>\n",
    "  \n",
    "      ╌╌╌┬───┬───┬───┬───┬───┬───┬───┬───┬───┬───┬╌╌\n",
    "   Z1    │ 0 │ 1 │ 2 │ 3 │ 4 │ 5 │ 6 │ 7 │ 8 │ 9 │\n",
    "      ╌╌╌┴───┴───┴───┴───┴───┴───┴───┴───┴───┴───┴╌╌\n",
    "      ╌╌╌╌╌╌╌┬───┬╌╌╌┬───┬╌╌╌┬───┬╌╌╌┬───┬╌╌╌╌╌╌╌╌╌╌\n",
    "   Z2        │ 1 │   │ 3 │   │ 5 │   │ 7 │\n",
    "      ╌╌╌╌╌╌╌┴───┴╌╌╌┴───┴╌╌╌┴───┴╌╌╌┴───┴╌╌╌╌╌╌╌╌╌╌\n",
    "</pre>\n",
    "\n",
    "<div dir=\"rtl\" style=\"text-align: right;\">\n",
    "<h3>مرحله ۱: بررسی وجود نما</h3>\n",
    "<p>متد base به شما اطلاع می‌دهد که آیا نما واقعاً وجود دارد:</p>\n",
    "\n",
    "\n",
    "\n",
    "</div>"
   ]
  },
  {
   "cell_type": "code",
   "execution_count": 2,
   "metadata": {},
   "outputs": [
    {
     "name": "stdout",
     "output_type": "stream",
     "text": [
      "True\n"
     ]
    }
   ],
   "source": [
    "print(Z2.base is Z1) # بررسی کنید که آیا Z2 بر پایه Z1 است"
   ]
  },
  {
   "cell_type": "markdown",
   "metadata": {},
   "source": [
    "<div dir=\"rtl\" style=\"text-align: right;\">\n",
    "\n",
    "\n",
    "\n",
    "<p>در این نقطه، ما می‌دانیم Z2 نمایی از Z1 است، به این معنا که Z2 را می‌توان به صورت Z1[start:stop:step] بیان کرد. دشواری در یافتن start، stop و step است.</p>\n",
    "</div>"
   ]
  },
  {
   "cell_type": "markdown",
   "metadata": {},
   "source": [
    "\n",
    "<div dir=\"rtl\" style=\"text-align: right;\">\n",
    "<h3>مرحله ۲: یافتن مقدار گام step</h3>\n",
    "<p>برای محاسبه گام، می‌توانیم از ویژگی <code>strides</code> هر آرایه استفاده کنیم که تعداد بایت‌ها برای رفتن از یک عنصر به عنصر دیگر در هر بُعد را نشان می‌دهد. در مورد ما و به دلیل اینکه هر دو آرایه یک‌بعدی هستند، می‌توانیم مستقیماً فقط اولین <code>stride</code> را مقایسه کنیم:</p>\n",
    "\n",
    "</div>\n"
   ]
  },
  {
   "cell_type": "code",
   "execution_count": 3,
   "metadata": {},
   "outputs": [
    {
     "name": "stdout",
     "output_type": "stream",
     "text": [
      "step: 16\n"
     ]
    }
   ],
   "source": [
    "step = Z2.strides[0] # مقدار استراید برای بعد اول را بگیر\n",
    "print(\"step:\",step) # مقدار استراید را چاپ کن"
   ]
  },
  {
   "cell_type": "markdown",
   "metadata": {},
   "source": [
    "<div dir=\"rtl\" style=\"text-align: right;\">\n",
    "<h3>مرحله ۳: یافتن شاخص‌های شروع و پایان در آرایه</h3>\n",
    "<p>مشکل بعدی یافتن شاخص‌های شروع و پایان است.</p>\n",
    "<p>برای انجام این کار، می‌توانیم از متد <code>byte_bounds</code> استفاده کنیم که نشانگری به نقاط پایانی یک آرایه برمی‌گرداند.</p>\n",
    "\n",
    "</div>\n",
    "\n",
    "\n",
    "<pre>\n",
    "byte_bounds(Z1)[0]                  byte_bounds(Z1)[-1]\n",
    "           ↓                                   ↓ \n",
    "      ╌╌╌┬───┬───┬───┬───┬───┬───┬───┬───┬───┬───┬╌╌\n",
    "   Z1    │ 0 │ 1 │ 2 │ 3 │ 4 │ 5 │ 6 │ 7 │ 8 │ 9 │\n",
    "      ╌╌╌┴───┴───┴───┴───┴───┴───┴───┴───┴───┴───┴╌╌\n",
    "\n",
    "         byte_bounds(Z2)[0]      byte_bounds(Z2)[-1]\n",
    "               ↓                       ↓ \n",
    "      ╌╌╌╌╌╌╌┬───┬╌╌╌┬───┬╌╌╌┬───┬╌╌╌┬───┬╌╌╌╌╌╌╌╌╌╌\n",
    "   Z2        │ 1 │   │ 3 │   │ 5 │   │ 7 │\n",
    "      ╌╌╌╌╌╌╌┴───┴╌╌╌┴───┴╌╌╌┴───┴╌╌╌┴───┴╌╌╌╌╌╌╌╌╌╌\n",
    "</pre>\n"
   ]
  },
  {
   "cell_type": "code",
   "execution_count": 5,
   "metadata": {},
   "outputs": [],
   "source": [
    "\n",
    "from numpy import  byte_bounds\n",
    "# اشاره‌گر به نقطه شروع و پایان آرایه Z1\n",
    "start_pointer_Z1 = byte_bounds(Z1)[0]\n",
    "end_pointer_Z1 = byte_bounds(Z1)[-1]\n",
    "\n",
    "# اشاره‌گر به نقطه شروع و پایان آرایه Z2\n",
    "start_pointer_Z2 = byte_bounds(Z2)[0]\n",
    "end_pointer_Z2 = byte_bounds(Z2)[-1]\n",
    "\n"
   ]
  },
  {
   "cell_type": "markdown",
   "metadata": {},
   "source": [
    "<div dir=\"rtl\" style=\"text-align: right;\">\n",
    "<p>در اینجا، <code>byte_bounds(Z1)[0]</code> و <code>byte_bounds(Z2)[0]</code> نشانگری به نقطه شروع آرایه‌های Z1 و Z2 به ترتیب برمی‌گردانند و <code>byte_bounds(Z1)[-1]</code> و <code>byte_bounds(Z2)[-1]</code> نشانگری به نقاط پایانی Z1 و Z2 به ترتیب برمی‌گردانند.</p>\n",
    "</div>\n"
   ]
  },
  {
   "cell_type": "markdown",
   "metadata": {},
   "source": [
    "Coding Challenge: Try it yourself!\n",
    "\n",
    "Looking at the illustration, try solving this challenge below! You have to find the values of offset_start and offset_stop. Take the assumption that the code already imports the NumPy library as np.\n",
    "\n",
    "\n",
    "\n",
    "Step 4: Convert the offsets into index values\n",
    "\n",
    "Converting these offsets into index values is straightforward using the itemsize and taking into account that the offset_stop is negative (end-bound of Z2 is logically smaller than end-bound of Z1 array). We thus need to add the items size of Z1 to get the right end index.\n",
    "1\n",
    "2\n",
    "3\n",
    "4\n",
    "Step 5: Test your result!\n",
    "\n",
    "Last, we test our results by using the allclose method in NumPy. It returns True if the two arrays are equal element-wise by comparing the relative and absolute difference of the two arrays with the already set threshold value, called tolerance.\n",
    "\n"
   ]
  },
  {
   "cell_type": "markdown",
   "metadata": {},
   "source": [
    "<div dir=\"rtl\" style=\"text-align: right;\">\n",
    "<h2>چالش: خودتان امتحان کنید!</h2>\n",
    "<p>با نگاه کردن به تصویرسازی، سعی کنید این چالش زیر را حل کنید! شما باید مقادیر <code>offset_start</code> و <code>offset_stop</code> را پیدا کنید.</p>\n",
    "\n",
    "\n",
    "</div>\n"
   ]
  },
  {
   "cell_type": "code",
   "execution_count": 6,
   "metadata": {},
   "outputs": [],
   "source": [
    "def calculate_offsets(Z1, Z2):\n",
    "  offset_start = offset_stop = 0\n",
    "  # کد را تکمیل کنید\n",
    "  \n",
    "  return [offset_start, offset_stop]"
   ]
  },
  {
   "cell_type": "markdown",
   "metadata": {},
   "source": [
    "<div dir=\"rtl\" style=\"text-align: right;\">\n",
    "\n",
    "\n",
    "\n",
    "<h3>مرحله ۴: تبدیل فاصله‌ها به مقادیر اندیس</h3>\n",
    "<p>تبدیل این فاصله‌ها به مقادیر شاخص با استفاده از <code>itemsize</code> و با در نظر گرفتن اینکه <code>offset_stop</code> منفی است (مرز پایانی Z2 منطقاً کوچکتر از مرز پایانی آرایه Z1 است)، ساده است. بنابراین، ما باید اندازه آیتم‌های Z1 را اضافه کنیم تا شاخص پایانی درست را به دست آوریم.</p>\n",
    "\n",
    "\n",
    "\n",
    "<h3>مرحله ۵: آزمایش نتیجه شما!</h3>\n",
    "<p>در نهایت، نتایج خود را با استفاده از متد <code>allclose</code> در NumPy آزمایش می‌کنیم. این متد <code>True</code> را برمی‌گرداند اگر دو آرایه از نظر عنصری با یکدیگر برابر باشند، با مقایسه تفاوت نسبی و مطلق دو آرایه با مقدار تحمل تنظیم شده، به نام تحمل.</p>\n",
    "<pre>\n",
    "# تایید که Z2 واقعاً نمایی از Z1 است\n",
    "assert np.allclose(Z1[offset_start:offset_stop:step], Z2, atol=0.1)\n",
    "</pre>\n",
    "</div>"
   ]
  },
  {
   "cell_type": "code",
   "execution_count": null,
   "metadata": {},
   "outputs": [],
   "source": [
    "offsets = calculate_offsets(Z1, Z2)\n",
    "offset_start = offsets[0]\n",
    "offset_stop = offsets[1]\n",
    "\n",
    "start = offset_start # محاسبه شاخص شروع\n",
    "stop = Z1.size + offset_stop # محاسبه شاخص پایان\n",
    "print(\"start:\",start) \n",
    "print(\"stop:\",stop)"
   ]
  },
  {
   "cell_type": "markdown",
   "metadata": {},
   "source": [
    "<div dir=\"rtl\" style=\"text-align: right;\">\n",
    "\n",
    "\n",
    "\n",
    "\n",
    "\n",
    "<h3>مرحله ۵: آزمایش نتیجه شما!</h3>\n",
    "<p>در نهایت، نتایج خود را با استفاده از متد <code>allclose</code> در NumPy آزمایش می‌کنیم. این متد <code>True</code> را برمی‌گرداند اگر دو آرایه از نظر عنصری با یکدیگر برابر باشند، با مقایسه تفاوت نسبی و مطلق دو آرایه با مقدار تحمل تنظیم شده، به نام تحمل.</p>\n",
    "\n",
    "\n",
    "</div>"
   ]
  },
  {
   "cell_type": "code",
   "execution_count": null,
   "metadata": {},
   "outputs": [],
   "source": [
    "print(np.allclose(Z1[start:stop:step], Z2)) # در صورت برابری عنصر به عنصر دو آرایه، True برمی‌گرداند"
   ]
  }
 ],
 "metadata": {
  "kernelspec": {
   "display_name": "venv",
   "language": "python",
   "name": "python3"
  },
  "language_info": {
   "codemirror_mode": {
    "name": "ipython",
    "version": 3
   },
   "file_extension": ".py",
   "mimetype": "text/x-python",
   "name": "python",
   "nbconvert_exporter": "python",
   "pygments_lexer": "ipython3",
   "version": "3.11.8"
  }
 },
 "nbformat": 4,
 "nbformat_minor": 2
}
