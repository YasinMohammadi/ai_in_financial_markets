{
 "cells": [
  {
   "cell_type": "markdown",
   "metadata": {},
   "source": [
    "\n",
    "<div dir=\"rtl\" style=\"text-align: right;\">\n",
    "<h1>آرایه‌ها</h1>\n",
    "<h2>مقدمه</h2>\n",
    "\n",
    "<p>این فصل آناتومی اساسی آرایه‌های NumPy را، به ویژه در مورد چیدمان حافظه، نما، کپی و نوع داده توضیح می‌دهد. این مفاهیم اگر می‌خواهید محاسبات شما از فلسفه NumPy بهره‌مند شوند ضروری هستند که باید درک شوند.</p>\n",
    "<p>بیایید یک مثال ساده را در نظر بگیریم که می‌خواهیم تمام مقادیر را از یک آرایه که نوع داده‌ای آن np.float32 است، پاک کنیم. چگونه آن را بنویسیم تا سرعت را به حداکثر برسانیم؟ دستور زیر تا حدی واضح است (حداقل برای کسانی که با NumPy آشنا هستند) اما سوال بالا خواستار یافتن سریع‌ترین عملیات است.</p>\n",
    "</div>\n"
   ]
  },
  {
   "cell_type": "code",
   "execution_count": 1,
   "metadata": {},
   "outputs": [
    {
     "name": "stdout",
     "output_type": "stream",
     "text": [
      "[1. 1. 1. ... 1. 1. 1.]\n",
      "[0. 0. 0. ... 0. 0. 0.]\n",
      "float32\n"
     ]
    }
   ],
   "source": [
    "import numpy as np\n",
    "Z = np.ones(4*1000000, np.float32) # ایجاد یک آرایه از یک‌ها با اندازه 4 *1000000\n",
    "print(Z)\n",
    "Z[...] = 0 # پاک کردن آرایه، تنظیم تمام مقادیر به 0\n",
    "print(Z)\n",
    "print(Z.dtype)# چاپ نوع داده‌های Z"
   ]
  },
  {
   "cell_type": "markdown",
   "metadata": {},
   "source": [
    "<div dir=\"rtl\" style=\"text-align: right;\">\n",
    "<p>اگر به نوع داده (dtype) و اندازه آرایه (size of the array) دقیق‌تر نگاه کنید، متوجه می‌شوید که این آرایه می‌تواند به بسیاری از انواع داده‌های \"سازگار\" دیگر تبدیل  شود. منظور از سازگار، این است که حاصل ضرب اندازه Z در اندازه آیتم Z می‌تواند توسط اندازه آیتم dtype جدید تقسیم شود.</p>\n",
    "</div>\n"
   ]
  },
  {
   "cell_type": "code",
   "execution_count": 2,
   "metadata": {},
   "outputs": [
    {
     "name": "stdout",
     "output_type": "stream",
     "text": [
      "np.float16:\n",
      "100 loops, best of 3: 1.69 msec per loop\n",
      "np.int16:\n",
      "100 loops, best of 3: 1.67 msec per loop\n",
      "np.int32:\n",
      "100 loops, best of 3: 1.53 msec per loop\n",
      "np.float32:\n",
      "100 loops, best of 3: 1.46 msec per loop\n",
      "np.int64:\n",
      "100 loops, best of 3: 1.5 msec per loop\n",
      "np.float64:\n",
      "100 loops, best of 3: 1.45 msec per loop\n",
      "np.complex128:\n",
      "100 loops, best of 3: 1.47 msec per loop\n",
      "np.int8:\n",
      "100 loops, best of 3: 1.29 msec per loop\n",
      "np.float16:\n",
      "100 loops, best of 3: 1.58 msec per loop\n",
      "np.int16:\n",
      "100 loops, best of 3: 1.45 msec per loop\n",
      "np.int32:\n",
      "100 loops, best of 3: 1.43 msec per loop\n",
      "np.float32:\n",
      "100 loops, best of 3: 1.43 msec per loop\n",
      "np.int64:\n",
      "100 loops, best of 3: 1.51 msec per loop\n",
      "np.float64:\n",
      "100 loops, best of 3: 1.55 msec per loop\n",
      "np.complex128:\n",
      "100 loops, best of 3: 1.49 msec per loop\n",
      "np.int8:\n",
      "100 loops, best of 3: 1.28 msec per loop\n"
     ]
    }
   ],
   "source": [
    "import numpy as np\n",
    "from utils.tools import timeit # ماژول محاسبه زمان اجرای برنامه\n",
    "Z = np.ones(4*1000000, np.float32) # ایجاد آرایه‌ای با اندازه 4*1000000 و نوع داده np.float32\n",
    "\n",
    "print(\"np.float16:\")\n",
    "#زمان مورد نیاز برای نمایش آرایه به عنوان  np.float16\n",
    "timeit(\"Z.view(np.float16)[...] = 0\", globals())\n",
    "\n",
    "print(\"np.int16:\")\n",
    "#زمان مورد نیاز برای نمایش آرایه به عنوان  np.int16\n",
    "timeit(\"Z.view(np.int16)[...] = 0\", globals())\n",
    "\n",
    "print(\"np.int32:\")\n",
    "#زمان مورد نیاز برای نمایش آرایه به عنوان  np.int32\n",
    "timeit(\"Z.view(np.int32)[...] = 0\", globals())\n",
    "\n",
    "print(\"np.float32:\")\n",
    "#زمان مورد نیاز برای نمایش آرایه به عنوان  np.float32\n",
    "timeit(\"Z.view(np.float32)[...] = 0\", globals())\n",
    "\n",
    "print(\"np.int64:\")\n",
    "#زمان مورد نیاز برای نمایش آرایه به عنوان  np.int64\n",
    "timeit(\"Z.view(np.int64)[...] = 0\", globals())\n",
    "\n",
    "print(\"np.float64:\")\n",
    "#زمان مورد نیاز برای نمایش آرایه به عنوان  np.float64\n",
    "timeit(\"Z.view(np.float64)[...] = 0\", globals())\n",
    "\n",
    "print(\"np.complex128:\")\n",
    "#زمان مورد نیاز برای نمایش آرایه به عنوان  np.complex128\n",
    "timeit(\"Z.view(np.complex128)[...] = 0\", globals())\n",
    "\n",
    "print(\"np.int8:\")\n",
    "#زمان مورد نیاز برای نمایش آرایه به عنوان  np.int8\n",
    "timeit(\"Z.view(np.int8)[...] = 0\", globals())\n",
    "\n",
    "print(\"np.float16:\")\n",
    "#زمان مورد نیاز برای نمایش آرایه به عنوان  np.float16\n",
    "timeit(\"Z.view(np.float16)[...] = 0\", globals())\n",
    "\n",
    "\n",
    "print(\"np.int16:\")\n",
    "#زمان مورد نیاز برای نمایش آرایه به عنوان  np.int16\n",
    "timeit(\"Z.view(np.int16)[...] = 0\", globals())\n",
    "\n",
    "print(\"np.int32:\")\n",
    "#زمان مورد نیاز برای نمایش آرایه به عنوان  np.int32\n",
    "timeit(\"Z.view(np.int32)[...] = 0\", globals())\n",
    "\n",
    "print(\"np.float32:\")\n",
    "#زمان مورد نیاز برای نمایش آرایه به عنوان  np.float32\n",
    "timeit(\"Z.view(np.float32)[...] = 0\", globals())\n",
    "\n",
    "print(\"np.int64:\")\n",
    "#زمان مورد نیاز برای نمایش آرایه به عنوان  np.int64\n",
    "timeit(\"Z.view(np.int64)[...] = 0\", globals())\n",
    "\n",
    "print(\"np.float64:\")\n",
    "#زمان مورد نیاز برای نمایش آرایه به عنوان  np.float64\n",
    "timeit(\"Z.view(np.float64)[...] = 0\", globals())\n",
    "\n",
    "print(\"np.complex128:\")\n",
    "#زمان مورد نیاز برای نمایش آرایه به عنوان  np.complex128\n",
    "timeit(\"Z.view(np.complex128)[...] = 0\", globals())\n",
    "\n",
    "print(\"np.int8:\")\n",
    "#زمان مورد نیاز برای نمایش آرایه به عنوان  np.int8\n",
    "timeit(\"Z.view(np.int8)[...] = 0\", globals())\n"
   ]
  },
  {
   "cell_type": "markdown",
   "metadata": {},
   "source": [
    "<div dir=\"rtl\" style=\"text-align: right;\">\n",
    "<p>در اینجا از تابع <code>timeit</code> استفاده می‌شود. جالب است که روش واضح برای پاک کردن تمام مقادیر سریع‌ترین نیست. تعداد کل چرخه‌های CPU برای اجرای هر دستور بالا ۱۰۰ است اما دو دستور زمان کمتری در هر حلقه می‌برند. با تبدیل آرایه به یک نوع داده بزرگتر مانند <code>np.float64</code>، ما  سرعت ۲۵٪ بهتر به دست آوردیم. اما، با مشاهده آرایه به عنوان یک آرایه بایت (<code>np.int8</code>)، ما یک عامل ۵۰٪ به دست آوردیم. دلیل چنین افزایش سرعتی در ساختار داخلی NumPy و بهینه‌سازی کامپایلر یافت می‌شود.</p>\n",
    "</div>\n"
   ]
  }
 ],
 "metadata": {
  "kernelspec": {
   "display_name": "venv",
   "language": "python",
   "name": "python3"
  },
  "language_info": {
   "codemirror_mode": {
    "name": "ipython",
    "version": 3
   },
   "file_extension": ".py",
   "mimetype": "text/x-python",
   "name": "python",
   "nbconvert_exporter": "python",
   "pygments_lexer": "ipython3",
   "version": "3.11.8"
  }
 },
 "nbformat": 4,
 "nbformat_minor": 2
}
