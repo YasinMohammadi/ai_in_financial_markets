{
 "cells": [
  {
   "cell_type": "markdown",
   "metadata": {},
   "source": [
    "<div dir=\"rtl\" style=\"text-align: right;\">\n",
    "<h1>تغییر شکل داده‌ها</h1>\n",
    "\n",
    "<h2> چرخش</h2>\n",
    "<p>شبیه به اکسل، ما می‌توانیم داده‌های خود را با استفاده از عملکرد \n",
    "pivot_table\n",
    " در پانداس چرخش دهیم. برای این کار، از تابع \n",
    " pivot_table()\n",
    "  استفاده خواهیم کرد.</p>\n",
    "<p>پارامتر \n",
    "values\n",
    " ستونی است که برای تجمیع استفاده می‌شود، پارامتر \n",
    " index\n",
    "  برای مقادیر شاخص است که چندین ردیف ایجاد می‌کند، و پارامتر \n",
    "  columns\n",
    "   برای مقداری است که می‌خواهید چندین ستون ایجاد شود.</p>\n",
    "\n",
    "<p>همچنین می‌توانید از پارامتر \n",
    "aggfunc\n",
    " برای ارسال تابعی که با آن می‌خواهید چرخش‌های خود را تجمیع کنید، استفاده کنید.</p>\n",
    "<p>بیایید به یک مثال نگاه کنیم:</p>\n",
    "\n",
    "\n",
    "</div>\n"
   ]
  },
  {
   "cell_type": "code",
   "execution_count": 1,
   "metadata": {},
   "outputs": [
    {
     "name": "stdout",
     "output_type": "stream",
     "text": [
      "label                            <=50K   >50K\n",
      "relationship   workclass                     \n",
      "Husband        ?                 30.72  37.33\n",
      "               Federal-gov       42.34  43.05\n",
      "               Local-gov         41.40  44.56\n",
      "               Private           42.50  46.18\n",
      "               Self-emp-inc      48.29  50.49\n",
      "               Self-emp-not-inc  46.01  48.07\n",
      "               State-gov         38.67  45.17\n",
      "               Without-pay       34.25    NaN\n",
      "Not-in-family  ?                 31.29  39.44\n",
      "               Federal-gov       40.60  47.54\n",
      "               Local-gov         40.38  45.01\n",
      "               Never-worked      35.00    NaN\n",
      "               Private           40.20  47.03\n",
      "               Self-emp-inc      49.06  53.58\n",
      "               Self-emp-not-inc  41.53  45.02\n",
      "               State-gov         38.87  44.19\n",
      "Other-relative ?                 29.10  40.00\n",
      "               Federal-gov       38.40  45.00\n",
      "               Local-gov         35.92  48.00\n",
      "               Private           37.44  40.74\n",
      "               Self-emp-inc      40.00  41.67\n",
      "               Self-emp-not-inc  36.16  49.29\n",
      "               State-gov         36.40  29.00\n",
      "Own-child      ?                 32.39  50.00\n",
      "               Federal-gov       35.11    NaN\n",
      "               Local-gov         35.59  41.25\n",
      "               Never-worked      24.80    NaN\n",
      "               Private           32.84  43.09\n",
      "               Self-emp-inc      39.60  43.75\n",
      "               Self-emp-not-inc  40.33  49.38\n",
      "               State-gov         30.10  38.33\n",
      "               Without-pay       35.00    NaN\n",
      "Unmarried      ?                 32.75  50.00\n",
      "               Federal-gov       39.30  43.65\n",
      "               Local-gov         40.09  45.79\n",
      "               Private           38.64  45.70\n",
      "               Self-emp-inc      45.74  58.11\n",
      "               Self-emp-not-inc  40.62  47.81\n",
      "               State-gov         38.15  44.56\n",
      "               Without-pay       37.50    NaN\n",
      "Wife           ?                 28.29  29.72\n",
      "               Federal-gov       38.93  39.74\n",
      "               Local-gov         37.87  40.38\n",
      "               Never-worked      40.00    NaN\n",
      "               Private           36.56  38.31\n",
      "               Self-emp-inc      44.67  38.14\n",
      "               Self-emp-not-inc  36.53  34.61\n",
      "               State-gov         36.50  39.10\n",
      "               Without-pay       23.67    NaN\n"
     ]
    },
    {
     "name": "stderr",
     "output_type": "stream",
     "text": [
      "/tmp/ipykernel_12138/75632625.py:8: FutureWarning: The provided callable <function mean at 0x7e7e30d62980> is currently using DataFrameGroupBy.mean. In a future version of pandas, the provided callable will be used directly. To keep current behavior pass the string \"mean\" instead.\n",
      "  print(pd.pivot_table(train_df, values='hoursperweek', index=['relationship','workclass'],\n"
     ]
    }
   ],
   "source": [
    "import numpy as np\n",
    "import pandas as pd\n",
    "names = ['age', 'workclass', 'fnlwgt', 'education', 'educationnum', 'maritalstatus', 'occupation', 'relationship', 'race',\n",
    "        'sex', 'capitalgain', 'capitalloss', 'hoursperweek', 'nativecountry', 'label']\n",
    "train_df = pd.read_csv(\"statics/data/02_08_01_adult.data\", header=None, names=names)\n",
    "\n",
    "# Pivot the data frame to show by relationship, workclass (rows) and label (columns) the average hours per week.\n",
    "print(pd.pivot_table(train_df, values='hoursperweek', index=['relationship','workclass'], \n",
    "               columns=['label'], aggfunc=np.mean).round(2))"
   ]
  },
  {
   "cell_type": "markdown",
   "metadata": {},
   "source": [
    "<div dir=\"rtl\" style=\"text-align: right;\">\n",
    "\n",
    "<p>اکنون ما یک جدول از میانگین ساعات کار در هفته برای یک رابطه، کلاس کاری و برچسب داده شده داریم.</p>\n",
    "\n",
    "<h2>جدول ضربدری</h2>\n",
    "<p>Crosstab\n",
    " یک راه خوب برای به دست آوردن جداول فرکانس است. آنچه شما انجام می‌دهید این است که دو ستون را به تابع می‌دهید و فرکانس تمام ترکیب‌های جفتی این دو متغیر را خواهید داشت.</p>\n",
    "<p>بیایید به یک مثال با استفاده از \n",
    "lable\n",
    " و \n",
    " \n",
    " relationship\n",
    "  به عنوان ستون‌های ما نگاه کنیم:</p>\n",
    "\n",
    "\n",
    "\n",
    "</div>\n"
   ]
  },
  {
   "cell_type": "code",
   "execution_count": 2,
   "metadata": {},
   "outputs": [
    {
     "name": "stdout",
     "output_type": "stream",
     "text": [
      "relationship  Husband  Not-in-family  Other-relative  Own-child  Unmarried  \\\n",
      "label                                                                        \n",
      "<=50K            7275           7449             944       5001       3228   \n",
      ">50K             5918            856              37         67        218   \n",
      "\n",
      "relationship  Wife  \n",
      "label               \n",
      "<=50K          823  \n",
      ">50K           745  \n"
     ]
    }
   ],
   "source": [
    "import numpy as np\n",
    "import pandas as pd\n",
    "names = ['age', 'workclass', 'fnlwgt', 'education', 'educationnum', 'maritalstatus', 'occupation', 'relationship', 'race',\n",
    "        'sex', 'capitalgain', 'capitalloss', 'hoursperweek', 'nativecountry', 'label']\n",
    "train_df = pd.read_csv(\"statics/data/02_08_01_adult.data\", header=None, names=names)\n",
    "\n",
    "# Calculate the frequencies between label and relationship\n",
    "print(pd.crosstab(train_df['label'], train_df.relationship))"
   ]
  },
  {
   "cell_type": "markdown",
   "metadata": {},
   "source": [
    "<div dir=\"rtl\" style=\"text-align: right;\">\n",
    "\n",
    "\n",
    "\n",
    "\n",
    "<p>اکنون ما شمارش‌ها را بر اساس \n",
    "relationship\n",
    " و \n",
    " lable\n",
    "  داریم. پارامتر اول برای ردیف‌ها و دومی برای ستون‌ها است. ما همچنین می‌توانیم نتایج را با استفاده از پارامتر \n",
    "normalize=True\n",
    " نرمال‌سازی کنیم.</p>\n",
    "\n",
    "\n",
    "</div>"
   ]
  },
  {
   "cell_type": "code",
   "execution_count": 4,
   "metadata": {},
   "outputs": [
    {
     "name": "stdout",
     "output_type": "stream",
     "text": [
      "relationship   Husband  Not-in-family  Other-relative  Own-child  Unmarried  \\\n",
      "label                                                                         \n",
      "<=50K         0.223427       0.228771        0.028992   0.153589   0.099137   \n",
      ">50K          0.181751       0.026289        0.001136   0.002058   0.006695   \n",
      "\n",
      "relationship      Wife  \n",
      "label                   \n",
      "<=50K         0.025276  \n",
      ">50K          0.022880  \n"
     ]
    }
   ],
   "source": [
    "import numpy as np\n",
    "import pandas as pd\n",
    "names = ['age', 'workclass', 'fnlwgt', 'education', 'educationnum', 'maritalstatus', 'occupation', 'relationship', 'race',\n",
    "        'sex', 'capitalgain', 'capitalloss', 'hoursperweek', 'nativecountry', 'label']\n",
    "train_df = pd.read_csv(\"statics/data/02_08_01_adult.data\", header=None, names=names)\n",
    "\n",
    "# Crosstab with normalized outputs\n",
    "print(pd.crosstab(train_df['label'], train_df.relationship, normalize=True))"
   ]
  },
  {
   "cell_type": "markdown",
   "metadata": {},
   "source": [
    "<div dir=\"rtl\" style=\"text-align: right;\">\n",
    "\n",
    "<h2>تغییر شکل</h2>\n",
    "<p>با پانداس، شما می‌توانید از تابع \n",
    "pivot()\n",
    " برای تغییر شکل داده‌های خود استفاده کنید. برای نمایش این مفهوم، من از کد <a href=\"https://stackoverflow.com/questions/38218063/pivoting-dataframe-with-pandas\">این پست</a> برای ایجاد یک داده‌فریم در قالب طولانی استفاده می‌کنم.</p>\n",
    "\n",
    "\n",
    "</div>"
   ]
  },
  {
   "cell_type": "code",
   "execution_count": 15,
   "metadata": {},
   "outputs": [
    {
     "name": "stdout",
     "output_type": "stream",
     "text": [
      "          date variable     value\n",
      "0   2000-01-03        A  0.697888\n",
      "1   2000-01-04        A -0.481704\n",
      "2   2000-01-05        A  1.870864\n",
      "3   2000-01-06        A  0.185110\n",
      "4   2000-01-07        A -1.513389\n",
      "..         ...      ...       ...\n",
      "115 2000-02-07        D -0.341083\n",
      "116 2000-02-08        D -0.113868\n",
      "117 2000-02-09        D  0.288678\n",
      "118 2000-02-10        D  0.048759\n",
      "119 2000-02-11        D  2.523719\n",
      "\n",
      "[120 rows x 3 columns]\n"
     ]
    }
   ],
   "source": [
    "\n",
    "def makeTimeDataFrame(freq='B', periods=30):\n",
    "    rng = pd.date_range(start='1/1/2000', periods=periods, freq=freq)\n",
    "    df = pd.DataFrame({\n",
    "        'A': np.random.randn(periods),\n",
    "        'B': np.random.randn(periods),\n",
    "        'C': np.random.randn(periods),\n",
    "        # 'D': np.random.randn(periods)\n",
    "    }, index=rng)\n",
    "    return df\n",
    "\n",
    "def unpivot(frame):\n",
    "    N, K = frame.shape\n",
    "    data = {\n",
    "        'value': frame.values.ravel('F'),\n",
    "        'variable': np.asarray(frame.columns).repeat(N),\n",
    "        'date': np.tile(np.asarray(frame.index), K)\n",
    "    }\n",
    "    return pd.DataFrame(data, columns=['date', 'variable', 'value'])\n",
    "\n",
    "df = unpivot(makeTimeDataFrame())\n",
    "print(df)"
   ]
  },
  {
   "cell_type": "markdown",
   "metadata": {},
   "source": [
    "<div dir=\"rtl\" style=\"text-align: right;\">\n",
    "\n",
    "<p>همانطور که از خروجی بالا می‌بینید، یک قالب طولانی جایی است که شما یک متغیر دارید که مانند یک ستون بالقوه عمل می‌کند. در این مثال، متغیر دارای مقادیر \n",
    "A، B، و C \n",
    "است. این یک قالب طولانی است. برای تبدیل آن به قالب پهن، ما ستون‌های \n",
    "A، B و C\n",
    " را ایجاد می‌کنیم و ستون متغیر را حذف می‌کنیم.</p>\n",
    "<h3>از قالب طولانی به پهن</h3>\n",
    "<p>در اینجا نحوه تبدیل این داده‌فریم قالب طولانی به قالب پهن آورده شده است:</p>\n",
    "<p>ما از تابع pivot() استفاده می‌کنیم. پارامتر index ستونی است که می‌خواهیم برای شاخص داده‌فریم جدیدمان باشد. متغیر columns برای ستونی است که می‌خواهیم از مقادیر منحصر به فرد آن برای ایجاد ستون‌های جدید استفاده کنیم. پارامتر values ستونی است که می‌خواهیم از آن برای پر کردن مقادیر این ستون‌های جدید استفاده کنیم.</p>\n",
    "<h3>از قالب پهن به طولانی</h3>\n",
    "<p>برای تبدیل قالب از پهن به طولانی، پانداس به ما عملکرد unstacking را از طریق تابع unstack() ارائه می‌دهد. این تابع (در این شرایط) ستون‌های ما را دوباره به یک متغیر واحد تبدیل می‌کند.</p>\n",
    "<p>بیایید به یک مثال در زیر نگاه کنیم:</p>\n",
    "<p>حالا که شما با تکنیک‌ها برای گردآوری آمار در مورد داده‌ها و چیدمان آنها به شکلی که می‌خواهید آشنا هستید، درس بعدی یک چالش برای شما به ارمغان می‌آورد.</p>\n",
    "</div>"
   ]
  }
 ],
 "metadata": {
  "kernelspec": {
   "display_name": "venv",
   "language": "python",
   "name": "python3"
  },
  "language_info": {
   "codemirror_mode": {
    "name": "ipython",
    "version": 3
   },
   "file_extension": ".py",
   "mimetype": "text/x-python",
   "name": "python",
   "nbconvert_exporter": "python",
   "pygments_lexer": "ipython3",
   "version": "3.11.8"
  }
 },
 "nbformat": 4,
 "nbformat_minor": 2
}
