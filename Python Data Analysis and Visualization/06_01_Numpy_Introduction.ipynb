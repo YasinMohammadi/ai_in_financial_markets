{
 "cells": [
  {
   "cell_type": "markdown",
   "metadata": {},
   "source": [
    "<div dir=\"rtl\" style=\"text-align: right;\">\n",
    "<li>معرفی</li>\n",
    "<p>NumPy یک کتابخانه برای زبان برنامه‌نویسی پایتون است که از آرایه‌ها و ماتریس‌های بزرگ و چندبعدی پشتیبانی می‌کند، همراه با مجموعه‌ای بزرگ از توابع ریاضی سطح بالا برای عملیات روی این آرایه‌ها.</p>\n",
    "</div>\n"
   ]
  },
  {
   "cell_type": "markdown",
   "metadata": {},
   "source": [
    "<div dir=\"rtl\" style=\"text-align: right;\">\n",
    "<h1>ایجاد در NumPy</h1>\n",
    "\n",
    "<p>برای استفاده از numpy، کتابخانه numpy را وارد کنید.</p>\n",
    "<pre>import numpy</pre>\n",
    "\n",
    "\n",
    "</div>\n"
   ]
  },
  {
   "cell_type": "code",
   "execution_count": 35,
   "metadata": {},
   "outputs": [],
   "source": [
    "import numpy"
   ]
  },
  {
   "cell_type": "markdown",
   "metadata": {},
   "source": [
    "<div dir=\"rtl\" style=\"text-align: right;\">\n",
    "\n",
    "\n",
    "\n",
    "\n",
    "<h2>ایجاد یک آرایه از صفرها</h2>\n",
    "<p>برای ایجاد یک آرایه numpy حاوی صفرها، بنویسید: <code>np.zeros(size)</code></p>\n",
    "<p>برای ایجاد یک آرایه به اندازه ۹ بنویسید: <code>np.zeros(9)</code></p>\n",
    "\n",
    "\n",
    "\n",
    "\n",
    "</div>"
   ]
  },
  {
   "cell_type": "code",
   "execution_count": 36,
   "metadata": {},
   "outputs": [
    {
     "name": "stdout",
     "output_type": "stream",
     "text": [
      "[0. 0. 0. 0. 0. 0. 0. 0. 0.]\n"
     ]
    }
   ],
   "source": [
    "import numpy as np\n",
    "Z=np.zeros(9)\n",
    "print(Z)"
   ]
  },
  {
   "cell_type": "markdown",
   "metadata": {},
   "source": [
    "<div dir=\"rtl\" style=\"text-align: right;\">\n",
    "\n",
    "\n",
    "\n",
    "\n",
    "<h2>ایجاد یک آرایه از یک‌ها</h2>\n",
    "<p>برای ایجاد یک آرایه numpy حاوی یک‌ها، بنویسید: <code>np.ones(size)</code>.</p>\n",
    "<p>برای ایجاد یک آرایه به اندازه ۹ بنویسید: <code>np.ones(9)</code></p>\n",
    "\n",
    "\n",
    "\n",
    "</div>"
   ]
  },
  {
   "cell_type": "code",
   "execution_count": 37,
   "metadata": {},
   "outputs": [
    {
     "name": "stdout",
     "output_type": "stream",
     "text": [
      "[1. 1. 1. 1. 1. 1. 1. 1. 1.]\n"
     ]
    }
   ],
   "source": [
    "import numpy as np\n",
    "Z = np.ones(9)\n",
    "print(Z)"
   ]
  },
  {
   "cell_type": "markdown",
   "metadata": {},
   "source": [
    "<div dir=\"rtl\" style=\"text-align: right;\">\n",
    "\n",
    "\n",
    "\n",
    "<h2>ایجاد یک آرایه از صفرها و یک‌ها</h2>\n",
    "<p>برای ایجاد یک آرایه از صفرها و یک‌ها، استفاده کنید از <code>np.array([1,0,0,0,0,0,1,0])</code>:</p>\n",
    "\n",
    "\n",
    "</div>"
   ]
  },
  {
   "cell_type": "code",
   "execution_count": 38,
   "metadata": {},
   "outputs": [
    {
     "name": "stdout",
     "output_type": "stream",
     "text": [
      "[1 0 0 0 0 0 0 1 0]\n"
     ]
    }
   ],
   "source": [
    "import numpy as np\n",
    "Z = np.array([1,0,0,0,0,0,0,1,0])\n",
    "print(Z)"
   ]
  },
  {
   "cell_type": "markdown",
   "metadata": {},
   "source": [
    "<div dir=\"rtl\" style=\"text-align: right;\">\n",
    "\n",
    "\n",
    "\n",
    "\n",
    "\n",
    "<h2>ایجاد یک آرایه از دوها</h2>\n",
    "<p>برای ایجاد یک آرایه از دوها بنویسید: <code>2*np.ones(size)</code>.</p>\n",
    "<p>برای ایجاد یک آرایه از دوها به اندازه ۹ بنویسید: <code>2*np.ones(9)</code>.</p>\n",
    "\n",
    "\n",
    "\n",
    "</div>"
   ]
  },
  {
   "cell_type": "code",
   "execution_count": 39,
   "metadata": {},
   "outputs": [
    {
     "name": "stdout",
     "output_type": "stream",
     "text": [
      "[2. 2. 2. 2. 2. 2. 2. 2. 2.]\n"
     ]
    }
   ],
   "source": [
    "import numpy as np\n",
    "Z = 2*np.ones(9)\n",
    "print(Z)"
   ]
  },
  {
   "cell_type": "markdown",
   "metadata": {},
   "source": [
    "<div dir=\"rtl\" style=\"text-align: right;\">\n",
    "\n",
    "\n",
    "\n",
    "\n",
    "\n",
    "<h2>ایجاد یک آرایه NumPy به هر طولی</h2>\n",
    "<p>برای ایجاد یک آرایه به هر طولی بنویسید: <code>np.arange(size)</code>.</p>\n",
    "<p>برای ایجاد یک آرایه به اندازه ۹ بنویسید: <code>np.arange(9)</code>.</p>\n",
    "\n",
    "\n",
    "</div>"
   ]
  },
  {
   "cell_type": "code",
   "execution_count": 40,
   "metadata": {},
   "outputs": [
    {
     "name": "stdout",
     "output_type": "stream",
     "text": [
      "[0 1 2 3 4 5 6 7 8]\n"
     ]
    }
   ],
   "source": [
    "import numpy as np\n",
    "Z = np.arange(9)\n",
    "print(Z)"
   ]
  },
  {
   "cell_type": "markdown",
   "metadata": {},
   "source": [
    "<div dir=\"rtl\" style=\"text-align: right;\">\n",
    "\n",
    "\n",
    "\n",
    "\n",
    "<h2>تغییر شکل یک آرایه NumPy به یک بردار ستونی</h2>\n",
    "<p>برای تغییر شکل یک آرایه numpy، بنویسید: <code>np.arange(size).reshape(size,1)</code>.</p>\n",
    "<p>برای تغییر شکل یک آرایه numpy به ۹ سطر و ۱ ستون، بنویسید: <code>np.arange(9).reshape(9,1)</code>.</p>\n",
    "\n",
    "\n",
    "</div>"
   ]
  },
  {
   "cell_type": "code",
   "execution_count": 41,
   "metadata": {},
   "outputs": [
    {
     "name": "stdout",
     "output_type": "stream",
     "text": [
      "[[0]\n",
      " [1]\n",
      " [2]\n",
      " [3]\n",
      " [4]\n",
      " [5]\n",
      " [6]\n",
      " [7]\n",
      " [8]]\n"
     ]
    }
   ],
   "source": [
    "import numpy as np  \n",
    "Z = np.arange(9).reshape(9,1)\n",
    "print(Z)"
   ]
  },
  {
   "cell_type": "markdown",
   "metadata": {},
   "source": [
    "<div dir=\"rtl\" style=\"text-align: right;\">\n",
    "\n",
    "\n",
    "<h2>تولید یک آرایه از اعداد تصادفی و به فرمت شبکه</h2>\n",
    "<p>برای تولید یک آرایه با اندازه تصادفی، بنویسید: <code>np.random.randint(0,size,(x_dimension,y_dimension))</code>.</p>\n",
    "<p>برای تولید یک آرایه از اعداد تصادفی از ۰ تا ۹ و با بعد x ۳ و بعد y ۳، بنویسید: <code>np.random.randint(0,9,(3,3))</code>.</p>\n",
    "\n",
    "\n",
    "</div>"
   ]
  },
  {
   "cell_type": "code",
   "execution_count": 42,
   "metadata": {},
   "outputs": [
    {
     "name": "stdout",
     "output_type": "stream",
     "text": [
      "[[7 1 5]\n",
      " [7 1 0]\n",
      " [0 6 4]]\n"
     ]
    }
   ],
   "source": [
    "import numpy as np\n",
    "Z=np.random.randint(0,9,(3,3))\n",
    "print(Z)"
   ]
  },
  {
   "cell_type": "markdown",
   "metadata": {},
   "source": [
    "<div dir=\"rtl\" style=\"text-align: right;\">\n",
    "\n",
    "\n",
    "\n",
    "\n",
    "<h2>ایجاد یک Linspace</h2>\n",
    "<p>برای ایجاد اعداد به طور یکنواخت فاصله‌گذاری شده بر روی یک دامنه مشخص بنویسید: <code>np.linspace(start, stop, size)</code></p>\n",
    "<p>برای ایجاد یک linspace از دامنه ۰-۱ و اندازه ۵، بنویسید: <code>Z = np.linspace(0, 1, 5)</code>.</p>\n",
    "\n",
    "</div>"
   ]
  },
  {
   "cell_type": "code",
   "execution_count": 43,
   "metadata": {},
   "outputs": [
    {
     "name": "stdout",
     "output_type": "stream",
     "text": [
      "[0.   0.25 0.5  0.75 1.  ]\n"
     ]
    }
   ],
   "source": [
    "import numpy as np \n",
    "Z = np.linspace(0, 1, 5)\n",
    "print(Z)"
   ]
  },
  {
   "cell_type": "markdown",
   "metadata": {},
   "source": [
    "<div dir=\"rtl\" style=\"text-align: right;\">\n",
    "\n",
    "\n",
    "\n",
    "<h2>ایجاد یک شبکه Mesh</h2>\n",
    "<p>برای ایجاد یک \"شبکه مش\" چند بعدی، بنویسید: <code>np.mgrid[0:x_dimension,0:y_dimension]</code></p>\n",
    "<p>برای ایجاد یک شبکه در numpy به اندازه (۳*۳)، بنویسید: <code>np.mgrid[0:3,0:3]</code></p>\n",
    "</div>"
   ]
  },
  {
   "cell_type": "code",
   "execution_count": 44,
   "metadata": {},
   "outputs": [
    {
     "name": "stdout",
     "output_type": "stream",
     "text": [
      "[[[0 0 0]\n",
      "  [1 1 1]\n",
      "  [2 2 2]]\n",
      "\n",
      " [[0 1 2]\n",
      "  [0 1 2]\n",
      "  [0 1 2]]]\n"
     ]
    }
   ],
   "source": [
    "import numpy as np\n",
    "Z=np.mgrid[0:3,0:3]\n",
    "print(Z)"
   ]
  },
  {
   "cell_type": "markdown",
   "metadata": {},
   "source": [
    "<div dir=\"rtl\" style=\"text-align: right;\">\n",
    "<h1>تغییر شکل در NumPy</h1>\n",
    "\n",
    "\n",
    "\n",
    "\n",
    "<p>سینتکس پایه برای تغییر شکل آرایه:</p>\n",
    "<pre>Z=np.array(1D_array).reshape(x_dimension,y_dimension)</pre>\n",
    "\n",
    "<h2>مثال‌ها</h2>\n",
    "<p>مثال‌های زیر نشان می‌دهند چگونه یک آرایه را در ابعاد مختلف تغییر شکل دهیم:</p>\n",
    "\n",
    "<h3>تغییر شکل به ۱۲ سطر و ۱ ستون</h3>\n",
    "<p>برای تغییر شکل آرایه به ۱۲ سطر و ۱ ستون بنویسید:</p>\n",
    "<pre>Z = np.array([0,0,0,0,0,0,0,0,0,0,1,0]).reshape(12,1)</pre>\n",
    "\n",
    "\n",
    "\n",
    "\n",
    "</div>\n"
   ]
  },
  {
   "cell_type": "code",
   "execution_count": 45,
   "metadata": {},
   "outputs": [
    {
     "name": "stdout",
     "output_type": "stream",
     "text": [
      "[[0]\n",
      " [0]\n",
      " [0]\n",
      " [0]\n",
      " [0]\n",
      " [0]\n",
      " [0]\n",
      " [0]\n",
      " [0]\n",
      " [0]\n",
      " [1]\n",
      " [0]]\n"
     ]
    }
   ],
   "source": [
    "import numpy as np\n",
    "Z = np.array([0,0,0,0,0,0,0,0,0,0,1,0]).reshape(12,1)\n",
    "print(Z)"
   ]
  },
  {
   "cell_type": "markdown",
   "metadata": {},
   "source": [
    "<div dir=\"rtl\" style=\"text-align: right;\">\n",
    "\n",
    "\n",
    "<h3>تغییر شکل به ۳ سطر و ۴ ستون</h3>\n",
    "<p>برای تغییر شکل آرایه به ۳ سطر و ۴ ستون بنویسید:</p>\n",
    "<pre>Z = np.array([0,0,0,0,0,0,0,0,0,0,1,0]).reshape(3,4)</pre>\n",
    "\n",
    "\n",
    "</div>"
   ]
  },
  {
   "cell_type": "code",
   "execution_count": 46,
   "metadata": {},
   "outputs": [
    {
     "name": "stdout",
     "output_type": "stream",
     "text": [
      "[[0 0 0 0]\n",
      " [0 0 0 0]\n",
      " [0 0 1 0]]\n"
     ]
    }
   ],
   "source": [
    "import numpy as np\n",
    "Z = np.array([0,0,0,0,0,0,0,0,0,0,1,0]).reshape(3,4)\n",
    "print(Z)"
   ]
  },
  {
   "cell_type": "markdown",
   "metadata": {},
   "source": [
    "<div dir=\"rtl\" style=\"text-align: right;\">\n",
    "\n",
    "\n",
    "<h3>تغییر شکل به ۴ سطر و ۳ ستون</h3>\n",
    "<p>برای تغییر شکل آرایه به ۴ سطر و ۳ ستون بنویسید:</p>\n",
    "<pre>Z = np.array([0,0,0,0,0,0,0,0,0,0,1,0]).reshape(4,3)</pre>\n",
    "\n",
    "\n",
    "</div>"
   ]
  },
  {
   "cell_type": "code",
   "execution_count": 47,
   "metadata": {},
   "outputs": [
    {
     "name": "stdout",
     "output_type": "stream",
     "text": [
      "[[0 0 0]\n",
      " [0 0 0]\n",
      " [0 0 0]\n",
      " [0 1 0]]\n"
     ]
    }
   ],
   "source": [
    "import numpy as np\n",
    "Z = np.array([0,0,0,0,0,0,0,0,0,0,1,0]).reshape(4,3)\n",
    "print(Z)"
   ]
  },
  {
   "cell_type": "markdown",
   "metadata": {},
   "source": [
    "<div dir=\"rtl\" style=\"text-align: right;\">\n",
    "\n",
    "\n",
    "\n",
    "<h3>تغییر شکل به ۶ سطر و ۲ ستون</h3>\n",
    "<p>برای تغییر شکل آرایه به ۶ سطر و ۲ ستون بنویسید:</p>\n",
    "<pre>Z = np.array([0,0,0,0,0,0,0,0,0,0,1,0]).reshape(6,2)</pre>\n",
    "\n",
    "<h3>تغییر شکل به ۲ سطر و ۶ ستون</h3>\n",
    "<p>برای تغییر شکل آرایه به ۲ سطر و ۶ ستون بنویسید:</p>\n",
    "<pre>Z = np.array([0,0,0,0,0,0,0,0,0,0,1,0]).reshape(2,6)</pre>\n",
    "</div>"
   ]
  },
  {
   "cell_type": "code",
   "execution_count": 48,
   "metadata": {},
   "outputs": [
    {
     "name": "stdout",
     "output_type": "stream",
     "text": [
      "[[0 0]\n",
      " [0 0]\n",
      " [0 0]\n",
      " [0 0]\n",
      " [0 0]\n",
      " [1 0]]\n"
     ]
    }
   ],
   "source": [
    "import numpy as np\n",
    "Z = np.array([0,0,0,0,0,0,0,0,0,0,1,0]).reshape(6,2)\n",
    "print(Z)"
   ]
  },
  {
   "cell_type": "markdown",
   "metadata": {},
   "source": [
    "<div dir=\"rtl\" style=\"text-align: right;\">\n",
    "\n",
    "\n",
    "<h3>تغییر شکل به ۲ سطر و ۶ ستون</h3>\n",
    "<p>برای تغییر شکل آرایه به ۲ سطر و ۶ ستون بنویسید:</p>\n",
    "<pre>Z = np.array([0,0,0,0,0,0,0,0,0,0,1,0]).reshape(2,6)</pre>\n",
    "</div>"
   ]
  },
  {
   "cell_type": "code",
   "execution_count": 49,
   "metadata": {},
   "outputs": [
    {
     "name": "stdout",
     "output_type": "stream",
     "text": [
      "[[0 0 0 0 0 0]\n",
      " [0 0 0 0 1 0]]\n"
     ]
    }
   ],
   "source": [
    "import numpy as np\n",
    "Z = np.array([0,0,0,0,0,0,0,0,0,0,1,0]).reshape(2,6)\n",
    "print(Z)"
   ]
  },
  {
   "cell_type": "markdown",
   "metadata": {},
   "source": [
    "<div dir=\"rtl\" style=\"text-align: right;\">\n",
    "<h1>اندیس‌گذاری در NumPy</h1>\n",
    "\n",
    "\n",
    "<p>اندیس‌گذاری به معنای ارجاع به هر مقدار در یک آرایه است. هر آیتم در یک آرایه numpy در یک اندیس خاص ذخیره می‌شود. برای دسترسی به مقدار در یک اندیس خاص بنویسید:</p>\n",
    "\n",
    "</div>\n"
   ]
  },
  {
   "cell_type": "code",
   "execution_count": 50,
   "metadata": {},
   "outputs": [
    {
     "data": {
      "text/plain": [
       "0"
      ]
     },
     "execution_count": 50,
     "metadata": {},
     "output_type": "execute_result"
    }
   ],
   "source": [
    "Z = np.arange(9)\n",
    "Z[0]  # دریافت مقدار در اندیس 0\n"
   ]
  },
  {
   "cell_type": "markdown",
   "metadata": {},
   "source": [
    "<div dir=\"rtl\" style=\"text-align: right;\">\n",
    "\n",
    "\n",
    "<h2>دریافت اولین مقدار</h2>\n",
    "<p>برای دریافت اولین مقدار یک ماتریس، بنویسید: <code>Z[0,0]</code>.</p>\n",
    "\n",
    "\n",
    "\n",
    "\n",
    "</div>"
   ]
  },
  {
   "cell_type": "code",
   "execution_count": 51,
   "metadata": {},
   "outputs": [
    {
     "name": "stdout",
     "output_type": "stream",
     "text": [
      "0\n"
     ]
    }
   ],
   "source": [
    "import numpy as np\n",
    "Z = np.arange(9).reshape(3,3)\n",
    "print(Z[0,0])"
   ]
  },
  {
   "cell_type": "markdown",
   "metadata": {},
   "source": [
    "<div dir=\"rtl\" style=\"text-align: right;\">\n",
    "\n",
    "\n",
    "\n",
    "\n",
    "<h2>دریافت آخرین مقدار</h2>\n",
    "<p>برای دریافت آخرین مقدار یک ماتریس، بنویسید: <code>Z[-1,-1]</code>.</p>\n",
    "\n",
    "\n",
    "</div>"
   ]
  },
  {
   "cell_type": "code",
   "execution_count": 52,
   "metadata": {},
   "outputs": [
    {
     "name": "stdout",
     "output_type": "stream",
     "text": [
      "8\n"
     ]
    }
   ],
   "source": [
    "import numpy as np\n",
    "Z = np.arange(9).reshape(3,3)\n",
    "print(Z[-1,-1])"
   ]
  },
  {
   "cell_type": "markdown",
   "metadata": {},
   "source": [
    "<div dir=\"rtl\" style=\"text-align: right;\">\n",
    "\n",
    "\n",
    "\n",
    "\n",
    "\n",
    "\n",
    "<h2>دریافت یک ردیف از یک شبکه</h2>\n",
    "<p>برای دریافت یک ردیف از یک شبکه، بنویسید: <code>Z[اندیس ردیف]</code>.</p>\n",
    "<p>برای دریافت اولین ردیف از یک شبکه، بنویسید: <code>Z[0]</code>.</p>\n",
    "\n",
    "\n",
    "</div>"
   ]
  },
  {
   "cell_type": "code",
   "execution_count": 53,
   "metadata": {},
   "outputs": [
    {
     "name": "stdout",
     "output_type": "stream",
     "text": [
      "[3 4 5]\n"
     ]
    }
   ],
   "source": [
    "import numpy as np\n",
    "Z = np.arange(9).reshape(3,3)\n",
    "print(Z[1])"
   ]
  },
  {
   "cell_type": "markdown",
   "metadata": {},
   "source": [
    "<div dir=\"rtl\" style=\"text-align: right;\">\n",
    "\n",
    "\n",
    "\n",
    "\n",
    "\n",
    "\n",
    "<h2>دریافت یک ستون از یک شبکه</h2>\n",
    "<p>برای دریافت یک ستون از یک شبکه، از <code>Z[:,اندیس ستون]</code> استفاده کنید.</p>\n",
    "<p>برای دریافت دومین ستون از یک شبکه، از <code>Z[:,1]</code> استفاده کنید.</p>\n",
    "\n",
    "</div>\n",
    "\n"
   ]
  },
  {
   "cell_type": "code",
   "execution_count": 54,
   "metadata": {},
   "outputs": [
    {
     "name": "stdout",
     "output_type": "stream",
     "text": [
      "[2 5 8]\n"
     ]
    }
   ],
   "source": [
    "import numpy as np\n",
    "Z = np.arange(9).reshape(3,3)\n",
    "print(Z[:,2])"
   ]
  },
  {
   "cell_type": "markdown",
   "metadata": {},
   "source": [
    "<div dir=\"rtl\" style=\"text-align: right;\">\n",
    "\n",
    "\n",
    "\n",
    "\n",
    "\n",
    "<h2>دریافت یک مینی‌شبکه از یک شبکه</h2>\n",
    "<p>برای دریافت زیرمجموعه‌ای از یک شبکه، بنویسید: <code>Z[اندیس ردیف:,اندیس ستون:]</code>.</p>\n",
    "<p>برای دریافت زیرمجموعه‌ای از شبکه شامل اولین ردیف به بعد تا انتها و اولین ستون به بعد تا انتها، بنویسید: <code>Z[1:,1:]</code>.</p>\n",
    "\n",
    "\n",
    "\n",
    "\n",
    "\n",
    "</div>"
   ]
  },
  {
   "cell_type": "code",
   "execution_count": 55,
   "metadata": {},
   "outputs": [
    {
     "name": "stdout",
     "output_type": "stream",
     "text": [
      "[[4 5]\n",
      " [7 8]]\n"
     ]
    }
   ],
   "source": [
    "import numpy as np\n",
    "Z = np.arange(9).reshape(3,3)\n",
    "print(Z[1:,1:])"
   ]
  },
  {
   "cell_type": "markdown",
   "metadata": {},
   "source": [
    "<div dir=\"rtl\" style=\"text-align: right;\">\n",
    "\n",
    "\n",
    "\n",
    "<h2>چینش مقادیر از یک شبکه در یک مینی‌شبکه</h2>\n",
    "<p>برای دریافت مقادیر از گوشه‌های یک شبکه و چیدمان آن‌ها در فرمت شبکه، بنویسید: <code>Z[::row_size-1, ::column_size-1]</code></p>\n",
    "<p>برای دریافت مقادیر در اندیس‌ها (0,0)، (0,2)، (2,0)، (2,2) و چیدمان آن‌ها در فرمت شبکه، بنویسید: <code>Z[::2, ::2]</code></p>\n",
    "\n",
    "\n",
    "\n",
    "\n",
    "\n",
    "</div>"
   ]
  },
  {
   "cell_type": "code",
   "execution_count": 56,
   "metadata": {},
   "outputs": [
    {
     "name": "stdout",
     "output_type": "stream",
     "text": [
      "[[0 2]\n",
      " [6 8]]\n"
     ]
    }
   ],
   "source": [
    "import numpy as np\n",
    "Z = np.arange(9).reshape(3,3)\n",
    "print(Z[::2,::2])"
   ]
  },
  {
   "cell_type": "markdown",
   "metadata": {},
   "source": [
    "<div dir=\"rtl\" style=\"text-align: right;\">\n",
    "\n",
    "\n",
    "\n",
    "\n",
    "\n",
    "<h2>دریافت اندیس‌های خاص از یک شبکه</h2>\n",
    "<p>برای دریافت مقادیر اندیس‌های خاص مانند (0,0) و (1,2) بنویسید: <code>Z[[0,1],[0,2]]</code>.</p>\n",
    "\n",
    "\n",
    "\n",
    "\n",
    "\n",
    "</div>"
   ]
  },
  {
   "cell_type": "code",
   "execution_count": 57,
   "metadata": {},
   "outputs": [
    {
     "name": "stdout",
     "output_type": "stream",
     "text": [
      "[0 5]\n"
     ]
    }
   ],
   "source": [
    "import numpy as np\n",
    "Z = np.arange(9).reshape(3,3)\n",
    "print(Z[[0,1],[0,2]])"
   ]
  },
  {
   "cell_type": "markdown",
   "metadata": {},
   "source": [
    "<div dir=\"rtl\" style=\"text-align: right;\">\n",
    "\n",
    "\n",
    "\n",
    "<ul>\n",
    "<li>در <code>Z[[0,1],[0,2]]</code>، لیست اول [0,1] اندیس‌های ردیف را نشان می‌دهد در حالی که لیست دوم [0,2] اندیس‌های ستون را نشان می‌دهد.</li>\n",
    "<li>مقدار 0 در ردیف 0 و ستون 0 از آرایه NumPy Z قرار دارد، که به عنوان اولین مقادیر از هر دو لیست نشان داده شده‌است.</li>\n",
    "<li>مقدار 5 در ردیف 1 و ستون 2 از آرایه NumPy Z قرار دارد، که به عنوان دومین مقدار از هر دو لیست نشان داده شده‌است.</li>\n",
    "</ul>\n",
    "\n",
    "</div>"
   ]
  },
  {
   "cell_type": "markdown",
   "metadata": {},
   "source": [
    "<div dir=\"rtl\" style=\"text-align: right;\">\n",
    "<h1>پخش (Broadcasting) در NumPy</h1>\n",
    "\n",
    "\n",
    "<h2>پخش در NumPy چیست؟</h2>\n",
    "<p>اصطلاح پخش توصیف می‌کند که چگونه numpy با آرایه‌هایی با اشکال مختلف در طی عملیات حسابی رفتار می‌کند. با توجه به برخی محدودیت‌ها، آرایه کوچک‌تر در سراسر آرایه بزرگ‌تر \"پخش\" می‌شود تا اشکال سازگاری داشته باشند. پخش یک وسیله برای برداری کردن عملیات‌های آرایه فراهم می‌کند.</p>\n",
    "\n",
    "<h2>قوانین کلی برای پخش</h2>\n",
    "<p>هنگام کار با دو آرایه، NumPy اشکال آن‌ها را به صورت عنصر به عنصر مقایسه می‌کند. این مقایسه از ابعاد آخر شروع می‌شود و به سمت جلو پیش می‌رود. دو بعد با اندازه N با هم سازگار هستند زمانی که:</p>\n",
    "\n",
    "<ul>\n",
    "<li>آن‌ها برابر هستند، یا</li>\n",
    "<li>یکی از آن‌ها مقدار منفرد است</li>\n",
    "<li>یکی N*N و دیگری N*1 است</li>\n",
    "<li>یکی N*N و دیگری 1*N است</li>\n",
    "</ul>\n",
    "\n",
    "<h2>مثال‌ها</h2>\n",
    "<p>مفهوم پخش از طریق کد در مثال‌های زیر توضیح داده شده‌است:</p>\n",
    "\n",
    "<h3>زمانی که یک عملوند N*N و دیگری 1*1 است</h3>\n",
    "\n",
    "\n",
    "\n",
    "\n",
    "</div>\n"
   ]
  },
  {
   "cell_type": "code",
   "execution_count": 58,
   "metadata": {},
   "outputs": [
    {
     "name": "stdout",
     "output_type": "stream",
     "text": [
      "[[1 2 3]\n",
      " [4 5 6]\n",
      " [7 8 9]]\n"
     ]
    }
   ],
   "source": [
    "import numpy as np\n",
    "Z1 = np.arange(9).reshape(3,3)\n",
    "Z2 = 1\n",
    "print(Z1 + Z2)"
   ]
  },
  {
   "cell_type": "markdown",
   "metadata": {},
   "source": [
    "<div dir=\"rtl\" style=\"text-align: right;\">\n",
    "\n",
    "\n",
    "<h3>زمانی که یک عملوند N*N و دیگری N*1 است</h3>\n",
    "\n",
    "\n",
    "</div>\n"
   ]
  },
  {
   "cell_type": "code",
   "execution_count": 59,
   "metadata": {},
   "outputs": [
    {
     "name": "stdout",
     "output_type": "stream",
     "text": [
      "[[2 3 4]\n",
      " [4 5 6]\n",
      " [6 7 8]]\n"
     ]
    }
   ],
   "source": [
    "import numpy as np\n",
    "Z1 = np.arange(9).reshape(3,3)\n",
    "Z2 = np.arange(3)[::-1].reshape(3,1)\n",
    "print(Z1 + Z2)\n",
    "   "
   ]
  },
  {
   "cell_type": "markdown",
   "metadata": {},
   "source": [
    "<div dir=\"rtl\" style=\"text-align: right;\">\n",
    "\n",
    "\n",
    "\n",
    "\n",
    "<h3>زمانی که یک عملوند N*N و دیگری 1*N است</h3>\n",
    "\n",
    "</div>\n"
   ]
  },
  {
   "cell_type": "code",
   "execution_count": 60,
   "metadata": {},
   "outputs": [
    {
     "name": "stdout",
     "output_type": "stream",
     "text": [
      "[[2 2 2]\n",
      " [5 5 5]\n",
      " [8 8 8]]\n"
     ]
    }
   ],
   "source": [
    "import numpy as np\n",
    "Z1 = np.arange(9).reshape(3,3)\n",
    "Z2 = np.arange(3)[::-1]\n",
    "print(Z1 + Z2)"
   ]
  },
  {
   "cell_type": "markdown",
   "metadata": {},
   "source": [
    "<div dir=\"rtl\" style=\"text-align: right;\">\n",
    "<h1>بردارسازی در NumPy</h1>\n",
    "\n",
    "<p>بردارسازی، به زبان ساده، به معنای بهینه‌سازی الگوریتم است به گونه‌ای که بتواند چندین عملیات را از یک دستور واحد اجرا کند. NumPy کاملاً در مورد بردارسازی است. اگر با پایتون آشنا هستید، این یکی از اصلی‌ترین سختی‌هایی است که با آن مواجه خواهید شد، زیرا باید روش فکر کردن خود را تغییر دهید و دوستان جدید شما  \"بردارها\"، \"آرایه‌ها\"، \"نماها\" یا \"ufuncs\" باشند.</p>\n",
    "<p>توجه: یک دستور به نام \n",
    "<code>timeit</code>\n",
    " در تمام کدها استفاده می‌شود. این ابزار برای اندازه‌گیری زمان اجرای تکه‌های کوچک کد است. میتوانید کپی‌رایت آن را در بالای کد ببینید.</p>\n",
    "\n",
    "<h2>رویکرد شیء‌گرا</h2>\n",
    "<p>بیایید یک مثال بسیار ساده را در نظر بگیریم، یک پیاده‌روی تصادفی. یک رویکرد شیء‌گرا احتمالی می‌تواند شامل تعریف کلاس RandomWalker و نوشتن یک متد walk باشد که موقعیت فعلی را پس از هر قدم (تصادفی) بازمی‌گرداند. این روش خوب و خوانا است، اما کند است:</p>\n",
    "</div>\n"
   ]
  },
  {
   "cell_type": "code",
   "execution_count": 61,
   "metadata": {},
   "outputs": [],
   "source": [
    "# کد زیر تنها با تغییرات بسیار جزئی منبع اصلی آمده آورده شده است\n",
    "\n",
    "# -----------------------------------------------------------------------------\n",
    "# From Numpy to Python\n",
    "# Copyright (2017) Nicolas P. Rougier - BSD license\n",
    "# More information at https://github.com/rougier/numpy-book\n",
    "# -----------------------------------------------------------------------------\n",
    "def sysinfo():\n",
    "    import sys\n",
    "    import time\n",
    "    import numpy as np\n",
    "    import scipy as sp\n",
    "    import matplotlib\n",
    "\n",
    "    print(\"Date:       %s\" % (time.strftime(\"%D\")))\n",
    "    version = sys.version_info\n",
    "    major, minor, micro = version.major, version.minor, version.micro\n",
    "    print(\"Python:     %d.%d.%d\" % (major, minor, micro))\n",
    "    print(\"Numpy:     \", np.__version__)\n",
    "    print(\"Scipy:     \", sp.__version__)\n",
    "    print(\"Matplotlib:\", matplotlib.__version__)\n",
    "\n",
    "    \n",
    "\n",
    "def timeit(stmt, globals):\n",
    "    import timeit as _timeit\n",
    "    import numpy as np\n",
    "    \n",
    "    # تقریب تقریبی یک اجرای واحد\n",
    "    trial = _timeit.timeit(stmt, globals=globals, number=1)\n",
    "    \n",
    "    # حداکثر مدت زمان\n",
    "    duration = 1.0\n",
    "    \n",
    "    # تعداد تکراره\n",
    "    repeat = 3\n",
    "    \n",
    "    # محاسبه تعداد آزمایش‌های گرد شده\n",
    "    number = max(1,int(10**np.floor(np.log(duration/trial/repeat)/np.log(10))))\n",
    "    \n",
    "    # تنها بهترین اجرا را گزارش می‌کند\n",
    "    best = min(_timeit.repeat(stmt, globals=globals, number=number, repeat=repeat))\n",
    "\n",
    "    units = {\"usec\": 1, \"msec\": 1e3, \"sec\": 1e6}\n",
    "    precision = 3\n",
    "    usec = best * 1e6 / number\n",
    "    if usec < 1000:\n",
    "        print(\"%d loops, best of %d: %.*g usec per loop\" % (number, repeat,\n",
    "                                                            precision, usec))\n",
    "    else:\n",
    "        msec = usec / 1000\n",
    "        if msec < 1000:\n",
    "            print(\"%d loops, best of %d: %.*g msec per loop\" % (number, repeat,\n",
    "                                                                precision, msec))\n",
    "        else:\n",
    "            sec = msec / 1000\n",
    "            print(\"%d loops, best of %d: %.*g sec per loop\" % (number, repeat,\n",
    "                                                               precision, sec))\n",
    "   # نمایش نتایج\n",
    "    # print(\"%d loops, best of %d: %g sec per loop\" % (number, repeat, best/number))\n",
    "\n",
    "    \n",
    "def info(Z):\n",
    "    import numpy as np\n",
    "        \n",
    "    print(\"------------------------------\")\n",
    "    print(\"Interface (item)\")\n",
    "    print(\"  shape:      \", Z.shape)\n",
    "    print(\"  dtype:      \", Z.dtype)\n",
    "    print(\"  size:       \", Z.size)\n",
    "    if np.isfortran(Z):\n",
    "        print(\"  order:       ☐ C  ☑ Fortran\")\n",
    "    else:\n",
    "        print(\"  order:       ☑ C  ☐ Fortran\")\n",
    "    print(\"\")\n",
    "    print(\"Memory (byte)\")\n",
    "    print(\"  item size:  \", Z.itemsize)\n",
    "    print(\"  array size: \", Z.size*Z.itemsize)\n",
    "    print(\"  strides:    \", Z.strides)\n",
    "    print(\"\")\n",
    "    print(\"Properties\")\n",
    "    if Z.flags[\"OWNDATA\"]:\n",
    "        print(\"  own data:    ☑ Yes  ☐ No\")\n",
    "    else:\n",
    "        print(\"  own data:    ☐ Yes  ☑ No\")\n",
    "    if Z.flags[\"WRITEABLE\"]:\n",
    "        print(\"  writeable:   ☑ Yes  ☐ No\")\n",
    "    else:\n",
    "        print(\"  writeable:   ☐ Yes  ☑ No\")\n",
    "    if np.isfortran(Z) and Z.flags[\"F_CONTIGUOUS\"]:\n",
    "        print(\"  contiguous:  ☑ Yes  ☐ No\")\n",
    "    elif not np.isfortran(Z) and Z.flags[\"C_CONTIGUOUS\"]:\n",
    "        print(\"  contiguous:  ☑ Yes  ☐ No\")\n",
    "    else:\n",
    "        print(\"  contiguous:  ☐ Yes  ☑ No\")\n",
    "    if Z.flags[\"ALIGNED\"]:\n",
    "        print(\"  aligned:     ☑ Yes  ☐ No\")\n",
    "    else:\n",
    "        print(\"  aligned:     ☐ Yes  ☑ No\")\n",
    "    print(\"------------------------------\")\n",
    "    print()\n",
    "    \n"
   ]
  },
  {
   "cell_type": "code",
   "execution_count": 62,
   "metadata": {},
   "outputs": [
    {
     "name": "stdout",
     "output_type": "stream",
     "text": [
      "10 loops, best of 3: 8.91 msec per loop\n"
     ]
    }
   ],
   "source": [
    "\n",
    "\n",
    "import random\n",
    "class RandomWalker:\n",
    "  def __init__(self):\n",
    "           self.position = 0\n",
    "  def walk(self, n): # راه‌رفتن\n",
    "    self.position = 0\n",
    "    for i in range(n):\n",
    "      yield self.position \n",
    "      self.position += 2*random.randint(0, 1) - 1\n",
    "      # پس از هر گام تصادفی، موقعیت فعلی را برمی‌گرداند\n",
    "           \n",
    "walker = RandomWalker() # ایجاد نمونه‌ای از کلاس راه رفتن\n",
    "walk = [position for position in walker.walk(1000)]# فراخوانی تابع راه رفتن\n",
    "\n",
    "walker = RandomWalker()\n",
    "timeit(\"[position for position in walker.walk(n=10000)]\", globals())\n",
    "# محاسبه تعداد حلقه‌های کلی و زمان هر حلقه\n"
   ]
  },
  {
   "cell_type": "markdown",
   "metadata": {},
   "source": [
    "<div dir=\"rtl\" style=\"text-align: right;\">\n",
    "\n",
    "<p>در اینجا، حلقه‌ها تعداد کل چرخه‌های CPU مورد نیاز در طول یک پیاده‌روی تصادفی هستند و زمان بیان شده به میلی‌ثانیه، زمان لازم برای هر چرخه را نشان می‌دهد.</p>\n",
    "\n",
    "<h2>رویکرد حلقه(شمارنده)</h2>\n",
    "<p>برای چنین مشکل ساده‌ای، ما احتمالاً می‌توانیم تعریف کلاس را حذف کرده و فقط روی متد walk تمرکز کنیم که موقعیت‌های متوالی را پس از هر قدم تصادفی محاسبه می‌کند. این متد جدید برخی چرخه‌های CPU را ذخیره می‌کند اما نه زیاد، زیرا این تابع تقریباً همانند رویکرد شیء‌گرا است و چند چرخه‌ای که ذخیره شده‌اند احتمالاً از مکانیزم‌های داخلی شیء‌گرای پایتون می‌آیند.</p>\n",
    "</div>\n"
   ]
  },
  {
   "cell_type": "code",
   "execution_count": 63,
   "metadata": {},
   "outputs": [
    {
     "name": "stdout",
     "output_type": "stream",
     "text": [
      "10 loops, best of 3: 8.56 msec per loop\n"
     ]
    }
   ],
   "source": [
    "\n",
    "import random\n",
    "def random_walk(n):\n",
    "    position = 0\n",
    "    walk = [position]\n",
    "    for i in range(n):\n",
    "        position += 2*random.randint(0, 1)-1 # موقعیت مقادیر تصادفی را به خود اختصاص می‌دهد\n",
    "        walk.append(position)# موقعیت را به پیاده‌روی اضافه می‌کند\n",
    "    return walk\n",
    "\n",
    "walk = random_walk(1000) # فراخوانی تابع پیاده‌روی تصادفی\n",
    "timeit(\"random_walk(n=10000)\", globals()) # محاسبه تعداد حلقه‌های کلی و زمان هر حلقه"
   ]
  },
  {
   "cell_type": "markdown",
   "metadata": {},
   "source": [
    "<div dir=\"rtl\" style=\"text-align: right;\">\n",
    "<h2>رویکرد برداری</h2>\n",
    "<p>برای رویکرد برداری، می‌توانیم از Itertools یا NumPy استفاده کنیم.</p>\n",
    "\n",
    "<h3>1. Itertools</h3>\n",
    "<p>Itertools یک ماژول پایتون است که مجموعه‌ای از توابع برای ایجاد تکرارکننده‌ها برای حلقه‌زنی کارآمد ارائه می‌دهد. اگر متوجه شویم که یک پیاده‌روی تصادفی تجمعی از قدم‌ها است، می‌توانیم تابع را با اول تولید کردن تمام قدم‌ها و سپس تجمع آن‌ها بدون هیچ حلقه‌ای بازنویسی کنیم.</p>\n",
    "\n",
    "</div>\n"
   ]
  },
  {
   "cell_type": "code",
   "execution_count": 64,
   "metadata": {},
   "outputs": [
    {
     "name": "stdout",
     "output_type": "stream",
     "text": [
      "100 loops, best of 3: 1.82 msec per loop\n"
     ]
    }
   ],
   "source": [
    "\n",
    "from itertools import accumulate \n",
    "import random \n",
    "def random_walk_faster(n=1000):\n",
    "  steps = random.choices([-1,+1], k=n)\n",
    "  return [0]+list(accumulate(steps))# دریافت تعداد کلی گام‌ها \n",
    "\n",
    "walk = random_walk_faster(1000) \n",
    "timeit(\"random_walk_faster(n=10000)\", globals()) # محاسبه تعداد حلقه‌های کلی و زمان هر حلقه"
   ]
  },
  {
   "cell_type": "markdown",
   "metadata": {},
   "source": [
    "<div dir=\"rtl\" style=\"text-align: right;\">\n",
    "<p>در واقع، ما تابع خود را برداری کرده‌ایم. به جای اینکه در حلقه برای انتخاب قدم‌های متوالی و افزودن آن‌ها به موقعیت فعلی بمانیم، ابتدا تمام قدم‌ها را یکجا تولید کردیم و از تابع <code>accumulate</code> برای محاسبه تمام موقعیت‌ها استفاده کردیم. ما حلقه را حذف کردیم و این امر باعث شده است که کارها سریع‌تر انجام شوند.</p>\n",
    "\n",
    "\n",
    "<h3>2. NumPy</h3>\n",
    "\n",
    "<p>ما ۸۵٪ زمان محاسبه را نسبت به نسخه قبلی بهتر کردیم، که قدم خوبی است. اما مزیت این نسخه جدید این است که بردارسازی NumPy را بسیار ساده‌تر است. ما فقط باید فراخوانی‌های itertools را به فراخوانی‌های NumPy تبدیل کنیم:</p>\n",
    "\n",
    "\n",
    "</div>\n",
    "\n"
   ]
  },
  {
   "cell_type": "code",
   "execution_count": 65,
   "metadata": {},
   "outputs": [
    {
     "name": "stdout",
     "output_type": "stream",
     "text": [
      "100 loops, best of 3: 52.3 usec per loop\n"
     ]
    }
   ],
   "source": [
    "\n",
    "import numpy as np\n",
    "def random_walk_fastest(n=1000):\n",
    "    #s' در انتخاب NumPy وجود ندارد (Python choice & choices را ارائه می‌دهد))\n",
    "    steps = np.random.choice([-1,+1], n)\n",
    "    return np.cumsum(steps) #بازگرداندن جمع تجمعی گام‌ها در یک محور مشخص\n",
    "\n",
    "walk = random_walk_fastest(1000)\n",
    "timeit(\"random_walk_fastest(n=1000)\", globals())\n",
    "# محاسبه تعداد حلقه‌های کلی و زمان هر حلقه"
   ]
  },
  {
   "cell_type": "markdown",
   "metadata": {},
   "source": [
    "<div dir=\"rtl\" style=\"text-align: right;\">\n",
    "<h1>خوانایی در مقابل سرعت</h1>\n",
    "\n",
    "\n",
    "\n",
    "\n",
    "<p>NumPy یک کتابخانه بسیار قدرتمند است و شما می‌توانید با آن شگفتی‌ها خلق کنید، اما اغلب اوقات، این موضوع به قیمت خوانایی کد تمام می‌شود. اگر کد خود را هنگام نوشتن توضیح ندهید، پس از چند هفته (یا احتمالاً چند روز) نخواهید توانست تشخیص دهید که یک تابع چه کاری انجام می‌دهد.</p>\n",
    "\n",
    "<p>برای مثال، آیا می‌توانید بگویید دو تابع زیر چه کاری انجام می‌دهند؟ احتمالاً می‌توانید برای اولی تشخیص دهید، اما برای دومی بعید است.</p>\n",
    "\n",
    "\n",
    "</div>\n"
   ]
  },
  {
   "cell_type": "code",
   "execution_count": 66,
   "metadata": {},
   "outputs": [
    {
     "name": "stdout",
     "output_type": "stream",
     "text": [
      "Function 1: [6]\n",
      "Function 2: [6]\n"
     ]
    }
   ],
   "source": [
    "import numpy as np\n",
    "# خوانایی بیشتر اما سرعت کمتر\n",
    "def function_1(seq, sub): \n",
    "    return [i for i in range(len(seq) - len(sub) +1) if seq[i:i+len(sub)] == sub]\n",
    "\n",
    "# سرعت بیشتر و خوانایی کمتر\n",
    "def function_2(seq, sub):\n",
    "    target = np.dot(sub, sub)\n",
    "    candidates = np.where(np.correlate(seq, sub, mode='valid') == target)[0]\n",
    "    check = candidates[:, np.newaxis] + np.arange(len(sub))\n",
    "    mask = np.all((np.take(seq, check) == sub), axis=-1)\n",
    "    return candidates[mask]\n",
    "\n",
    "seq=[12, 10, 2, 45, 13, 65, 11, 8, 5]\n",
    "sub=[11, 8]\n",
    "print(\"Function 1:\",function_1(seq,sub))\n",
    "print(\"Function 2:\",function_2(seq,sub))"
   ]
  },
  {
   "cell_type": "markdown",
   "metadata": {},
   "source": [
    "<div dir=\"rtl\" style=\"text-align: right;\">\n",
    "\n",
    "\n",
    "\n",
    "\n",
    "\n",
    "<p>در این کد، هر دو تابع شاخص زیردنباله‌ای در دنباله را باز می‌گردانند. دنباله [12, 10, 2, 45, 13, 65, 11, 8, 5] است و زیردنباله [11, 8] است. شاخص زیردنباله در دنباله 6 است. همانطور که حدس زده‌اید، تابع دوم نسخه بهینه‌سازی شده برداری، بهینه‌سازی شده و سریع‌تر NumPy از تابع اول است. این تابع ۱۰ برابر سریع‌تر از نسخه خالص پایتون است، اما خوانایی آن بسیار دشوار است.</p>\n",
    "</div>\n"
   ]
  }
 ],
 "metadata": {
  "kernelspec": {
   "display_name": "venv",
   "language": "python",
   "name": "python3"
  },
  "language_info": {
   "codemirror_mode": {
    "name": "ipython",
    "version": 3
   },
   "file_extension": ".py",
   "mimetype": "text/x-python",
   "name": "python",
   "nbconvert_exporter": "python",
   "pygments_lexer": "ipython3",
   "version": "3.11.8"
  }
 },
 "nbformat": 4,
 "nbformat_minor": 2
}
