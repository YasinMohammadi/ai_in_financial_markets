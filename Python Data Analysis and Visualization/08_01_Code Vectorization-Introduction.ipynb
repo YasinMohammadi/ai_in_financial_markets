{
 "cells": [
  {
   "cell_type": "markdown",
   "metadata": {},
   "source": [
    "<div dir=\"rtl\" style=\"text-align: right;\">\n",
    "<h2>بردارسازی کد</h2>\n",
    "\n",
    "\n",
    "<h3>بردارسازی کد چیست؟</h3>\n",
    "<p>بردارسازی کد به این معناست که مشکلی که شما در تلاش برای حل آن هستید، به طور ذاتی قابل بردارسازی است و فقط به چند ترفند NumPy برای سریع‌تر کردن آن نیاز دارد. البته این به این معنا نیست که کار آسان است، اما لااقل نیازی به بازاندیشی کامل راه‌حل شما ندارد.</p>\n",
    "\n",
    "<h3>مثال</h3>\n",
    "<p>بیایید این موضوع را از طریق یک مثال ساده نشان دهیم که در آن می‌خواهیم دو لیست از اعداد صحیح را جمع کنیم.</p>\n",
    "\n",
    "<h3>راه‌حل ۱: پایتون </h3>\n",
    "<p>یک راه ساده با استفاده از پایتون :</p>\n",
    "\n",
    "\n",
    "\n",
    "\n",
    "</div>\n"
   ]
  },
  {
   "cell_type": "code",
   "execution_count": 1,
   "metadata": {},
   "outputs": [],
   "source": [
    "def add_python(Z1,Z2):\n",
    "  return [z1+z2 for (z1,z2) in zip(Z1,Z2)]"
   ]
  },
  {
   "cell_type": "markdown",
   "metadata": {},
   "source": [
    "<div dir=\"rtl\" style=\"text-align: right;\">\n",
    "\n",
    "\n",
    "\n",
    "<h3>راه‌حل ۲: استفاده از np.add(list1, list2)</h3>\n",
    "<p>این راه‌حل اولیه را می‌توان به راحتی با استفاده از NumPy برداری کرد:</p>\n",
    "\n",
    "\n",
    "\n",
    "</div>\n"
   ]
  },
  {
   "cell_type": "code",
   "execution_count": 2,
   "metadata": {},
   "outputs": [],
   "source": [
    "def add_numpy(Z1,Z2):\n",
    "        return np.add(Z1,Z2)"
   ]
  },
  {
   "cell_type": "markdown",
   "metadata": {},
   "source": [
    "<div dir=\"rtl\" style=\"text-align: right;\">\n",
    "\n",
    "\n",
    "<h3>مقایسه زمان دو روش</h3>\n",
    "<p>بدون هیچ تعجبی، زمان‌سنجی دو روش نشان می‌دهد که روش دوم سریع‌تر است.</p>\n",
    "</div>"
   ]
  },
  {
   "cell_type": "code",
   "execution_count": null,
   "metadata": {},
   "outputs": [],
   "source": [
    "import random\n",
    "import numpy as np\n",
    "from utils.tools import timeit\n",
    "\n",
    "def add_python(Z1,Z2):\n",
    "  return [z1+z2 for (z1,z2) in zip(Z1,Z2)]\n",
    "\n",
    "def add_numpy(Z1,Z2):\n",
    "        return np.add(Z1,Z2)\n",
    "\n",
    "Z1 = random.sample(range(10000), 1000)\n",
    "Z2 = random.sample(range(10000), 1000)\n",
    "\n",
    "timeit(\"add_python(Z1, Z2)\", globals())\n",
    "timeit(\"add_numpy(Z1, Z2)\", globals())\n",
    "\n"
   ]
  },
  {
   "cell_type": "markdown",
   "metadata": {},
   "source": [
    "<div dir=\"rtl\" style=\"text-align: right;\">\n",
    "<p>نه تنها روش دوم سریع‌تر است، بلکه به طور طبیعی به شکل Z1 و Z2 نیز سازگار است.</p>\n",
    "<p>در کد بالا  دلیلی  که  ما <code>Z1 + Z2</code> را مستقیم ننوشتیم زیرا اگر Z1 و Z2 هر دو لیست باشند کار دیگری انجام می‌شود. در روش اول پایتون، عملگر <code>+</code> داخلی به طور متفاوتی تفسیر جمع بسته به ماهیت دو شیء، به طوری متفاوتی عمل خواهد کرد. در مثال زیر می‌توانید نتایج را مقایسه کنید:</p>\n",
    "\n",
    "\n",
    "\n",
    "</div>\n"
   ]
  },
  {
   "cell_type": "code",
   "execution_count": 10,
   "metadata": {},
   "outputs": [
    {
     "name": "stdout",
     "output_type": "stream",
     "text": [
      "Using concatenation: [[1, 2], [3, 4], [5, 6], [7, 8]]\n",
      "Using pure python: [[1, 2, 5, 6], [3, 4, 7, 8]]\n",
      "Using numpy.add: [[ 6  8]\n",
      " [10 12]]\n"
     ]
    }
   ],
   "source": [
    "import numpy as np\n",
    "\n",
    "def add_python(Z1,Z2):\n",
    "    return [z1+z2 for (z1,z2) in zip(Z1,Z2)]\n",
    "def add_numpy(Z1,Z2):\n",
    "    return np.add(Z1,Z2)\n",
    "  \n",
    "Z1 = [[1, 2], [3, 4]]\n",
    "Z2 = [[5, 6], [7, 8]]\n",
    "print(\"Using concatenation:\",Z1 + Z2)\n",
    "   # [[1, 2], [3, 4], [5, 6], [7, 8]]\n",
    "print(\"Using pure python:\",add_python(Z1, Z2))\n",
    "   # [[1, 2, 5, 6], [3, 4, 7, 8]]\n",
    "print(\"Using numpy.add:\",add_numpy(Z1, Z2))\n",
    "   # [[ 6  8][10 12]]"
   ]
  },
  {
   "cell_type": "markdown",
   "metadata": {},
   "source": [
    "<div dir=\"rtl\" style=\"text-align: right;\">\n",
    "\n",
    "\n",
    "<p> روش اول دو لیست را به هم می‌چسباند، روش دوم لیست‌های داخلی را به هم می‌چسباند و آخرین روش آنچه را که (از نظر عددی) انتظار می‌رود، محاسبه می‌کند.</p>\n",
    "</div>\n"
   ]
  }
 ],
 "metadata": {
  "kernelspec": {
   "display_name": "venv",
   "language": "python",
   "name": "python3"
  },
  "language_info": {
   "codemirror_mode": {
    "name": "ipython",
    "version": 3
   },
   "file_extension": ".py",
   "mimetype": "text/x-python",
   "name": "python",
   "nbconvert_exporter": "python",
   "pygments_lexer": "ipython3",
   "version": "3.11.8"
  }
 },
 "nbformat": 4,
 "nbformat_minor": 2
}
