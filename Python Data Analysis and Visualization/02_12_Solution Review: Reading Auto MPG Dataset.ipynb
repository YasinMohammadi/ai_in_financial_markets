{
 "cells": [
  {
   "cell_type": "markdown",
   "metadata": {},
   "source": [
    "<div dir=\"rtl\" style=\"text-align: right;\">\n",
    "<h1>بررسی راه‌حل: خواندن مجموعه داده‌های Auto MPG</h1>\n",
    "</div>"
   ]
  },
  {
   "cell_type": "code",
   "execution_count": 1,
   "metadata": {},
   "outputs": [
    {
     "name": "stdout",
     "output_type": "stream",
     "text": [
      "(398, 9)\n"
     ]
    },
    {
     "name": "stderr",
     "output_type": "stream",
     "text": [
      "/tmp/ipykernel_4941/1732141655.py:8: FutureWarning: The 'delim_whitespace' keyword in pd.read_csv is deprecated and will be removed in a future version. Use ``sep='\\s+'`` instead\n",
      "  df = pd.read_csv(\"statics/data/02_12_auto-mpg.data\", header=None, names=names, delim_whitespace=True)\n"
     ]
    }
   ],
   "source": [
    "import pandas as pd # calling pandas module\n",
    "\n",
    "def read_csv():\n",
    "\n",
    "    # تعریف نام ستون‌ها به عنوان لیست\n",
    "    names = [\"mpg\", \"cylinders\", \"displacement\", \"horsepower\", \"weight\", \"acceleration\", \"model_year\", \"origin\", \"car_name\"]\n",
    "    # خواندن فایل csv مربوط به داده\n",
    "    df = pd.read_csv(\"statics/data/02_12_auto-mpg.data\", header=None, names=names, delim_whitespace=True)\n",
    "    return df.shape\n",
    "\n",
    "# فراخوانی تابع و چاپ نتیجه\n",
    "print(read_csv())"
   ]
  },
  {
   "cell_type": "markdown",
   "metadata": {},
   "source": [
    "<div dir=\"rtl\" style=\"text-align: right;\">\n",
    "\n",
    "<p>بر اساس صورت مسئله،  باید مجموعه داده‌های \n",
    "Auto MPG\n",
    " را به عنوان ورودی دریافت کنیم. در کد بالا، در خط ۱، ما ماژول \n",
    " pandas\n",
    "  را برای خواندن مجموعه داده‌ها وارد کردیم. سپس ما تابع \n",
    " read_csv()\n",
    "  را پیاده‌سازی کردیم.</p>\n",
    "<p>به هدر آن در خط ۳ نگاه کنید. در خط ۶، ما نام ستون‌ها را در یک لیست به نام \n",
    "names\n",
    " قرار دادیم. همان‌طورز که در صورت مسئله گفته شد نام ستون‌ها را از مستندات به دست می‌آوریم. توجه داشته باشید که \n",
    " names\n",
    "  حاوی ۹ مقدار رشته‌ای است:</p>\n",
    "<ul>\n",
    "<li>mpg</li>\n",
    "<li>cylinders</li>\n",
    "<li>displacement</li>\n",
    "<li>horsepower</li>\n",
    "<li>weight</li>\n",
    "<li>acceleration</li>\n",
    "<li>model_year</li>\n",
    "<li>origin</li>\n",
    "<li>car_name</li>\n",
    "</ul>\n",
    "<p>توجه داشته باشید که ما فضای خالی را با _ در \n",
    "model year\n",
    " و \n",
    " car name\n",
    "  جایگزین کرده‌ایم.</p>\n",
    "<p>خط ۸ مهم‌ترین خط است. ما از تابع داخلی \n",
    "read_csv()\n",
    " از پانداس استفاده می‌کنیم. همانطور که آشنا هستید، این تابع برخی آرگومان‌ها را به شرح زیر می‌پذیرد:</p>\n",
    "<ul>\n",
    "<li>path: مسیر به مجموعه داده</li>\n",
    "<li>header: در صورتی که ستون‌ها به صراحت ارائه شده‌اند، به None تنظیم می‌شود.</li>\n",
    "<li>names: لیستی از نام‌های ستون‌ها که قرار است استفاده شوند</li>\n",
    "<li>delim_whitespace: مشخص می‌کند که آیا فضای خالی باید به عنوان sep استفاده شود یا نه</li>\n",
    "</ul>\n",
    "<p>پس برای \n",
    "path\n",
    "، ما آدرس فایل را می‌دهیم: \n",
    "statics/data/02_12_auto-mpg.data\n",
    ". از آنجا که ما نام‌های ستون‌ها را می‌دانیم و آنها را به صراحت به تابع به عنوان \n",
    "names=names\n",
    " داده‌ایم، \n",
    " header\n",
    "  را به عنوان \n",
    "  None\n",
    "   تنظیم کرده‌ایم. کفته شده که میان داده‌ها فضاهای خالی وجود دارند و ما باید آنها را به عنوان \n",
    "   sep\n",
    "    استفاده کنیم، بنابراین \n",
    "    delim_whitespace\n",
    "     به \n",
    "     true\n",
    "      تنظیم شده است. این تابع داخلی یک \n",
    "      dataframe df\n",
    "       را به عنوان نتیجه برمی‌گرداند. در خط ۹، ما شکل، یک ویژگی از \n",
    "       dataframe df\n",
    "        را برمی‌گردانیم.</p>\n",
    "<p>حالا، به خط ۱۲ نگاه کنید، جایی که ما تابع \n",
    "read_csv()\n",
    " را فرا می‌خوانیم. این یک دوتایی به شکل (ردیف‌ها، ستون‌ها) را برمی‌گرداند، که در نهایت چاپ می‌شود. برای این مجموعه داده، تابع \n",
    " (398, 9)\n",
    "  را برمی‌گرداند زیرا ۳۹۸ ردیف و ۹ ستون وجود دارد.</p>\n",
    "</div>\n"
   ]
  }
 ],
 "metadata": {
  "kernelspec": {
   "display_name": "venv",
   "language": "python",
   "name": "python3"
  },
  "language_info": {
   "codemirror_mode": {
    "name": "ipython",
    "version": 3
   },
   "file_extension": ".py",
   "mimetype": "text/x-python",
   "name": "python",
   "nbconvert_exporter": "python",
   "pygments_lexer": "ipython3",
   "version": "3.11.8"
  }
 },
 "nbformat": 4,
 "nbformat_minor": 2
}
