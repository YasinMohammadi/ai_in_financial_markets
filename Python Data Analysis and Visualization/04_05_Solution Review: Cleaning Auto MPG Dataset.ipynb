{
 "cells": [
  {
   "cell_type": "markdown",
   "metadata": {},
   "source": [
    "<div dir=\"rtl\" style=\"text-align: right;\">\n",
    "<h1>بررسی راه‌حل: پاک‌سازی مجموعه داده‌های مصرف سوخت خودرو</h1>\n",
    "\n",
    "<h2>پاک‌سازی مجموعه داده‌های مصرف سوخت خودرو</h2>\n",
    "\n",
    "</div>\n"
   ]
  },
  {
   "cell_type": "code",
   "execution_count": 2,
   "metadata": {},
   "outputs": [
    {
     "name": "stdout",
     "output_type": "stream",
     "text": [
      "       mpg  cylinders  displacement  weight  acceleration  model_year  origin\n",
      "0.9  34.33        8.0         350.0  4275.2          19.0        81.0     3.0\n",
      "0.1  14.00        4.0          90.0  1988.5          12.0        71.0     1.0\n"
     ]
    },
    {
     "name": "stderr",
     "output_type": "stream",
     "text": [
      "/tmp/ipykernel_14777/1616085929.py:7: FutureWarning: The 'delim_whitespace' keyword in pd.read_csv is deprecated and will be removed in a future version. Use ``sep='\\s+'`` instead\n",
      "  df = pd.read_csv(\"statics/data/02_12_auto-mpg.data\", header=None, names=names, delim_whitespace=True)\n",
      "/tmp/ipykernel_14777/1616085929.py:7: FutureWarning: The 'delim_whitespace' keyword in pd.read_csv is deprecated and will be removed in a future version. Use ``sep='\\s+'`` instead\n",
      "  df = pd.read_csv(\"statics/data/02_12_auto-mpg.data\", header=None, names=names, delim_whitespace=True)\n"
     ]
    }
   ],
   "source": [
    "import pandas as pd\n",
    "\n",
    "def read_csv():\n",
    "    # تعیین نام ستون‌ها\n",
    "    names = [\"mpg\", \"cylinders\", \"displacement\", \"horsepower\", \"weight\", \"acceleration\", \"model_year\", \"origin\", \"car_name\"]\n",
    "    # خواندن فایل \n",
    "    df = pd.read_csv(\"statics/data/02_12_auto-mpg.data\", header=None, names=names, delim_whitespace=True)\n",
    "    return df\n",
    "\n",
    "df = read_csv() \n",
    "\n",
    "# حذف داده‌های نابهنجار\n",
    "def outlier_detection(df):\n",
    "    df = df.quantile([.90, .10], numeric_only=True)\n",
    "    return df\n",
    "\n",
    "print(outlier_detection(read_csv()))"
   ]
  },
  {
   "cell_type": "markdown",
   "metadata": {},
   "source": [
    "<div dir=\"rtl\" style=\"text-align: right;\">\n",
    "\n",
    "\n",
    "<p>بر اساس بیان مسئله، ما باید درصدها\n",
    "(percentile)\n",
    " را از داده‌های مجموعه داده \n",
    "Auto MPG\n",
    " برای تمام ستون‌ها پیدا کنیم. قبل از انجام آن، باید ابتدا داده‌ها را بخوانیم. نیازی به توضیح نحوه خواندن داده‌ها نیست، زیرا ما آن را قبلاً به طور مفصل مطالعه کردیم. مجموعه داده از خط ۴ تا خط ۸ خوانده می‌شود.</p>\n",
    "<p>به سمت پیاده‌سازی اصلی، به سربرگ تابع <code>outlier_detection(df)</code> در خط ۱۱ نگاه کنید. این تابع یک آرگومان به عنوان ورودی می‌گیرد:</p>\n",
    "<ul>\n",
    "<li>df: یک دیتافریم حاوی مجموعه داده‌ها به شکل یک ماتریس.</li>\n",
    "</ul>\n",
    "<p>خط ۱۲ مهم‌ترین خط است. ما از تابع داخلی \n",
    "<code>quantile()</code>\n",
    " روی \n",
    " df\n",
    "  استفاده می‌کنیم که یک آرگومان را می‌گیرد: [.90, .10]. ما محدوده‌ای برای چارک‌ها مشخص می‌کنیم که باید بین ۰.۹۰ و ۰.۱۰ باشد. این کار دو عدد را در یک لیست برای هر ستون برمی‌گرداند.</p>\n",
    "<p>در خط ۱۵ ما تابع \n",
    "<code>outlier_detection(read_csv())</code>\n",
    " را فراخوانی می‌کنیم. ابتدا کنترل به \n",
    " <code>read_csv()</code>\n",
    "  در خط ۳ منتقل می‌شود و ما یک دیتافریم دریافت می‌کنیم. سپس کنترل به خط ۱۱ منتقل می‌شود و درصدها ۹۰ام و ۱۰ام برای هر ستون برگردانده می‌شوند.</p>\n",
    "<p>برای نتیجه، شما متوجه خواهید شد که درصدها چاپ می‌شوند. به عنوان مثال، درصد ۹۰ام و ۱۰ام برای \n",
    "mpg\n",
    " به ترتیب ۳۴.۳۳ و ۱۴.۰۰ است.</p>\n",
    "</div>\n"
   ]
  }
 ],
 "metadata": {
  "kernelspec": {
   "display_name": "venv",
   "language": "python",
   "name": "python3"
  },
  "language_info": {
   "codemirror_mode": {
    "name": "ipython",
    "version": 3
   },
   "file_extension": ".py",
   "mimetype": "text/x-python",
   "name": "python",
   "nbconvert_exporter": "python",
   "pygments_lexer": "ipython3",
   "version": "3.11.8"
  }
 },
 "nbformat": 4,
 "nbformat_minor": 2
}
