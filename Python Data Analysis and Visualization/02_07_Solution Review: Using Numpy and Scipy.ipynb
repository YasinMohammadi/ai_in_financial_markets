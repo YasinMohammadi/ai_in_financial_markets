{
 "cells": [
  {
   "cell_type": "markdown",
   "metadata": {},
   "source": [
    "<div dir=\"rtl\" style=\"text-align: right;\">\n",
    "<h1>بررسی راه‌حل: استفاده از Numpy و Scipy</h1>\n",
    "\n",
    "<h2>Numpy</h2>\n",
    "<p>بر اساس بیان مسئله، ما نیاز به این چهار مقدار با استفاده از یک آرایه ۱-بعدی \n",
    "Numpy\n",
    " به عنوان خروجی داشتیم: بیشینه، انحراف معیار، مجموع، و ضرب نقطه‌ای.\n",
    " </p>\n",
    "</div>"
   ]
  },
  {
   "cell_type": "code",
   "execution_count": 3,
   "metadata": {},
   "outputs": [
    {
     "name": "stdout",
     "output_type": "stream",
     "text": [
      "(0.9735289765297934, 0.2262858013946977, 3.15938503491697, 2.2523690793356637)\n"
     ]
    }
   ],
   "source": [
    "import numpy as np  # اضافه کردن Numpy\n",
    "\n",
    "def perform_calculations(array): \n",
    "\n",
    "    # بازگشت مقادیر خواسته شده\n",
    "    return np.max(array), np.std(array), np.sum(array), np.dot(array, array)\n",
    "\n",
    "# فراخوانی تابع و چاپ نتایج\n",
    "print(perform_calculations(np.random.rand(5))) "
   ]
  },
  {
   "cell_type": "markdown",
   "metadata": {},
   "source": [
    "<div dir=\"rtl\" style=\"text-align: right;\">\n",
    "\n",
    "</p> در کد بالا، در خط ۱ ما ماژول \n",
    " Numpy\n",
    "  را برای این منظور وارد کردیم. سپس، ما تابع \n",
    "  perform_calculations()\n",
    "   را پیاده‌سازی کردیم.</p>\n",
    "<p> این تابع یک آرگومان، آرایه به عنوان ورودی می‌گیرد. در خط ۶، ما چهار تابع داخلی برای خروجی‌های مورد نیاز فراخوانی کردیم:</p>\n",
    "<ul>\n",
    "<li>numpy.max(array): بیشترین مقدار از آرایه را برمی‌گرداند.</li>\n",
    "<li>numpy.std(array): انحراف معیار بین مقادیر آرایه را برمی‌گرداند.</li>\n",
    "<li>numpy.sum(array): مجموع تمام مقادیر آرایه را برمی‌گرداند.</li>\n",
    "<li>numpy.dot(array, array): ضرب نقطه‌ای آرایه با خودش را برمی‌گرداند.</li>\n",
    "</ul>\n",
    "<p>حالا به خط ۹ نگاه کنید جایی که ما تابع \n",
    "perform_calculations(array)\n",
    " را فراخوانی می‌کنیم. ما یک آرایه از پنج مقدار تصادفی را با استفاده از \n",
    " np.random.rand(5)\n",
    "  تولید می‌کنیم. این آرایه به تابع \n",
    "  perform_calculations(array)\n",
    "   منتقل می‌شود، و در نهایت بیشینه، انحراف معیار، مجموع، و ضرب نقطه‌ای چاپ می‌شوند.</p>\n",
    "\n",
    "</div>"
   ]
  },
  {
   "cell_type": "markdown",
   "metadata": {},
   "source": [
    "<div dir=\"rtl\" style=\"text-align: right;\">\n",
    "\n",
    "<h2>Scipy</h2>\n",
    "\n",
    "<p>بر اساس بیان مسئله، ما باید همبستگی، و مقدار \n",
    "p-value\n",
    "را برای دو آرایه ۱-بعدی نامپای به عنوان خروجی به دست بیاورییم: \n",
    "</p>\n",
    "\n",
    "\n",
    "</div>"
   ]
  },
  {
   "cell_type": "code",
   "execution_count": 4,
   "metadata": {},
   "outputs": [
    {
     "name": "stdout",
     "output_type": "stream",
     "text": [
      "PearsonRResult(statistic=0.23477398766450347, pvalue=0.7038456902654241)\n"
     ]
    }
   ],
   "source": [
    "from scipy import stats  #اضافه کردن scipy \n",
    "import numpy as np       #اضافه کردن numpy \n",
    "\n",
    "def correlation(array1, array2):\n",
    "\n",
    "  # بازگشت مقادیر خواسته شده\n",
    "  return stats.pearsonr(array1, array2)\n",
    "\n",
    "# فراخوانی تابع و چاپ نتایج\n",
    "print(correlation(np.random.rand(5),np.random.rand(5))) "
   ]
  },
  {
   "cell_type": "markdown",
   "metadata": {},
   "source": [
    "<div dir=\"rtl\" style=\"text-align: right;\">\n",
    "\n",
    "\n",
    "\n",
    "<p>\n",
    ". در کد بالا، در خط ۱ ما ماژول \n",
    "stats\n",
    " را از کتابخانه \n",
    " Scipy\n",
    "  برای این منظور وارد کردیم. سپس، تابع \n",
    "  correlation()\n",
    "   را پیاده‌سازی کردیم.</p>\n",
    "<p>. این تابع دو آرگومان، \n",
    "array1\n",
    " و \n",
    " array2\n",
    "  به عنوان ورودی می‌گیرد. در خط ۷،  یک تابع داخلی برای خروجی مورد نیاز فراخوانی کردیم:</p>\n",
    "<ul>\n",
    "<li>stats.pearsonr(array1, array2): همبستگی و مقدار p-value بین array1 و array2 را برمی‌گرداند.</li>\n",
    "</ul>\n",
    "<p>حالا به خط ۱۰ نگاه کنید جایی که تابع \n",
    "correlation(array1, array2)\n",
    " را فراخوانی می‌کنیم. دو آرایه هر کدام از پنج مقدار تصادفی را با استفاده از \n",
    " np.random.rand(5)\n",
    "  تولید می‌کنیم که سپس به تابع \n",
    "  correlation(array1, array2)\n",
    "   منتقل می‌شوند، و همبستگی و مقدار \n",
    "   p-value\n",
    "    به صورت یک \n",
    "    tuple\n",
    "     در پایان چاپ می‌شوند.</p>\n",
    "</div>"
   ]
  }
 ],
 "metadata": {
  "kernelspec": {
   "display_name": "venv",
   "language": "python",
   "name": "python3"
  },
  "language_info": {
   "codemirror_mode": {
    "name": "ipython",
    "version": 3
   },
   "file_extension": ".py",
   "mimetype": "text/x-python",
   "name": "python",
   "nbconvert_exporter": "python",
   "pygments_lexer": "ipython3",
   "version": "3.11.8"
  }
 },
 "nbformat": 4,
 "nbformat_minor": 2
}
